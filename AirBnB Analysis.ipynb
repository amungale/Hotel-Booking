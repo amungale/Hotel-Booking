{
 "cells": [
  {
   "cell_type": "code",
   "execution_count": 8,
   "metadata": {
    "collapsed": false
   },
   "outputs": [
    {
     "name": "stdout",
     "output_type": "stream",
     "text": [
      "Populating the interactive namespace from numpy and matplotlib\n"
     ]
    }
   ],
   "source": [
    "%pylab inline\n",
    "import numpy as np\n",
    "import pandas as pd\n",
    "import matplotlib.pyplot as plt\n",
    "import seaborn as sns\n",
    "\n",
    "country_summary = pd.read_csv('countries.csv')\n",
    "user_summary = pd.read_csv('age_gender_bkts.csv')\n",
    "users = pd.read_csv('train_users_2.csv')\n",
    "sessions = pd.read_csv('sessions.csv')"
   ]
  },
  {
   "cell_type": "markdown",
   "metadata": {
    "collapsed": true
   },
   "source": [
    "# Predicting Hotel Bookings"
   ]
  },
  {
   "cell_type": "markdown",
   "metadata": {
    "collapsed": true
   },
   "source": [
    "## Introduction to Problem"
   ]
  },
  {
   "cell_type": "markdown",
   "metadata": {
    "collapsed": true
   },
   "source": [
    "We are explorinng data from a popular crowdsourcing company in the hotel industry. We are attempting to predict if a new user who signs up for the website will make a booking, and if so, which country they will make that booking in. This insight would be valuable in helping the company both increase sales and improve user experience by allowing the the company to present relevant booking suggestions for the specific user."
   ]
  },
  {
   "cell_type": "markdown",
   "metadata": {
    "collapsed": true
   },
   "source": [
    "## Examine and Clean Data"
   ]
  },
  {
   "cell_type": "markdown",
   "metadata": {},
   "source": [
    "Our data set consists of three different tables: user summary statistics, country summary statistics, user web session data, and user data and their first bookings (if any). We have 213,451 data points to work with, but the data is not clean we have many missing fields. The data from 2010 to 2014. Below are some excerpts of our data set, as well as some code to clean, subset, and reshape our data for exploration. The user summary statistics present summary information on new users in 2015 - we may reference this later to see if user preferences change from the 2010-2014 period, but the data is limited so we will ignore it for now. The web session data set include information on how the user interacted with the website, which may be interesting in terms of website improvement, but not particualrly helpful in predicting destination choices. For the sake of this analysis, we will be working with the country summary statistics and the main data set, joining the two tables by the First Destination Country of the user. We may also join the web sesions data just in case we see any patterns in terms of method of access to the website."
   ]
  },
  {
   "cell_type": "markdown",
   "metadata": {},
   "source": [
    "### Country Summary Statistics"
   ]
  },
  {
   "cell_type": "markdown",
   "metadata": {},
   "source": [
    "Lets begin by examining our summary statistic table for the countries of travel."
   ]
  },
  {
   "cell_type": "code",
   "execution_count": 9,
   "metadata": {
    "collapsed": false,
    "scrolled": false
   },
   "outputs": [
    {
     "data": {
      "text/html": [
       "<div>\n",
       "<table border=\"1\" class=\"dataframe\">\n",
       "  <thead>\n",
       "    <tr style=\"text-align: right;\">\n",
       "      <th></th>\n",
       "      <th>country_destination</th>\n",
       "      <th>lat_destination</th>\n",
       "      <th>lng_destination</th>\n",
       "      <th>distance_km</th>\n",
       "      <th>destination_km2</th>\n",
       "      <th>destination_language</th>\n",
       "      <th>language_levenshtein_distance</th>\n",
       "    </tr>\n",
       "  </thead>\n",
       "  <tbody>\n",
       "    <tr>\n",
       "      <th>0</th>\n",
       "      <td>AU</td>\n",
       "      <td>-26.853388</td>\n",
       "      <td>133.275160</td>\n",
       "      <td>15297.7440</td>\n",
       "      <td>7741220.0</td>\n",
       "      <td>eng</td>\n",
       "      <td>0.00</td>\n",
       "    </tr>\n",
       "    <tr>\n",
       "      <th>1</th>\n",
       "      <td>CA</td>\n",
       "      <td>62.393303</td>\n",
       "      <td>-96.818146</td>\n",
       "      <td>2828.1333</td>\n",
       "      <td>9984670.0</td>\n",
       "      <td>eng</td>\n",
       "      <td>0.00</td>\n",
       "    </tr>\n",
       "    <tr>\n",
       "      <th>2</th>\n",
       "      <td>DE</td>\n",
       "      <td>51.165707</td>\n",
       "      <td>10.452764</td>\n",
       "      <td>7879.5680</td>\n",
       "      <td>357022.0</td>\n",
       "      <td>deu</td>\n",
       "      <td>72.61</td>\n",
       "    </tr>\n",
       "    <tr>\n",
       "      <th>3</th>\n",
       "      <td>ES</td>\n",
       "      <td>39.896027</td>\n",
       "      <td>-2.487694</td>\n",
       "      <td>7730.7240</td>\n",
       "      <td>505370.0</td>\n",
       "      <td>spa</td>\n",
       "      <td>92.25</td>\n",
       "    </tr>\n",
       "    <tr>\n",
       "      <th>4</th>\n",
       "      <td>FR</td>\n",
       "      <td>46.232193</td>\n",
       "      <td>2.209667</td>\n",
       "      <td>7682.9450</td>\n",
       "      <td>643801.0</td>\n",
       "      <td>fra</td>\n",
       "      <td>92.06</td>\n",
       "    </tr>\n",
       "  </tbody>\n",
       "</table>\n",
       "</div>"
      ],
      "text/plain": [
       "  country_destination  lat_destination  lng_destination  distance_km  \\\n",
       "0                  AU       -26.853388       133.275160   15297.7440   \n",
       "1                  CA        62.393303       -96.818146    2828.1333   \n",
       "2                  DE        51.165707        10.452764    7879.5680   \n",
       "3                  ES        39.896027        -2.487694    7730.7240   \n",
       "4                  FR        46.232193         2.209667    7682.9450   \n",
       "\n",
       "   destination_km2 destination_language   language_levenshtein_distance  \n",
       "0        7741220.0                   eng                           0.00  \n",
       "1        9984670.0                   eng                           0.00  \n",
       "2         357022.0                   deu                          72.61  \n",
       "3         505370.0                   spa                          92.25  \n",
       "4         643801.0                   fra                          92.06  "
      ]
     },
     "execution_count": 9,
     "metadata": {},
     "output_type": "execute_result"
    }
   ],
   "source": [
    "country_summary.head()"
   ]
  },
  {
   "cell_type": "markdown",
   "metadata": {},
   "source": [
    "We can see below that we are working with 9 different countires, their locations, and some other statitics. With some quick research, we find the definitions of the country and language codes and append these values to our table. "
   ]
  },
  {
   "cell_type": "code",
   "execution_count": 10,
   "metadata": {
    "collapsed": false
   },
   "outputs": [],
   "source": [
    "country_summary['countries'] = ['Australia', 'Canada', 'Germany', 'Spain', 'France', \n",
    "                                     'United Kingdom', 'Italy', 'Netherlands', 'Portugal', 'United States']\n",
    "country_summary['languages'] = ['English', 'English', 'German', 'Spanish', 'French', \n",
    "                                'English', 'Italian', 'Dutch', 'Portuguese', 'English']"
   ]
  },
  {
   "cell_type": "markdown",
   "metadata": {},
   "source": [
    "With a little additional research, the distance_km column indicates the distance between the United States and the country in each row. We can see that the distance_km for US is 0. Additionally, there is a column destination_km2, which appears to be distances to the destination squared. We can tell by the massive distances, the Earth has a circumference of about 40,000 km for reference. Lets adjust. Since we have these values, we can also remove longitude and latitude information. "
   ]
  },
  {
   "cell_type": "code",
   "execution_count": 11,
   "metadata": {
    "collapsed": false,
    "scrolled": true
   },
   "outputs": [],
   "source": [
    "country_summary['destination_dst'] = np.sqrt(country_summary['destination_km2'])\n",
    "del country_summary[\"destination_km2\"] \n",
    "del country_summary[\"lat_destination\"]\n",
    "del country_summary[\"lng_destination\"]"
   ]
  },
  {
   "cell_type": "code",
   "execution_count": 12,
   "metadata": {
    "collapsed": false
   },
   "outputs": [
    {
     "data": {
      "text/html": [
       "<div>\n",
       "<table border=\"1\" class=\"dataframe\">\n",
       "  <thead>\n",
       "    <tr style=\"text-align: right;\">\n",
       "      <th></th>\n",
       "      <th>country_destination</th>\n",
       "      <th>distance_km</th>\n",
       "      <th>destination_language</th>\n",
       "      <th>language_levenshtein_distance</th>\n",
       "      <th>countries</th>\n",
       "      <th>languages</th>\n",
       "      <th>destination_dst</th>\n",
       "    </tr>\n",
       "  </thead>\n",
       "  <tbody>\n",
       "    <tr>\n",
       "      <th>0</th>\n",
       "      <td>AU</td>\n",
       "      <td>15297.7440</td>\n",
       "      <td>eng</td>\n",
       "      <td>0.00</td>\n",
       "      <td>Australia</td>\n",
       "      <td>English</td>\n",
       "      <td>2782.304800</td>\n",
       "    </tr>\n",
       "    <tr>\n",
       "      <th>1</th>\n",
       "      <td>CA</td>\n",
       "      <td>2828.1333</td>\n",
       "      <td>eng</td>\n",
       "      <td>0.00</td>\n",
       "      <td>Canada</td>\n",
       "      <td>English</td>\n",
       "      <td>3159.852845</td>\n",
       "    </tr>\n",
       "    <tr>\n",
       "      <th>2</th>\n",
       "      <td>DE</td>\n",
       "      <td>7879.5680</td>\n",
       "      <td>deu</td>\n",
       "      <td>72.61</td>\n",
       "      <td>Germany</td>\n",
       "      <td>German</td>\n",
       "      <td>597.513180</td>\n",
       "    </tr>\n",
       "    <tr>\n",
       "      <th>3</th>\n",
       "      <td>ES</td>\n",
       "      <td>7730.7240</td>\n",
       "      <td>spa</td>\n",
       "      <td>92.25</td>\n",
       "      <td>Spain</td>\n",
       "      <td>Spanish</td>\n",
       "      <td>710.893804</td>\n",
       "    </tr>\n",
       "    <tr>\n",
       "      <th>4</th>\n",
       "      <td>FR</td>\n",
       "      <td>7682.9450</td>\n",
       "      <td>fra</td>\n",
       "      <td>92.06</td>\n",
       "      <td>France</td>\n",
       "      <td>French</td>\n",
       "      <td>802.372108</td>\n",
       "    </tr>\n",
       "    <tr>\n",
       "      <th>5</th>\n",
       "      <td>GB</td>\n",
       "      <td>6883.6590</td>\n",
       "      <td>eng</td>\n",
       "      <td>0.00</td>\n",
       "      <td>United Kingdom</td>\n",
       "      <td>English</td>\n",
       "      <td>493.568638</td>\n",
       "    </tr>\n",
       "    <tr>\n",
       "      <th>6</th>\n",
       "      <td>IT</td>\n",
       "      <td>8636.6310</td>\n",
       "      <td>ita</td>\n",
       "      <td>89.40</td>\n",
       "      <td>Italy</td>\n",
       "      <td>Italian</td>\n",
       "      <td>548.944442</td>\n",
       "    </tr>\n",
       "    <tr>\n",
       "      <th>7</th>\n",
       "      <td>NL</td>\n",
       "      <td>7524.3203</td>\n",
       "      <td>nld</td>\n",
       "      <td>63.22</td>\n",
       "      <td>Netherlands</td>\n",
       "      <td>Dutch</td>\n",
       "      <td>203.821000</td>\n",
       "    </tr>\n",
       "    <tr>\n",
       "      <th>8</th>\n",
       "      <td>PT</td>\n",
       "      <td>7355.2534</td>\n",
       "      <td>por</td>\n",
       "      <td>95.45</td>\n",
       "      <td>Portugal</td>\n",
       "      <td>Portuguese</td>\n",
       "      <td>303.463342</td>\n",
       "    </tr>\n",
       "    <tr>\n",
       "      <th>9</th>\n",
       "      <td>US</td>\n",
       "      <td>0.0000</td>\n",
       "      <td>eng</td>\n",
       "      <td>0.00</td>\n",
       "      <td>United States</td>\n",
       "      <td>English</td>\n",
       "      <td>3134.752781</td>\n",
       "    </tr>\n",
       "  </tbody>\n",
       "</table>\n",
       "</div>"
      ],
      "text/plain": [
       "  country_destination  distance_km destination_language   \\\n",
       "0                  AU   15297.7440                   eng   \n",
       "1                  CA    2828.1333                   eng   \n",
       "2                  DE    7879.5680                   deu   \n",
       "3                  ES    7730.7240                   spa   \n",
       "4                  FR    7682.9450                   fra   \n",
       "5                  GB    6883.6590                   eng   \n",
       "6                  IT    8636.6310                   ita   \n",
       "7                  NL    7524.3203                   nld   \n",
       "8                  PT    7355.2534                   por   \n",
       "9                  US       0.0000                   eng   \n",
       "\n",
       "   language_levenshtein_distance       countries   languages  destination_dst  \n",
       "0                           0.00       Australia     English      2782.304800  \n",
       "1                           0.00          Canada     English      3159.852845  \n",
       "2                          72.61         Germany      German       597.513180  \n",
       "3                          92.25           Spain     Spanish       710.893804  \n",
       "4                          92.06          France      French       802.372108  \n",
       "5                           0.00  United Kingdom     English       493.568638  \n",
       "6                          89.40           Italy     Italian       548.944442  \n",
       "7                          63.22     Netherlands       Dutch       203.821000  \n",
       "8                          95.45        Portugal  Portuguese       303.463342  \n",
       "9                           0.00   United States     English      3134.752781  "
      ]
     },
     "execution_count": 12,
     "metadata": {},
     "output_type": "execute_result"
    }
   ],
   "source": [
    "country_summary"
   ]
  },
  {
   "cell_type": "markdown",
   "metadata": {
    "collapsed": true
   },
   "source": [
    "After adjusting the distances using the numpy sqrt function, we can see that the 'destination_km'apperas to be the distance from the country to the actual hotel destinations. We see that travelers who stay within the US or go to Canada have to travel the further to their destination upon reching the country, while travelers going to the smaller European countries consistently travel less than 1000 km upon reaching the country. Finally, lets look at the column language_levenshtein_distance. Levenshtein distance is a metric used to guage the differences in the language by measuring the number of single character edits used to change a word into another. While we don't know the exact computation of the Levenshtein distances in the table, we can use it as a quantifiable difference between English and the language of the destination country (assuming that language is not English). We can see that of the non-English speaking destinations, Dutch is the most similar and Portuguese is the most different. "
   ]
  },
  {
   "cell_type": "markdown",
   "metadata": {},
   "source": [
    "### Main User Data"
   ]
  },
  {
   "cell_type": "markdown",
   "metadata": {},
   "source": [
    "Lets take a look at our main user data set. We have 213451 entries, with 16 columns, shown below. "
   ]
  },
  {
   "cell_type": "code",
   "execution_count": 13,
   "metadata": {
    "collapsed": false
   },
   "outputs": [
    {
     "data": {
      "text/plain": [
       "(16, 213451)"
      ]
     },
     "execution_count": 13,
     "metadata": {},
     "output_type": "execute_result"
    }
   ],
   "source": [
    "len(users.columns),len(users)"
   ]
  },
  {
   "cell_type": "code",
   "execution_count": 14,
   "metadata": {
    "collapsed": false,
    "scrolled": true
   },
   "outputs": [
    {
     "data": {
      "text/plain": [
       "Index(['id', 'date_account_created', 'timestamp_first_active',\n",
       "       'date_first_booking', 'gender', 'age', 'signup_method', 'signup_flow',\n",
       "       'language', 'affiliate_channel', 'affiliate_provider',\n",
       "       'first_affiliate_tracked', 'signup_app', 'first_device_type',\n",
       "       'first_browser', 'country_destination'],\n",
       "      dtype='object')"
      ]
     },
     "execution_count": 14,
     "metadata": {},
     "output_type": "execute_result"
    }
   ],
   "source": [
    "users.columns"
   ]
  },
  {
   "cell_type": "code",
   "execution_count": 15,
   "metadata": {
    "collapsed": false,
    "scrolled": true
   },
   "outputs": [
    {
     "data": {
      "text/html": [
       "<div>\n",
       "<table border=\"1\" class=\"dataframe\">\n",
       "  <thead>\n",
       "    <tr style=\"text-align: right;\">\n",
       "      <th></th>\n",
       "      <th>id</th>\n",
       "      <th>date_account_created</th>\n",
       "      <th>timestamp_first_active</th>\n",
       "      <th>date_first_booking</th>\n",
       "      <th>gender</th>\n",
       "      <th>age</th>\n",
       "      <th>signup_method</th>\n",
       "      <th>signup_flow</th>\n",
       "      <th>language</th>\n",
       "      <th>affiliate_channel</th>\n",
       "      <th>affiliate_provider</th>\n",
       "      <th>first_affiliate_tracked</th>\n",
       "      <th>signup_app</th>\n",
       "      <th>first_device_type</th>\n",
       "      <th>first_browser</th>\n",
       "      <th>country_destination</th>\n",
       "    </tr>\n",
       "  </thead>\n",
       "  <tbody>\n",
       "    <tr>\n",
       "      <th>0</th>\n",
       "      <td>gxn3p5htnn</td>\n",
       "      <td>2010-06-28</td>\n",
       "      <td>20090319043255</td>\n",
       "      <td>NaN</td>\n",
       "      <td>-unknown-</td>\n",
       "      <td>NaN</td>\n",
       "      <td>facebook</td>\n",
       "      <td>0</td>\n",
       "      <td>en</td>\n",
       "      <td>direct</td>\n",
       "      <td>direct</td>\n",
       "      <td>untracked</td>\n",
       "      <td>Web</td>\n",
       "      <td>Mac Desktop</td>\n",
       "      <td>Chrome</td>\n",
       "      <td>NDF</td>\n",
       "    </tr>\n",
       "    <tr>\n",
       "      <th>1</th>\n",
       "      <td>820tgsjxq7</td>\n",
       "      <td>2011-05-25</td>\n",
       "      <td>20090523174809</td>\n",
       "      <td>NaN</td>\n",
       "      <td>MALE</td>\n",
       "      <td>38.0</td>\n",
       "      <td>facebook</td>\n",
       "      <td>0</td>\n",
       "      <td>en</td>\n",
       "      <td>seo</td>\n",
       "      <td>google</td>\n",
       "      <td>untracked</td>\n",
       "      <td>Web</td>\n",
       "      <td>Mac Desktop</td>\n",
       "      <td>Chrome</td>\n",
       "      <td>NDF</td>\n",
       "    </tr>\n",
       "    <tr>\n",
       "      <th>2</th>\n",
       "      <td>4ft3gnwmtx</td>\n",
       "      <td>2010-09-28</td>\n",
       "      <td>20090609231247</td>\n",
       "      <td>2010-08-02</td>\n",
       "      <td>FEMALE</td>\n",
       "      <td>56.0</td>\n",
       "      <td>basic</td>\n",
       "      <td>3</td>\n",
       "      <td>en</td>\n",
       "      <td>direct</td>\n",
       "      <td>direct</td>\n",
       "      <td>untracked</td>\n",
       "      <td>Web</td>\n",
       "      <td>Windows Desktop</td>\n",
       "      <td>IE</td>\n",
       "      <td>US</td>\n",
       "    </tr>\n",
       "    <tr>\n",
       "      <th>3</th>\n",
       "      <td>bjjt8pjhuk</td>\n",
       "      <td>2011-12-05</td>\n",
       "      <td>20091031060129</td>\n",
       "      <td>2012-09-08</td>\n",
       "      <td>FEMALE</td>\n",
       "      <td>42.0</td>\n",
       "      <td>facebook</td>\n",
       "      <td>0</td>\n",
       "      <td>en</td>\n",
       "      <td>direct</td>\n",
       "      <td>direct</td>\n",
       "      <td>untracked</td>\n",
       "      <td>Web</td>\n",
       "      <td>Mac Desktop</td>\n",
       "      <td>Firefox</td>\n",
       "      <td>other</td>\n",
       "    </tr>\n",
       "    <tr>\n",
       "      <th>4</th>\n",
       "      <td>87mebub9p4</td>\n",
       "      <td>2010-09-14</td>\n",
       "      <td>20091208061105</td>\n",
       "      <td>2010-02-18</td>\n",
       "      <td>-unknown-</td>\n",
       "      <td>41.0</td>\n",
       "      <td>basic</td>\n",
       "      <td>0</td>\n",
       "      <td>en</td>\n",
       "      <td>direct</td>\n",
       "      <td>direct</td>\n",
       "      <td>untracked</td>\n",
       "      <td>Web</td>\n",
       "      <td>Mac Desktop</td>\n",
       "      <td>Chrome</td>\n",
       "      <td>US</td>\n",
       "    </tr>\n",
       "  </tbody>\n",
       "</table>\n",
       "</div>"
      ],
      "text/plain": [
       "           id date_account_created  timestamp_first_active date_first_booking  \\\n",
       "0  gxn3p5htnn           2010-06-28          20090319043255                NaN   \n",
       "1  820tgsjxq7           2011-05-25          20090523174809                NaN   \n",
       "2  4ft3gnwmtx           2010-09-28          20090609231247         2010-08-02   \n",
       "3  bjjt8pjhuk           2011-12-05          20091031060129         2012-09-08   \n",
       "4  87mebub9p4           2010-09-14          20091208061105         2010-02-18   \n",
       "\n",
       "      gender   age signup_method  signup_flow language affiliate_channel  \\\n",
       "0  -unknown-   NaN      facebook            0       en            direct   \n",
       "1       MALE  38.0      facebook            0       en               seo   \n",
       "2     FEMALE  56.0         basic            3       en            direct   \n",
       "3     FEMALE  42.0      facebook            0       en            direct   \n",
       "4  -unknown-  41.0         basic            0       en            direct   \n",
       "\n",
       "  affiliate_provider first_affiliate_tracked signup_app first_device_type  \\\n",
       "0             direct               untracked        Web       Mac Desktop   \n",
       "1             google               untracked        Web       Mac Desktop   \n",
       "2             direct               untracked        Web   Windows Desktop   \n",
       "3             direct               untracked        Web       Mac Desktop   \n",
       "4             direct               untracked        Web       Mac Desktop   \n",
       "\n",
       "  first_browser country_destination  \n",
       "0        Chrome                 NDF  \n",
       "1        Chrome                 NDF  \n",
       "2            IE                  US  \n",
       "3       Firefox               other  \n",
       "4        Chrome                  US  "
      ]
     },
     "execution_count": 15,
     "metadata": {},
     "output_type": "execute_result"
    }
   ],
   "source": [
    "users.head()"
   ]
  },
  {
   "cell_type": "markdown",
   "metadata": {},
   "source": [
    "We have unique identifier, the date of account creation, and the timestamp of activation. Since we already have the date of account creation, we do not need to first active time. We also have the date of the first booking, gender, age and signup method. Signup flow is the page a user came to sign up from. We have language, which is the user's international language preference. We also have Affiliate data and date about each user's first signup. Since we have the first device, browser, and signup method, we will not need more detailed web session data. Finally, we have their first destination country. Several of these columns will be helpful in analyzing user booking patterns."
   ]
  },
  {
   "cell_type": "markdown",
   "metadata": {
    "collapsed": true
   },
   "source": [
    "### Further Explorartion and Data Cleanup"
   ]
  },
  {
   "cell_type": "markdown",
   "metadata": {
    "collapsed": true
   },
   "source": [
    "Lets explore the NA values and missing data among our set. We will also clean up \"bad\" data, where users may have incorrectly entered data or falsified personal information. First lets delete columns we will not be using."
   ]
  },
  {
   "cell_type": "code",
   "execution_count": 16,
   "metadata": {
    "collapsed": false
   },
   "outputs": [],
   "source": [
    "del users['timestamp_first_active']\n",
    "del users['signup_flow']\n",
    "del users['affiliate_channel']\n",
    "del users['first_affiliate_tracked']"
   ]
  },
  {
   "cell_type": "code",
   "execution_count": 17,
   "metadata": {
    "collapsed": false
   },
   "outputs": [],
   "source": [
    "users['gender'].unique()\n",
    "users['gender']=users['gender'].replace('-unknown-', np.nan)"
   ]
  },
  {
   "cell_type": "code",
   "execution_count": 18,
   "metadata": {
    "collapsed": false,
    "scrolled": true
   },
   "outputs": [
    {
     "data": {
      "text/plain": [
       "id                           0\n",
       "date_account_created         0\n",
       "date_first_booking      124543\n",
       "gender                   95688\n",
       "age                      87990\n",
       "signup_method                0\n",
       "language                     0\n",
       "affiliate_provider           0\n",
       "signup_app                   0\n",
       "first_device_type            0\n",
       "first_browser                0\n",
       "country_destination          0\n",
       "dtype: int64"
      ]
     },
     "execution_count": 18,
     "metadata": {},
     "output_type": "execute_result"
    }
   ],
   "source": [
    "users.isnull().sum()"
   ]
  },
  {
   "cell_type": "markdown",
   "metadata": {},
   "source": [
    "We can see that we are missing a lot of data, particularly in date_first_booking, gender, and age. These are 3 crucial variables, but luckily we have a large data set. Lets look at the missing data. We can see below that the country_destination has a value of 'NDF' - this indicates No Destination Found. In other words, these are users that signed up for the website but did not actually make a booking - about 42% of website signups actually made a booking. This explains the missing values for date of first booking."
   ]
  },
  {
   "cell_type": "code",
   "execution_count": 19,
   "metadata": {
    "collapsed": false,
    "scrolled": false
   },
   "outputs": [
    {
     "data": {
      "text/html": [
       "<div>\n",
       "<table border=\"1\" class=\"dataframe\">\n",
       "  <thead>\n",
       "    <tr style=\"text-align: right;\">\n",
       "      <th></th>\n",
       "      <th>country_destination</th>\n",
       "      <th>date_first_booking</th>\n",
       "    </tr>\n",
       "  </thead>\n",
       "  <tbody>\n",
       "    <tr>\n",
       "      <th>0</th>\n",
       "      <td>NDF</td>\n",
       "      <td>NaN</td>\n",
       "    </tr>\n",
       "    <tr>\n",
       "      <th>1</th>\n",
       "      <td>NDF</td>\n",
       "      <td>NaN</td>\n",
       "    </tr>\n",
       "    <tr>\n",
       "      <th>2</th>\n",
       "      <td>US</td>\n",
       "      <td>2010-08-02</td>\n",
       "    </tr>\n",
       "    <tr>\n",
       "      <th>3</th>\n",
       "      <td>other</td>\n",
       "      <td>2012-09-08</td>\n",
       "    </tr>\n",
       "    <tr>\n",
       "      <th>4</th>\n",
       "      <td>US</td>\n",
       "      <td>2010-02-18</td>\n",
       "    </tr>\n",
       "  </tbody>\n",
       "</table>\n",
       "</div>"
      ],
      "text/plain": [
       "  country_destination date_first_booking\n",
       "0                 NDF                NaN\n",
       "1                 NDF                NaN\n",
       "2                  US         2010-08-02\n",
       "3               other         2012-09-08\n",
       "4                  US         2010-02-18"
      ]
     },
     "execution_count": 19,
     "metadata": {},
     "output_type": "execute_result"
    }
   ],
   "source": [
    "users[['country_destination', 'date_first_booking']].head()"
   ]
  },
  {
   "cell_type": "code",
   "execution_count": 20,
   "metadata": {
    "collapsed": false
   },
   "outputs": [
    {
     "data": {
      "text/plain": [
       "0.4165265095970504"
      ]
     },
     "execution_count": 20,
     "metadata": {},
     "output_type": "execute_result"
    }
   ],
   "source": [
    "1-sum(users['country_destination']=='NDF')/len(users)"
   ]
  },
  {
   "cell_type": "markdown",
   "metadata": {},
   "source": [
    "Next, let's consider the missing values in Gender. Although we have a lot of missing values, we can assumes the data we do have is true. We don't have reason to believe that a significant number of users would have provided inaccurate information about their gender - the 95.7 thousand missing values would indicate the the field was optional (also because \"other\" was a gender option)."
   ]
  },
  {
   "cell_type": "code",
   "execution_count": 21,
   "metadata": {
    "collapsed": false,
    "scrolled": true
   },
   "outputs": [
    {
     "data": {
      "text/plain": [
       "array([nan, 'MALE', 'FEMALE', 'OTHER'], dtype=object)"
      ]
     },
     "execution_count": 21,
     "metadata": {},
     "output_type": "execute_result"
    }
   ],
   "source": [
    "users.gender.unique()"
   ]
  },
  {
   "cell_type": "markdown",
   "metadata": {},
   "source": [
    "Finally, lets look at age - we know that our age data is off. Website users must be over the age of 18 to sign up, yet our age distribution indicates very young and very old users. Additionally, although it is possible for elderly users (90+) to use the website, we saw earlier that this group is a minority in terms of travelers. Lets ignore these values, (which will also weed out fake ages, like 112). Before we do that, we make sure to convert people who accidentally used their birth year instead of their age. The code to perform this cleanup is given below:"
   ]
  },
  {
   "cell_type": "code",
   "execution_count": 22,
   "metadata": {
    "collapsed": false
   },
   "outputs": [
    {
     "data": {
      "text/plain": [
       "age\n",
       "1.0      2\n",
       "2.0      7\n",
       "4.0      3\n",
       "5.0     45\n",
       "15.0     8\n",
       "Name: id, dtype: int64"
      ]
     },
     "execution_count": 22,
     "metadata": {},
     "output_type": "execute_result"
    }
   ],
   "source": [
    "users.groupby('age').count()['id'].head()"
   ]
  },
  {
   "cell_type": "code",
   "execution_count": 23,
   "metadata": {
    "collapsed": false
   },
   "outputs": [
    {
     "data": {
      "text/plain": [
       "age\n",
       "1953.0      1\n",
       "1995.0      1\n",
       "2008.0      1\n",
       "2013.0     39\n",
       "2014.0    710\n",
       "Name: id, dtype: int64"
      ]
     },
     "execution_count": 23,
     "metadata": {},
     "output_type": "execute_result"
    }
   ],
   "source": [
    "users.groupby('age').count()['id'].tail()"
   ]
  },
  {
   "cell_type": "code",
   "execution_count": 24,
   "metadata": {
    "collapsed": false
   },
   "outputs": [],
   "source": [
    "#Convert dates to useable formats\n",
    "users['date_account_created'] = users['date_account_created'].apply(lambda x: pd.tslib.Timestamp(x))"
   ]
  },
  {
   "cell_type": "code",
   "execution_count": 25,
   "metadata": {
    "collapsed": false,
    "scrolled": true
   },
   "outputs": [],
   "source": [
    "users['date_first_booking'] = users['date_first_booking'].apply(lambda x: pd.tslib.Timestamp(x))"
   ]
  },
  {
   "cell_type": "code",
   "execution_count": 26,
   "metadata": {
    "collapsed": true
   },
   "outputs": [],
   "source": [
    "users['created_year'] = users['date_account_created'].apply(lambda x: x.year)\n",
    "users[\"age\"] = users.apply(lambda r: (r[\"created_year\"] - r[\"age\"]) if r[\"age\"] > 1000 else r[\"age\"], axis=1)\n",
    "# Remove outliers that we consider 'fake'\n",
    "users['age'] = users['age'].apply(lambda x: np.nan if x>90 else x)\n",
    "users['age'] = users['age'].apply(lambda x: np.nan if x<18 else x)"
   ]
  },
  {
   "cell_type": "markdown",
   "metadata": {},
   "source": [
    "### Adding calculated columnns - Age Group, Language, Levenshtein Distance, Month "
   ]
  },
  {
   "cell_type": "markdown",
   "metadata": {},
   "source": [
    "To make age a useful variabel to model with, lets add an age group column to indicate what generation a user was born into. We will use the following age groups: GI Generation (born <= 1924), Silent Generation(1925-1942), Baby Boomers (1943-1960), Generation X (1961-1980), and the Millenials (1981-1996)"
   ]
  },
  {
   "cell_type": "code",
   "execution_count": 27,
   "metadata": {
    "collapsed": false
   },
   "outputs": [],
   "source": [
    "users['birthYear'] = users['created_year']-users['age']"
   ]
  },
  {
   "cell_type": "code",
   "execution_count": 28,
   "metadata": {
    "collapsed": false
   },
   "outputs": [
    {
     "name": "stderr",
     "output_type": "stream",
     "text": [
      "C:\\Users\\amungale\\AppData\\Local\\Continuum\\Anaconda3\\lib\\site-packages\\ipykernel\\__main__.py:2: SettingWithCopyWarning: \n",
      "A value is trying to be set on a copy of a slice from a DataFrame\n",
      "\n",
      "See the caveats in the documentation: http://pandas.pydata.org/pandas-docs/stable/indexing.html#indexing-view-versus-copy\n",
      "  from ipykernel import kernelapp as app\n",
      "C:\\Users\\amungale\\AppData\\Local\\Continuum\\Anaconda3\\lib\\site-packages\\ipykernel\\__main__.py:3: SettingWithCopyWarning: \n",
      "A value is trying to be set on a copy of a slice from a DataFrame\n",
      "\n",
      "See the caveats in the documentation: http://pandas.pydata.org/pandas-docs/stable/indexing.html#indexing-view-versus-copy\n",
      "  app.launch_new_instance()\n",
      "C:\\Users\\amungale\\AppData\\Local\\Continuum\\Anaconda3\\lib\\site-packages\\ipykernel\\__main__.py:4: SettingWithCopyWarning: \n",
      "A value is trying to be set on a copy of a slice from a DataFrame\n",
      "\n",
      "See the caveats in the documentation: http://pandas.pydata.org/pandas-docs/stable/indexing.html#indexing-view-versus-copy\n",
      "C:\\Users\\amungale\\AppData\\Local\\Continuum\\Anaconda3\\lib\\site-packages\\ipykernel\\__main__.py:5: SettingWithCopyWarning: \n",
      "A value is trying to be set on a copy of a slice from a DataFrame\n",
      "\n",
      "See the caveats in the documentation: http://pandas.pydata.org/pandas-docs/stable/indexing.html#indexing-view-versus-copy\n",
      "C:\\Users\\amungale\\AppData\\Local\\Continuum\\Anaconda3\\lib\\site-packages\\ipykernel\\__main__.py:6: SettingWithCopyWarning: \n",
      "A value is trying to be set on a copy of a slice from a DataFrame\n",
      "\n",
      "See the caveats in the documentation: http://pandas.pydata.org/pandas-docs/stable/indexing.html#indexing-view-versus-copy\n"
     ]
    }
   ],
   "source": [
    "users['ageGroup'] = np.nan\n",
    "users['ageGroup'][users['birthYear'] <= 1996] = \"Millenial\"\n",
    "users['ageGroup'][users['birthYear'] <= 1980] = \"Generation X\"\n",
    "users['ageGroup'][users['birthYear'] <= 1960] = \"Baby Boomers\"\n",
    "users['ageGroup'][users['birthYear'] <= 1942] = \"Silent Generation\"\n",
    "users['ageGroup'][users['birthYear'] <= 1924] = \"GI Generation\"\n"
   ]
  },
  {
   "cell_type": "markdown",
   "metadata": {
    "collapsed": false,
    "scrolled": true
   },
   "source": [
    "Next, lets add destination_language and language_levenshtein_distance from our country summary statistics. It will be useful to compare how different demographics within our data set choose destinations differently based on the language spoken there. "
   ]
  },
  {
   "cell_type": "code",
   "execution_count": 29,
   "metadata": {
    "collapsed": false,
    "scrolled": true
   },
   "outputs": [],
   "source": [
    "lang_summary = country_summary[['country_destination', 'destination_language ', 'language_levenshtein_distance']]\n",
    "add_language = pd.merge(users, lang_summary, how='left', on='country_destination')"
   ]
  },
  {
   "cell_type": "code",
   "execution_count": 30,
   "metadata": {
    "collapsed": false,
    "scrolled": false
   },
   "outputs": [
    {
     "data": {
      "text/html": [
       "<div>\n",
       "<table border=\"1\" class=\"dataframe\">\n",
       "  <thead>\n",
       "    <tr style=\"text-align: right;\">\n",
       "      <th></th>\n",
       "      <th>id</th>\n",
       "      <th>date_account_created</th>\n",
       "      <th>date_first_booking</th>\n",
       "      <th>gender</th>\n",
       "      <th>age</th>\n",
       "      <th>signup_method</th>\n",
       "      <th>language</th>\n",
       "      <th>affiliate_provider</th>\n",
       "      <th>signup_app</th>\n",
       "      <th>first_device_type</th>\n",
       "      <th>first_browser</th>\n",
       "      <th>country_destination</th>\n",
       "      <th>created_year</th>\n",
       "      <th>birthYear</th>\n",
       "      <th>ageGroup</th>\n",
       "      <th>destination_language</th>\n",
       "      <th>language_levenshtein_distance</th>\n",
       "    </tr>\n",
       "  </thead>\n",
       "  <tbody>\n",
       "    <tr>\n",
       "      <th>0</th>\n",
       "      <td>gxn3p5htnn</td>\n",
       "      <td>2010-06-28</td>\n",
       "      <td>NaT</td>\n",
       "      <td>NaN</td>\n",
       "      <td>NaN</td>\n",
       "      <td>facebook</td>\n",
       "      <td>en</td>\n",
       "      <td>direct</td>\n",
       "      <td>Web</td>\n",
       "      <td>Mac Desktop</td>\n",
       "      <td>Chrome</td>\n",
       "      <td>NDF</td>\n",
       "      <td>2010</td>\n",
       "      <td>NaN</td>\n",
       "      <td>NaN</td>\n",
       "      <td>NaN</td>\n",
       "      <td>NaN</td>\n",
       "    </tr>\n",
       "    <tr>\n",
       "      <th>1</th>\n",
       "      <td>820tgsjxq7</td>\n",
       "      <td>2011-05-25</td>\n",
       "      <td>NaT</td>\n",
       "      <td>MALE</td>\n",
       "      <td>38.0</td>\n",
       "      <td>facebook</td>\n",
       "      <td>en</td>\n",
       "      <td>google</td>\n",
       "      <td>Web</td>\n",
       "      <td>Mac Desktop</td>\n",
       "      <td>Chrome</td>\n",
       "      <td>NDF</td>\n",
       "      <td>2011</td>\n",
       "      <td>1973.0</td>\n",
       "      <td>Generation X</td>\n",
       "      <td>NaN</td>\n",
       "      <td>NaN</td>\n",
       "    </tr>\n",
       "    <tr>\n",
       "      <th>2</th>\n",
       "      <td>4ft3gnwmtx</td>\n",
       "      <td>2010-09-28</td>\n",
       "      <td>2010-08-02</td>\n",
       "      <td>FEMALE</td>\n",
       "      <td>56.0</td>\n",
       "      <td>basic</td>\n",
       "      <td>en</td>\n",
       "      <td>direct</td>\n",
       "      <td>Web</td>\n",
       "      <td>Windows Desktop</td>\n",
       "      <td>IE</td>\n",
       "      <td>US</td>\n",
       "      <td>2010</td>\n",
       "      <td>1954.0</td>\n",
       "      <td>Baby Boomers</td>\n",
       "      <td>eng</td>\n",
       "      <td>0.0</td>\n",
       "    </tr>\n",
       "    <tr>\n",
       "      <th>3</th>\n",
       "      <td>bjjt8pjhuk</td>\n",
       "      <td>2011-12-05</td>\n",
       "      <td>2012-09-08</td>\n",
       "      <td>FEMALE</td>\n",
       "      <td>42.0</td>\n",
       "      <td>facebook</td>\n",
       "      <td>en</td>\n",
       "      <td>direct</td>\n",
       "      <td>Web</td>\n",
       "      <td>Mac Desktop</td>\n",
       "      <td>Firefox</td>\n",
       "      <td>other</td>\n",
       "      <td>2011</td>\n",
       "      <td>1969.0</td>\n",
       "      <td>Generation X</td>\n",
       "      <td>NaN</td>\n",
       "      <td>NaN</td>\n",
       "    </tr>\n",
       "    <tr>\n",
       "      <th>4</th>\n",
       "      <td>87mebub9p4</td>\n",
       "      <td>2010-09-14</td>\n",
       "      <td>2010-02-18</td>\n",
       "      <td>NaN</td>\n",
       "      <td>41.0</td>\n",
       "      <td>basic</td>\n",
       "      <td>en</td>\n",
       "      <td>direct</td>\n",
       "      <td>Web</td>\n",
       "      <td>Mac Desktop</td>\n",
       "      <td>Chrome</td>\n",
       "      <td>US</td>\n",
       "      <td>2010</td>\n",
       "      <td>1969.0</td>\n",
       "      <td>Generation X</td>\n",
       "      <td>eng</td>\n",
       "      <td>0.0</td>\n",
       "    </tr>\n",
       "  </tbody>\n",
       "</table>\n",
       "</div>"
      ],
      "text/plain": [
       "           id date_account_created date_first_booking  gender   age  \\\n",
       "0  gxn3p5htnn           2010-06-28                NaT     NaN   NaN   \n",
       "1  820tgsjxq7           2011-05-25                NaT    MALE  38.0   \n",
       "2  4ft3gnwmtx           2010-09-28         2010-08-02  FEMALE  56.0   \n",
       "3  bjjt8pjhuk           2011-12-05         2012-09-08  FEMALE  42.0   \n",
       "4  87mebub9p4           2010-09-14         2010-02-18     NaN  41.0   \n",
       "\n",
       "  signup_method language affiliate_provider signup_app first_device_type  \\\n",
       "0      facebook       en             direct        Web       Mac Desktop   \n",
       "1      facebook       en             google        Web       Mac Desktop   \n",
       "2         basic       en             direct        Web   Windows Desktop   \n",
       "3      facebook       en             direct        Web       Mac Desktop   \n",
       "4         basic       en             direct        Web       Mac Desktop   \n",
       "\n",
       "  first_browser country_destination  created_year  birthYear      ageGroup  \\\n",
       "0        Chrome                 NDF          2010        NaN           NaN   \n",
       "1        Chrome                 NDF          2011     1973.0  Generation X   \n",
       "2            IE                  US          2010     1954.0  Baby Boomers   \n",
       "3       Firefox               other          2011     1969.0  Generation X   \n",
       "4        Chrome                  US          2010     1969.0  Generation X   \n",
       "\n",
       "  destination_language   language_levenshtein_distance  \n",
       "0                   NaN                            NaN  \n",
       "1                   NaN                            NaN  \n",
       "2                   eng                            0.0  \n",
       "3                   NaN                            NaN  \n",
       "4                   eng                            0.0  "
      ]
     },
     "execution_count": 30,
     "metadata": {},
     "output_type": "execute_result"
    }
   ],
   "source": [
    "add_language.head()"
   ]
  },
  {
   "cell_type": "markdown",
   "metadata": {},
   "source": [
    "### Split data set into two: Bookings and Nonbookings"
   ]
  },
  {
   "cell_type": "code",
   "execution_count": 31,
   "metadata": {
    "collapsed": false,
    "scrolled": false
   },
   "outputs": [
    {
     "data": {
      "text/plain": [
       "(88908, 124543, 0.4165265095970504)"
      ]
     },
     "execution_count": 31,
     "metadata": {},
     "output_type": "execute_result"
    }
   ],
   "source": [
    "bookings = add_language[add_language['country_destination']!='NDF']\n",
    "nonbookings = add_language[add_language['country_destination']=='NDF']\n",
    "len(bookings), len(nonbookings), len(bookings)/len(add_language)"
   ]
  },
  {
   "cell_type": "markdown",
   "metadata": {},
   "source": [
    "As mentioned earlier, about 42% of website signups turned into actual bookings. We subset our main data to contain only these users, and call this table 'bookings'. This gives us 88,908 booking data points to analyze. There might also be some useful patterns in users who didn't make bookings, so we save this data to a table called 'nonbookings'. "
   ]
  },
  {
   "cell_type": "code",
   "execution_count": 32,
   "metadata": {
    "collapsed": false
   },
   "outputs": [
    {
     "name": "stderr",
     "output_type": "stream",
     "text": [
      "C:\\Users\\amungale\\AppData\\Local\\Continuum\\Anaconda3\\lib\\site-packages\\ipykernel\\__main__.py:1: SettingWithCopyWarning: \n",
      "A value is trying to be set on a copy of a slice from a DataFrame.\n",
      "Try using .loc[row_indexer,col_indexer] = value instead\n",
      "\n",
      "See the caveats in the documentation: http://pandas.pydata.org/pandas-docs/stable/indexing.html#indexing-view-versus-copy\n",
      "  if __name__ == '__main__':\n",
      "C:\\Users\\amungale\\AppData\\Local\\Continuum\\Anaconda3\\lib\\site-packages\\ipykernel\\__main__.py:2: SettingWithCopyWarning: \n",
      "A value is trying to be set on a copy of a slice from a DataFrame.\n",
      "Try using .loc[row_indexer,col_indexer] = value instead\n",
      "\n",
      "See the caveats in the documentation: http://pandas.pydata.org/pandas-docs/stable/indexing.html#indexing-view-versus-copy\n",
      "  from ipykernel import kernelapp as app\n"
     ]
    }
   ],
   "source": [
    "bookings['booking_month'] = bookings['date_first_booking'].apply(lambda x: x.month)\n",
    "bookings['booking_year'] = bookings['date_first_booking'].apply(lambda x: x.year)"
   ]
  },
  {
   "cell_type": "code",
   "execution_count": 33,
   "metadata": {
    "collapsed": false,
    "scrolled": true
   },
   "outputs": [
    {
     "data": {
      "text/plain": [
       "49507"
      ]
     },
     "execution_count": 33,
     "metadata": {},
     "output_type": "execute_result"
    }
   ],
   "source": [
    "bookings = bookings.dropna()\n",
    "len(bookings)"
   ]
  },
  {
   "cell_type": "markdown",
   "metadata": {},
   "source": [
    "### Sample nonookings and merge"
   ]
  },
  {
   "cell_type": "markdown",
   "metadata": {},
   "source": [
    "For our analysis, we don't want to throw away our nonbooking data, but currently it consists about 60% of our data points. For the purpose of this analysis, we will consider no country booked (country = 'NDF') as another country. We will take a random sample of 30% of our nonbookings and append it to our bookings data set."
   ]
  },
  {
   "cell_type": "code",
   "execution_count": 34,
   "metadata": {
    "collapsed": false
   },
   "outputs": [
    {
     "data": {
      "text/html": [
       "<div>\n",
       "<table border=\"1\" class=\"dataframe\">\n",
       "  <thead>\n",
       "    <tr style=\"text-align: right;\">\n",
       "      <th></th>\n",
       "      <th>id</th>\n",
       "      <th>date_account_created</th>\n",
       "      <th>date_first_booking</th>\n",
       "      <th>gender</th>\n",
       "      <th>age</th>\n",
       "      <th>signup_method</th>\n",
       "      <th>language</th>\n",
       "      <th>affiliate_provider</th>\n",
       "      <th>signup_app</th>\n",
       "      <th>first_device_type</th>\n",
       "      <th>first_browser</th>\n",
       "      <th>country_destination</th>\n",
       "      <th>created_year</th>\n",
       "      <th>birthYear</th>\n",
       "      <th>ageGroup</th>\n",
       "      <th>destination_language</th>\n",
       "      <th>language_levenshtein_distance</th>\n",
       "    </tr>\n",
       "  </thead>\n",
       "  <tbody>\n",
       "    <tr>\n",
       "      <th>183995</th>\n",
       "      <td>0jx9i5iy93</td>\n",
       "      <td>2014-05-03</td>\n",
       "      <td>NaT</td>\n",
       "      <td>FEMALE</td>\n",
       "      <td>36.0</td>\n",
       "      <td>basic</td>\n",
       "      <td>en</td>\n",
       "      <td>google</td>\n",
       "      <td>Web</td>\n",
       "      <td>Windows Desktop</td>\n",
       "      <td>Firefox</td>\n",
       "      <td>NDF</td>\n",
       "      <td>2014</td>\n",
       "      <td>1978.0</td>\n",
       "      <td>Generation X</td>\n",
       "      <td>NaN</td>\n",
       "      <td>NaN</td>\n",
       "    </tr>\n",
       "    <tr>\n",
       "      <th>205802</th>\n",
       "      <td>7wsm41fb3c</td>\n",
       "      <td>2014-06-17</td>\n",
       "      <td>NaT</td>\n",
       "      <td>NaN</td>\n",
       "      <td>NaN</td>\n",
       "      <td>basic</td>\n",
       "      <td>en</td>\n",
       "      <td>google</td>\n",
       "      <td>Web</td>\n",
       "      <td>Windows Desktop</td>\n",
       "      <td>IE</td>\n",
       "      <td>NDF</td>\n",
       "      <td>2014</td>\n",
       "      <td>NaN</td>\n",
       "      <td>NaN</td>\n",
       "      <td>NaN</td>\n",
       "      <td>NaN</td>\n",
       "    </tr>\n",
       "    <tr>\n",
       "      <th>170794</th>\n",
       "      <td>5mybirugth</td>\n",
       "      <td>2014-04-02</td>\n",
       "      <td>NaT</td>\n",
       "      <td>FEMALE</td>\n",
       "      <td>59.0</td>\n",
       "      <td>basic</td>\n",
       "      <td>en</td>\n",
       "      <td>google</td>\n",
       "      <td>Web</td>\n",
       "      <td>Windows Desktop</td>\n",
       "      <td>Chrome</td>\n",
       "      <td>NDF</td>\n",
       "      <td>2014</td>\n",
       "      <td>1955.0</td>\n",
       "      <td>Baby Boomers</td>\n",
       "      <td>NaN</td>\n",
       "      <td>NaN</td>\n",
       "    </tr>\n",
       "    <tr>\n",
       "      <th>105580</th>\n",
       "      <td>f1rzelj0hj</td>\n",
       "      <td>2013-09-06</td>\n",
       "      <td>NaT</td>\n",
       "      <td>NaN</td>\n",
       "      <td>NaN</td>\n",
       "      <td>basic</td>\n",
       "      <td>en</td>\n",
       "      <td>direct</td>\n",
       "      <td>Web</td>\n",
       "      <td>Windows Desktop</td>\n",
       "      <td>IE</td>\n",
       "      <td>NDF</td>\n",
       "      <td>2013</td>\n",
       "      <td>NaN</td>\n",
       "      <td>NaN</td>\n",
       "      <td>NaN</td>\n",
       "      <td>NaN</td>\n",
       "    </tr>\n",
       "    <tr>\n",
       "      <th>147357</th>\n",
       "      <td>uowx1x1e5x</td>\n",
       "      <td>2014-01-29</td>\n",
       "      <td>NaT</td>\n",
       "      <td>NaN</td>\n",
       "      <td>NaN</td>\n",
       "      <td>basic</td>\n",
       "      <td>en</td>\n",
       "      <td>direct</td>\n",
       "      <td>Web</td>\n",
       "      <td>Windows Desktop</td>\n",
       "      <td>Firefox</td>\n",
       "      <td>NDF</td>\n",
       "      <td>2014</td>\n",
       "      <td>NaN</td>\n",
       "      <td>NaN</td>\n",
       "      <td>NaN</td>\n",
       "      <td>NaN</td>\n",
       "    </tr>\n",
       "    <tr>\n",
       "      <th>105253</th>\n",
       "      <td>lj8j8xma6i</td>\n",
       "      <td>2013-09-05</td>\n",
       "      <td>NaT</td>\n",
       "      <td>NaN</td>\n",
       "      <td>NaN</td>\n",
       "      <td>basic</td>\n",
       "      <td>en</td>\n",
       "      <td>google</td>\n",
       "      <td>Web</td>\n",
       "      <td>Mac Desktop</td>\n",
       "      <td>Firefox</td>\n",
       "      <td>NDF</td>\n",
       "      <td>2013</td>\n",
       "      <td>NaN</td>\n",
       "      <td>NaN</td>\n",
       "      <td>NaN</td>\n",
       "      <td>NaN</td>\n",
       "    </tr>\n",
       "    <tr>\n",
       "      <th>59724</th>\n",
       "      <td>n0qhzs90uu</td>\n",
       "      <td>2013-02-09</td>\n",
       "      <td>NaT</td>\n",
       "      <td>NaN</td>\n",
       "      <td>NaN</td>\n",
       "      <td>basic</td>\n",
       "      <td>en</td>\n",
       "      <td>direct</td>\n",
       "      <td>Web</td>\n",
       "      <td>Windows Desktop</td>\n",
       "      <td>Chrome</td>\n",
       "      <td>NDF</td>\n",
       "      <td>2013</td>\n",
       "      <td>NaN</td>\n",
       "      <td>NaN</td>\n",
       "      <td>NaN</td>\n",
       "      <td>NaN</td>\n",
       "    </tr>\n",
       "    <tr>\n",
       "      <th>33462</th>\n",
       "      <td>afdri3wr5i</td>\n",
       "      <td>2012-07-24</td>\n",
       "      <td>NaT</td>\n",
       "      <td>FEMALE</td>\n",
       "      <td>NaN</td>\n",
       "      <td>basic</td>\n",
       "      <td>en</td>\n",
       "      <td>direct</td>\n",
       "      <td>Web</td>\n",
       "      <td>Windows Desktop</td>\n",
       "      <td>Firefox</td>\n",
       "      <td>NDF</td>\n",
       "      <td>2012</td>\n",
       "      <td>NaN</td>\n",
       "      <td>NaN</td>\n",
       "      <td>NaN</td>\n",
       "      <td>NaN</td>\n",
       "    </tr>\n",
       "    <tr>\n",
       "      <th>20839</th>\n",
       "      <td>oyx43wuu8q</td>\n",
       "      <td>2012-04-09</td>\n",
       "      <td>NaT</td>\n",
       "      <td>MALE</td>\n",
       "      <td>43.0</td>\n",
       "      <td>facebook</td>\n",
       "      <td>en</td>\n",
       "      <td>google</td>\n",
       "      <td>Web</td>\n",
       "      <td>Other/Unknown</td>\n",
       "      <td>-unknown-</td>\n",
       "      <td>NDF</td>\n",
       "      <td>2012</td>\n",
       "      <td>1969.0</td>\n",
       "      <td>Generation X</td>\n",
       "      <td>NaN</td>\n",
       "      <td>NaN</td>\n",
       "    </tr>\n",
       "    <tr>\n",
       "      <th>159116</th>\n",
       "      <td>z3vv0rjluu</td>\n",
       "      <td>2014-03-04</td>\n",
       "      <td>NaT</td>\n",
       "      <td>NaN</td>\n",
       "      <td>NaN</td>\n",
       "      <td>basic</td>\n",
       "      <td>en</td>\n",
       "      <td>direct</td>\n",
       "      <td>Android</td>\n",
       "      <td>Other/Unknown</td>\n",
       "      <td>-unknown-</td>\n",
       "      <td>NDF</td>\n",
       "      <td>2014</td>\n",
       "      <td>NaN</td>\n",
       "      <td>NaN</td>\n",
       "      <td>NaN</td>\n",
       "      <td>NaN</td>\n",
       "    </tr>\n",
       "    <tr>\n",
       "      <th>6056</th>\n",
       "      <td>suak6vysb5</td>\n",
       "      <td>2011-06-29</td>\n",
       "      <td>NaT</td>\n",
       "      <td>FEMALE</td>\n",
       "      <td>26.0</td>\n",
       "      <td>facebook</td>\n",
       "      <td>en</td>\n",
       "      <td>direct</td>\n",
       "      <td>Web</td>\n",
       "      <td>Mac Desktop</td>\n",
       "      <td>Chrome</td>\n",
       "      <td>NDF</td>\n",
       "      <td>2011</td>\n",
       "      <td>1985.0</td>\n",
       "      <td>Millenial</td>\n",
       "      <td>NaN</td>\n",
       "      <td>NaN</td>\n",
       "    </tr>\n",
       "    <tr>\n",
       "      <th>100392</th>\n",
       "      <td>jgozw5vjoh</td>\n",
       "      <td>2013-08-18</td>\n",
       "      <td>NaT</td>\n",
       "      <td>NaN</td>\n",
       "      <td>NaN</td>\n",
       "      <td>basic</td>\n",
       "      <td>en</td>\n",
       "      <td>direct</td>\n",
       "      <td>Web</td>\n",
       "      <td>Mac Desktop</td>\n",
       "      <td>Safari</td>\n",
       "      <td>NDF</td>\n",
       "      <td>2013</td>\n",
       "      <td>NaN</td>\n",
       "      <td>NaN</td>\n",
       "      <td>NaN</td>\n",
       "      <td>NaN</td>\n",
       "    </tr>\n",
       "    <tr>\n",
       "      <th>193513</th>\n",
       "      <td>5i32rske4m</td>\n",
       "      <td>2014-05-22</td>\n",
       "      <td>NaT</td>\n",
       "      <td>MALE</td>\n",
       "      <td>33.0</td>\n",
       "      <td>facebook</td>\n",
       "      <td>en</td>\n",
       "      <td>direct</td>\n",
       "      <td>iOS</td>\n",
       "      <td>iPhone</td>\n",
       "      <td>-unknown-</td>\n",
       "      <td>NDF</td>\n",
       "      <td>2014</td>\n",
       "      <td>1981.0</td>\n",
       "      <td>Millenial</td>\n",
       "      <td>NaN</td>\n",
       "      <td>NaN</td>\n",
       "    </tr>\n",
       "    <tr>\n",
       "      <th>112702</th>\n",
       "      <td>w0k0oq6nbx</td>\n",
       "      <td>2013-09-30</td>\n",
       "      <td>NaT</td>\n",
       "      <td>NaN</td>\n",
       "      <td>NaN</td>\n",
       "      <td>basic</td>\n",
       "      <td>en</td>\n",
       "      <td>google</td>\n",
       "      <td>Web</td>\n",
       "      <td>Mac Desktop</td>\n",
       "      <td>Safari</td>\n",
       "      <td>NDF</td>\n",
       "      <td>2013</td>\n",
       "      <td>NaN</td>\n",
       "      <td>NaN</td>\n",
       "      <td>NaN</td>\n",
       "      <td>NaN</td>\n",
       "    </tr>\n",
       "    <tr>\n",
       "      <th>171023</th>\n",
       "      <td>fyjd2kr62q</td>\n",
       "      <td>2014-04-02</td>\n",
       "      <td>NaT</td>\n",
       "      <td>FEMALE</td>\n",
       "      <td>22.0</td>\n",
       "      <td>facebook</td>\n",
       "      <td>en</td>\n",
       "      <td>direct</td>\n",
       "      <td>Web</td>\n",
       "      <td>Mac Desktop</td>\n",
       "      <td>Chrome</td>\n",
       "      <td>NDF</td>\n",
       "      <td>2014</td>\n",
       "      <td>1992.0</td>\n",
       "      <td>Millenial</td>\n",
       "      <td>NaN</td>\n",
       "      <td>NaN</td>\n",
       "    </tr>\n",
       "    <tr>\n",
       "      <th>11401</th>\n",
       "      <td>wfll915214</td>\n",
       "      <td>2011-10-20</td>\n",
       "      <td>NaT</td>\n",
       "      <td>FEMALE</td>\n",
       "      <td>32.0</td>\n",
       "      <td>basic</td>\n",
       "      <td>en</td>\n",
       "      <td>other</td>\n",
       "      <td>Web</td>\n",
       "      <td>Other/Unknown</td>\n",
       "      <td>-unknown-</td>\n",
       "      <td>NDF</td>\n",
       "      <td>2011</td>\n",
       "      <td>1979.0</td>\n",
       "      <td>Generation X</td>\n",
       "      <td>NaN</td>\n",
       "      <td>NaN</td>\n",
       "    </tr>\n",
       "    <tr>\n",
       "      <th>87131</th>\n",
       "      <td>n4suxmdlwx</td>\n",
       "      <td>2013-06-28</td>\n",
       "      <td>NaT</td>\n",
       "      <td>MALE</td>\n",
       "      <td>38.0</td>\n",
       "      <td>facebook</td>\n",
       "      <td>en</td>\n",
       "      <td>direct</td>\n",
       "      <td>Web</td>\n",
       "      <td>Windows Desktop</td>\n",
       "      <td>Firefox</td>\n",
       "      <td>NDF</td>\n",
       "      <td>2013</td>\n",
       "      <td>1975.0</td>\n",
       "      <td>Generation X</td>\n",
       "      <td>NaN</td>\n",
       "      <td>NaN</td>\n",
       "    </tr>\n",
       "    <tr>\n",
       "      <th>84719</th>\n",
       "      <td>a5hwn3fkhq</td>\n",
       "      <td>2013-06-18</td>\n",
       "      <td>NaT</td>\n",
       "      <td>MALE</td>\n",
       "      <td>31.0</td>\n",
       "      <td>basic</td>\n",
       "      <td>en</td>\n",
       "      <td>direct</td>\n",
       "      <td>Web</td>\n",
       "      <td>Windows Desktop</td>\n",
       "      <td>Chrome</td>\n",
       "      <td>NDF</td>\n",
       "      <td>2013</td>\n",
       "      <td>1982.0</td>\n",
       "      <td>Millenial</td>\n",
       "      <td>NaN</td>\n",
       "      <td>NaN</td>\n",
       "    </tr>\n",
       "    <tr>\n",
       "      <th>117132</th>\n",
       "      <td>45t96x7r93</td>\n",
       "      <td>2013-10-15</td>\n",
       "      <td>NaT</td>\n",
       "      <td>NaN</td>\n",
       "      <td>NaN</td>\n",
       "      <td>basic</td>\n",
       "      <td>en</td>\n",
       "      <td>direct</td>\n",
       "      <td>Web</td>\n",
       "      <td>Mac Desktop</td>\n",
       "      <td>Safari</td>\n",
       "      <td>NDF</td>\n",
       "      <td>2013</td>\n",
       "      <td>NaN</td>\n",
       "      <td>NaN</td>\n",
       "      <td>NaN</td>\n",
       "      <td>NaN</td>\n",
       "    </tr>\n",
       "    <tr>\n",
       "      <th>93937</th>\n",
       "      <td>k6gt2985ak</td>\n",
       "      <td>2013-07-25</td>\n",
       "      <td>NaT</td>\n",
       "      <td>FEMALE</td>\n",
       "      <td>41.0</td>\n",
       "      <td>facebook</td>\n",
       "      <td>en</td>\n",
       "      <td>direct</td>\n",
       "      <td>Web</td>\n",
       "      <td>Mac Desktop</td>\n",
       "      <td>Safari</td>\n",
       "      <td>NDF</td>\n",
       "      <td>2013</td>\n",
       "      <td>1972.0</td>\n",
       "      <td>Generation X</td>\n",
       "      <td>NaN</td>\n",
       "      <td>NaN</td>\n",
       "    </tr>\n",
       "    <tr>\n",
       "      <th>75769</th>\n",
       "      <td>2eoavc0kya</td>\n",
       "      <td>2013-05-08</td>\n",
       "      <td>NaT</td>\n",
       "      <td>FEMALE</td>\n",
       "      <td>36.0</td>\n",
       "      <td>facebook</td>\n",
       "      <td>en</td>\n",
       "      <td>direct</td>\n",
       "      <td>Web</td>\n",
       "      <td>Windows Desktop</td>\n",
       "      <td>Chrome</td>\n",
       "      <td>NDF</td>\n",
       "      <td>2013</td>\n",
       "      <td>1977.0</td>\n",
       "      <td>Generation X</td>\n",
       "      <td>NaN</td>\n",
       "      <td>NaN</td>\n",
       "    </tr>\n",
       "    <tr>\n",
       "      <th>132630</th>\n",
       "      <td>prs8gfiq20</td>\n",
       "      <td>2013-12-15</td>\n",
       "      <td>NaT</td>\n",
       "      <td>FEMALE</td>\n",
       "      <td>24.0</td>\n",
       "      <td>facebook</td>\n",
       "      <td>en</td>\n",
       "      <td>other</td>\n",
       "      <td>Android</td>\n",
       "      <td>Other/Unknown</td>\n",
       "      <td>-unknown-</td>\n",
       "      <td>NDF</td>\n",
       "      <td>2013</td>\n",
       "      <td>1989.0</td>\n",
       "      <td>Millenial</td>\n",
       "      <td>NaN</td>\n",
       "      <td>NaN</td>\n",
       "    </tr>\n",
       "    <tr>\n",
       "      <th>62850</th>\n",
       "      <td>oi7i3wj8si</td>\n",
       "      <td>2013-03-01</td>\n",
       "      <td>NaT</td>\n",
       "      <td>NaN</td>\n",
       "      <td>NaN</td>\n",
       "      <td>basic</td>\n",
       "      <td>en</td>\n",
       "      <td>direct</td>\n",
       "      <td>Web</td>\n",
       "      <td>Mac Desktop</td>\n",
       "      <td>Safari</td>\n",
       "      <td>NDF</td>\n",
       "      <td>2013</td>\n",
       "      <td>NaN</td>\n",
       "      <td>NaN</td>\n",
       "      <td>NaN</td>\n",
       "      <td>NaN</td>\n",
       "    </tr>\n",
       "    <tr>\n",
       "      <th>152108</th>\n",
       "      <td>apd6rdpi1o</td>\n",
       "      <td>2014-02-12</td>\n",
       "      <td>NaT</td>\n",
       "      <td>NaN</td>\n",
       "      <td>NaN</td>\n",
       "      <td>basic</td>\n",
       "      <td>en</td>\n",
       "      <td>google</td>\n",
       "      <td>Web</td>\n",
       "      <td>Windows Desktop</td>\n",
       "      <td>Chrome</td>\n",
       "      <td>NDF</td>\n",
       "      <td>2014</td>\n",
       "      <td>NaN</td>\n",
       "      <td>NaN</td>\n",
       "      <td>NaN</td>\n",
       "      <td>NaN</td>\n",
       "    </tr>\n",
       "    <tr>\n",
       "      <th>21117</th>\n",
       "      <td>zwdpg7uzhy</td>\n",
       "      <td>2012-04-12</td>\n",
       "      <td>NaT</td>\n",
       "      <td>MALE</td>\n",
       "      <td>36.0</td>\n",
       "      <td>facebook</td>\n",
       "      <td>en</td>\n",
       "      <td>direct</td>\n",
       "      <td>Web</td>\n",
       "      <td>Mac Desktop</td>\n",
       "      <td>Safari</td>\n",
       "      <td>NDF</td>\n",
       "      <td>2012</td>\n",
       "      <td>1976.0</td>\n",
       "      <td>Generation X</td>\n",
       "      <td>NaN</td>\n",
       "      <td>NaN</td>\n",
       "    </tr>\n",
       "    <tr>\n",
       "      <th>83621</th>\n",
       "      <td>h4fpuu008f</td>\n",
       "      <td>2013-06-13</td>\n",
       "      <td>NaT</td>\n",
       "      <td>FEMALE</td>\n",
       "      <td>50.0</td>\n",
       "      <td>facebook</td>\n",
       "      <td>en</td>\n",
       "      <td>direct</td>\n",
       "      <td>Web</td>\n",
       "      <td>Mac Desktop</td>\n",
       "      <td>Firefox</td>\n",
       "      <td>NDF</td>\n",
       "      <td>2013</td>\n",
       "      <td>1963.0</td>\n",
       "      <td>Generation X</td>\n",
       "      <td>NaN</td>\n",
       "      <td>NaN</td>\n",
       "    </tr>\n",
       "    <tr>\n",
       "      <th>180806</th>\n",
       "      <td>alcemumd9u</td>\n",
       "      <td>2014-04-26</td>\n",
       "      <td>NaT</td>\n",
       "      <td>NaN</td>\n",
       "      <td>NaN</td>\n",
       "      <td>basic</td>\n",
       "      <td>en</td>\n",
       "      <td>google</td>\n",
       "      <td>Web</td>\n",
       "      <td>iPad</td>\n",
       "      <td>Mobile Safari</td>\n",
       "      <td>NDF</td>\n",
       "      <td>2014</td>\n",
       "      <td>NaN</td>\n",
       "      <td>NaN</td>\n",
       "      <td>NaN</td>\n",
       "      <td>NaN</td>\n",
       "    </tr>\n",
       "    <tr>\n",
       "      <th>185569</th>\n",
       "      <td>dljw2g4mnk</td>\n",
       "      <td>2014-05-07</td>\n",
       "      <td>NaT</td>\n",
       "      <td>FEMALE</td>\n",
       "      <td>31.0</td>\n",
       "      <td>facebook</td>\n",
       "      <td>en</td>\n",
       "      <td>direct</td>\n",
       "      <td>iOS</td>\n",
       "      <td>iPhone</td>\n",
       "      <td>-unknown-</td>\n",
       "      <td>NDF</td>\n",
       "      <td>2014</td>\n",
       "      <td>1983.0</td>\n",
       "      <td>Millenial</td>\n",
       "      <td>NaN</td>\n",
       "      <td>NaN</td>\n",
       "    </tr>\n",
       "    <tr>\n",
       "      <th>186979</th>\n",
       "      <td>on2qo8r69h</td>\n",
       "      <td>2014-05-10</td>\n",
       "      <td>NaT</td>\n",
       "      <td>MALE</td>\n",
       "      <td>32.0</td>\n",
       "      <td>facebook</td>\n",
       "      <td>en</td>\n",
       "      <td>direct</td>\n",
       "      <td>Web</td>\n",
       "      <td>Mac Desktop</td>\n",
       "      <td>Chrome</td>\n",
       "      <td>NDF</td>\n",
       "      <td>2014</td>\n",
       "      <td>1982.0</td>\n",
       "      <td>Millenial</td>\n",
       "      <td>NaN</td>\n",
       "      <td>NaN</td>\n",
       "    </tr>\n",
       "    <tr>\n",
       "      <th>182443</th>\n",
       "      <td>n2z3hvdnb9</td>\n",
       "      <td>2014-04-30</td>\n",
       "      <td>NaT</td>\n",
       "      <td>NaN</td>\n",
       "      <td>NaN</td>\n",
       "      <td>basic</td>\n",
       "      <td>en</td>\n",
       "      <td>google</td>\n",
       "      <td>Web</td>\n",
       "      <td>Mac Desktop</td>\n",
       "      <td>Chrome</td>\n",
       "      <td>NDF</td>\n",
       "      <td>2014</td>\n",
       "      <td>NaN</td>\n",
       "      <td>NaN</td>\n",
       "      <td>NaN</td>\n",
       "      <td>NaN</td>\n",
       "    </tr>\n",
       "    <tr>\n",
       "      <th>...</th>\n",
       "      <td>...</td>\n",
       "      <td>...</td>\n",
       "      <td>...</td>\n",
       "      <td>...</td>\n",
       "      <td>...</td>\n",
       "      <td>...</td>\n",
       "      <td>...</td>\n",
       "      <td>...</td>\n",
       "      <td>...</td>\n",
       "      <td>...</td>\n",
       "      <td>...</td>\n",
       "      <td>...</td>\n",
       "      <td>...</td>\n",
       "      <td>...</td>\n",
       "      <td>...</td>\n",
       "      <td>...</td>\n",
       "      <td>...</td>\n",
       "    </tr>\n",
       "    <tr>\n",
       "      <th>71140</th>\n",
       "      <td>qmzev2zx44</td>\n",
       "      <td>2013-04-15</td>\n",
       "      <td>NaT</td>\n",
       "      <td>NaN</td>\n",
       "      <td>NaN</td>\n",
       "      <td>basic</td>\n",
       "      <td>en</td>\n",
       "      <td>direct</td>\n",
       "      <td>Web</td>\n",
       "      <td>Android Tablet</td>\n",
       "      <td>IE</td>\n",
       "      <td>NDF</td>\n",
       "      <td>2013</td>\n",
       "      <td>NaN</td>\n",
       "      <td>NaN</td>\n",
       "      <td>NaN</td>\n",
       "      <td>NaN</td>\n",
       "    </tr>\n",
       "    <tr>\n",
       "      <th>174999</th>\n",
       "      <td>8bdgfvrys8</td>\n",
       "      <td>2014-04-12</td>\n",
       "      <td>NaT</td>\n",
       "      <td>NaN</td>\n",
       "      <td>NaN</td>\n",
       "      <td>basic</td>\n",
       "      <td>en</td>\n",
       "      <td>direct</td>\n",
       "      <td>iOS</td>\n",
       "      <td>iPhone</td>\n",
       "      <td>-unknown-</td>\n",
       "      <td>NDF</td>\n",
       "      <td>2014</td>\n",
       "      <td>NaN</td>\n",
       "      <td>NaN</td>\n",
       "      <td>NaN</td>\n",
       "      <td>NaN</td>\n",
       "    </tr>\n",
       "    <tr>\n",
       "      <th>208654</th>\n",
       "      <td>047oldgs79</td>\n",
       "      <td>2014-06-22</td>\n",
       "      <td>NaT</td>\n",
       "      <td>NaN</td>\n",
       "      <td>NaN</td>\n",
       "      <td>basic</td>\n",
       "      <td>en</td>\n",
       "      <td>direct</td>\n",
       "      <td>Moweb</td>\n",
       "      <td>iPhone</td>\n",
       "      <td>Mobile Safari</td>\n",
       "      <td>NDF</td>\n",
       "      <td>2014</td>\n",
       "      <td>NaN</td>\n",
       "      <td>NaN</td>\n",
       "      <td>NaN</td>\n",
       "      <td>NaN</td>\n",
       "    </tr>\n",
       "    <tr>\n",
       "      <th>10340</th>\n",
       "      <td>o2e9vxt5et</td>\n",
       "      <td>2011-09-29</td>\n",
       "      <td>NaT</td>\n",
       "      <td>NaN</td>\n",
       "      <td>NaN</td>\n",
       "      <td>basic</td>\n",
       "      <td>en</td>\n",
       "      <td>google</td>\n",
       "      <td>Web</td>\n",
       "      <td>iPhone</td>\n",
       "      <td>Mobile Safari</td>\n",
       "      <td>NDF</td>\n",
       "      <td>2011</td>\n",
       "      <td>NaN</td>\n",
       "      <td>NaN</td>\n",
       "      <td>NaN</td>\n",
       "      <td>NaN</td>\n",
       "    </tr>\n",
       "    <tr>\n",
       "      <th>72699</th>\n",
       "      <td>e048vn2f13</td>\n",
       "      <td>2013-04-23</td>\n",
       "      <td>NaT</td>\n",
       "      <td>FEMALE</td>\n",
       "      <td>56.0</td>\n",
       "      <td>basic</td>\n",
       "      <td>en</td>\n",
       "      <td>google</td>\n",
       "      <td>Web</td>\n",
       "      <td>Mac Desktop</td>\n",
       "      <td>Safari</td>\n",
       "      <td>NDF</td>\n",
       "      <td>2013</td>\n",
       "      <td>1957.0</td>\n",
       "      <td>Baby Boomers</td>\n",
       "      <td>NaN</td>\n",
       "      <td>NaN</td>\n",
       "    </tr>\n",
       "    <tr>\n",
       "      <th>121000</th>\n",
       "      <td>5pb3e2aeak</td>\n",
       "      <td>2013-11-01</td>\n",
       "      <td>NaT</td>\n",
       "      <td>NaN</td>\n",
       "      <td>NaN</td>\n",
       "      <td>basic</td>\n",
       "      <td>en</td>\n",
       "      <td>direct</td>\n",
       "      <td>Web</td>\n",
       "      <td>Windows Desktop</td>\n",
       "      <td>Chrome</td>\n",
       "      <td>NDF</td>\n",
       "      <td>2013</td>\n",
       "      <td>NaN</td>\n",
       "      <td>NaN</td>\n",
       "      <td>NaN</td>\n",
       "      <td>NaN</td>\n",
       "    </tr>\n",
       "    <tr>\n",
       "      <th>152143</th>\n",
       "      <td>vxhap07ysa</td>\n",
       "      <td>2014-02-12</td>\n",
       "      <td>NaT</td>\n",
       "      <td>MALE</td>\n",
       "      <td>27.0</td>\n",
       "      <td>facebook</td>\n",
       "      <td>en</td>\n",
       "      <td>other</td>\n",
       "      <td>iOS</td>\n",
       "      <td>Windows Desktop</td>\n",
       "      <td>Firefox</td>\n",
       "      <td>NDF</td>\n",
       "      <td>2014</td>\n",
       "      <td>1987.0</td>\n",
       "      <td>Millenial</td>\n",
       "      <td>NaN</td>\n",
       "      <td>NaN</td>\n",
       "    </tr>\n",
       "    <tr>\n",
       "      <th>60508</th>\n",
       "      <td>f5xtvjeoxp</td>\n",
       "      <td>2013-02-14</td>\n",
       "      <td>NaT</td>\n",
       "      <td>FEMALE</td>\n",
       "      <td>40.0</td>\n",
       "      <td>facebook</td>\n",
       "      <td>en</td>\n",
       "      <td>google</td>\n",
       "      <td>Web</td>\n",
       "      <td>Windows Desktop</td>\n",
       "      <td>Firefox</td>\n",
       "      <td>NDF</td>\n",
       "      <td>2013</td>\n",
       "      <td>1973.0</td>\n",
       "      <td>Generation X</td>\n",
       "      <td>NaN</td>\n",
       "      <td>NaN</td>\n",
       "    </tr>\n",
       "    <tr>\n",
       "      <th>185898</th>\n",
       "      <td>s5pknx1e9x</td>\n",
       "      <td>2014-05-07</td>\n",
       "      <td>NaT</td>\n",
       "      <td>NaN</td>\n",
       "      <td>NaN</td>\n",
       "      <td>basic</td>\n",
       "      <td>en</td>\n",
       "      <td>google</td>\n",
       "      <td>Web</td>\n",
       "      <td>Windows Desktop</td>\n",
       "      <td>Chrome</td>\n",
       "      <td>NDF</td>\n",
       "      <td>2014</td>\n",
       "      <td>NaN</td>\n",
       "      <td>NaN</td>\n",
       "      <td>NaN</td>\n",
       "      <td>NaN</td>\n",
       "    </tr>\n",
       "    <tr>\n",
       "      <th>92501</th>\n",
       "      <td>1wmaxm46ix</td>\n",
       "      <td>2013-07-19</td>\n",
       "      <td>NaT</td>\n",
       "      <td>MALE</td>\n",
       "      <td>63.0</td>\n",
       "      <td>basic</td>\n",
       "      <td>en</td>\n",
       "      <td>direct</td>\n",
       "      <td>Web</td>\n",
       "      <td>iPad</td>\n",
       "      <td>Mobile Safari</td>\n",
       "      <td>NDF</td>\n",
       "      <td>2013</td>\n",
       "      <td>1950.0</td>\n",
       "      <td>Baby Boomers</td>\n",
       "      <td>NaN</td>\n",
       "      <td>NaN</td>\n",
       "    </tr>\n",
       "    <tr>\n",
       "      <th>105274</th>\n",
       "      <td>687lyp79iq</td>\n",
       "      <td>2013-09-05</td>\n",
       "      <td>NaT</td>\n",
       "      <td>NaN</td>\n",
       "      <td>NaN</td>\n",
       "      <td>basic</td>\n",
       "      <td>en</td>\n",
       "      <td>direct</td>\n",
       "      <td>iOS</td>\n",
       "      <td>iPhone</td>\n",
       "      <td>-unknown-</td>\n",
       "      <td>NDF</td>\n",
       "      <td>2013</td>\n",
       "      <td>NaN</td>\n",
       "      <td>NaN</td>\n",
       "      <td>NaN</td>\n",
       "      <td>NaN</td>\n",
       "    </tr>\n",
       "    <tr>\n",
       "      <th>145301</th>\n",
       "      <td>9xnrbfylyh</td>\n",
       "      <td>2014-01-23</td>\n",
       "      <td>NaT</td>\n",
       "      <td>NaN</td>\n",
       "      <td>NaN</td>\n",
       "      <td>basic</td>\n",
       "      <td>en</td>\n",
       "      <td>direct</td>\n",
       "      <td>Web</td>\n",
       "      <td>Windows Desktop</td>\n",
       "      <td>IE</td>\n",
       "      <td>NDF</td>\n",
       "      <td>2014</td>\n",
       "      <td>NaN</td>\n",
       "      <td>NaN</td>\n",
       "      <td>NaN</td>\n",
       "      <td>NaN</td>\n",
       "    </tr>\n",
       "    <tr>\n",
       "      <th>8348</th>\n",
       "      <td>lnje5xn0iq</td>\n",
       "      <td>2011-08-27</td>\n",
       "      <td>NaT</td>\n",
       "      <td>MALE</td>\n",
       "      <td>21.0</td>\n",
       "      <td>basic</td>\n",
       "      <td>es</td>\n",
       "      <td>google</td>\n",
       "      <td>Web</td>\n",
       "      <td>Windows Desktop</td>\n",
       "      <td>Chrome</td>\n",
       "      <td>NDF</td>\n",
       "      <td>2011</td>\n",
       "      <td>1990.0</td>\n",
       "      <td>Millenial</td>\n",
       "      <td>NaN</td>\n",
       "      <td>NaN</td>\n",
       "    </tr>\n",
       "    <tr>\n",
       "      <th>138812</th>\n",
       "      <td>qoq8nh1n6t</td>\n",
       "      <td>2014-01-07</td>\n",
       "      <td>NaT</td>\n",
       "      <td>NaN</td>\n",
       "      <td>NaN</td>\n",
       "      <td>basic</td>\n",
       "      <td>en</td>\n",
       "      <td>direct</td>\n",
       "      <td>Android</td>\n",
       "      <td>Other/Unknown</td>\n",
       "      <td>-unknown-</td>\n",
       "      <td>NDF</td>\n",
       "      <td>2014</td>\n",
       "      <td>NaN</td>\n",
       "      <td>NaN</td>\n",
       "      <td>NaN</td>\n",
       "      <td>NaN</td>\n",
       "    </tr>\n",
       "    <tr>\n",
       "      <th>5931</th>\n",
       "      <td>ew7ppgxg0w</td>\n",
       "      <td>2011-06-24</td>\n",
       "      <td>NaT</td>\n",
       "      <td>FEMALE</td>\n",
       "      <td>53.0</td>\n",
       "      <td>facebook</td>\n",
       "      <td>en</td>\n",
       "      <td>craigslist</td>\n",
       "      <td>Web</td>\n",
       "      <td>Other/Unknown</td>\n",
       "      <td>-unknown-</td>\n",
       "      <td>NDF</td>\n",
       "      <td>2011</td>\n",
       "      <td>1958.0</td>\n",
       "      <td>Baby Boomers</td>\n",
       "      <td>NaN</td>\n",
       "      <td>NaN</td>\n",
       "    </tr>\n",
       "    <tr>\n",
       "      <th>205025</th>\n",
       "      <td>xnfwry0ff5</td>\n",
       "      <td>2014-06-15</td>\n",
       "      <td>NaT</td>\n",
       "      <td>NaN</td>\n",
       "      <td>NaN</td>\n",
       "      <td>google</td>\n",
       "      <td>en</td>\n",
       "      <td>direct</td>\n",
       "      <td>Android</td>\n",
       "      <td>Android Phone</td>\n",
       "      <td>-unknown-</td>\n",
       "      <td>NDF</td>\n",
       "      <td>2014</td>\n",
       "      <td>NaN</td>\n",
       "      <td>NaN</td>\n",
       "      <td>NaN</td>\n",
       "      <td>NaN</td>\n",
       "    </tr>\n",
       "    <tr>\n",
       "      <th>185622</th>\n",
       "      <td>wc0kf1y5jd</td>\n",
       "      <td>2014-05-07</td>\n",
       "      <td>NaT</td>\n",
       "      <td>MALE</td>\n",
       "      <td>49.0</td>\n",
       "      <td>facebook</td>\n",
       "      <td>en</td>\n",
       "      <td>direct</td>\n",
       "      <td>Android</td>\n",
       "      <td>Android Phone</td>\n",
       "      <td>-unknown-</td>\n",
       "      <td>NDF</td>\n",
       "      <td>2014</td>\n",
       "      <td>1965.0</td>\n",
       "      <td>Generation X</td>\n",
       "      <td>NaN</td>\n",
       "      <td>NaN</td>\n",
       "    </tr>\n",
       "    <tr>\n",
       "      <th>63616</th>\n",
       "      <td>7utfvjzrhq</td>\n",
       "      <td>2013-03-05</td>\n",
       "      <td>NaT</td>\n",
       "      <td>MALE</td>\n",
       "      <td>36.0</td>\n",
       "      <td>facebook</td>\n",
       "      <td>en</td>\n",
       "      <td>google</td>\n",
       "      <td>Web</td>\n",
       "      <td>Mac Desktop</td>\n",
       "      <td>Chrome</td>\n",
       "      <td>NDF</td>\n",
       "      <td>2013</td>\n",
       "      <td>1977.0</td>\n",
       "      <td>Generation X</td>\n",
       "      <td>NaN</td>\n",
       "      <td>NaN</td>\n",
       "    </tr>\n",
       "    <tr>\n",
       "      <th>3119</th>\n",
       "      <td>bb69ohvlif</td>\n",
       "      <td>2011-02-01</td>\n",
       "      <td>NaT</td>\n",
       "      <td>NaN</td>\n",
       "      <td>NaN</td>\n",
       "      <td>basic</td>\n",
       "      <td>en</td>\n",
       "      <td>direct</td>\n",
       "      <td>Web</td>\n",
       "      <td>Mac Desktop</td>\n",
       "      <td>Firefox</td>\n",
       "      <td>NDF</td>\n",
       "      <td>2011</td>\n",
       "      <td>NaN</td>\n",
       "      <td>NaN</td>\n",
       "      <td>NaN</td>\n",
       "      <td>NaN</td>\n",
       "    </tr>\n",
       "    <tr>\n",
       "      <th>202441</th>\n",
       "      <td>5sf5kwwg8l</td>\n",
       "      <td>2014-06-10</td>\n",
       "      <td>NaT</td>\n",
       "      <td>NaN</td>\n",
       "      <td>NaN</td>\n",
       "      <td>basic</td>\n",
       "      <td>en</td>\n",
       "      <td>direct</td>\n",
       "      <td>iOS</td>\n",
       "      <td>iPhone</td>\n",
       "      <td>Mobile Safari</td>\n",
       "      <td>NDF</td>\n",
       "      <td>2014</td>\n",
       "      <td>NaN</td>\n",
       "      <td>NaN</td>\n",
       "      <td>NaN</td>\n",
       "      <td>NaN</td>\n",
       "    </tr>\n",
       "    <tr>\n",
       "      <th>965</th>\n",
       "      <td>2cct6t3jhi</td>\n",
       "      <td>2010-07-03</td>\n",
       "      <td>NaT</td>\n",
       "      <td>NaN</td>\n",
       "      <td>NaN</td>\n",
       "      <td>basic</td>\n",
       "      <td>en</td>\n",
       "      <td>google</td>\n",
       "      <td>Web</td>\n",
       "      <td>Windows Desktop</td>\n",
       "      <td>Chrome</td>\n",
       "      <td>NDF</td>\n",
       "      <td>2010</td>\n",
       "      <td>NaN</td>\n",
       "      <td>NaN</td>\n",
       "      <td>NaN</td>\n",
       "      <td>NaN</td>\n",
       "    </tr>\n",
       "    <tr>\n",
       "      <th>74054</th>\n",
       "      <td>v154tij4in</td>\n",
       "      <td>2013-04-30</td>\n",
       "      <td>NaT</td>\n",
       "      <td>NaN</td>\n",
       "      <td>NaN</td>\n",
       "      <td>basic</td>\n",
       "      <td>en</td>\n",
       "      <td>google</td>\n",
       "      <td>Web</td>\n",
       "      <td>iPad</td>\n",
       "      <td>Mobile Safari</td>\n",
       "      <td>NDF</td>\n",
       "      <td>2013</td>\n",
       "      <td>NaN</td>\n",
       "      <td>NaN</td>\n",
       "      <td>NaN</td>\n",
       "      <td>NaN</td>\n",
       "    </tr>\n",
       "    <tr>\n",
       "      <th>55062</th>\n",
       "      <td>bjlyv1xs3h</td>\n",
       "      <td>2013-01-08</td>\n",
       "      <td>NaT</td>\n",
       "      <td>FEMALE</td>\n",
       "      <td>53.0</td>\n",
       "      <td>basic</td>\n",
       "      <td>en</td>\n",
       "      <td>direct</td>\n",
       "      <td>Web</td>\n",
       "      <td>iPad</td>\n",
       "      <td>Mobile Safari</td>\n",
       "      <td>NDF</td>\n",
       "      <td>2013</td>\n",
       "      <td>1960.0</td>\n",
       "      <td>Baby Boomers</td>\n",
       "      <td>NaN</td>\n",
       "      <td>NaN</td>\n",
       "    </tr>\n",
       "    <tr>\n",
       "      <th>210087</th>\n",
       "      <td>g85q31a8n6</td>\n",
       "      <td>2014-06-24</td>\n",
       "      <td>NaT</td>\n",
       "      <td>NaN</td>\n",
       "      <td>NaN</td>\n",
       "      <td>basic</td>\n",
       "      <td>en</td>\n",
       "      <td>direct</td>\n",
       "      <td>iOS</td>\n",
       "      <td>iPad</td>\n",
       "      <td>-unknown-</td>\n",
       "      <td>NDF</td>\n",
       "      <td>2014</td>\n",
       "      <td>NaN</td>\n",
       "      <td>NaN</td>\n",
       "      <td>NaN</td>\n",
       "      <td>NaN</td>\n",
       "    </tr>\n",
       "    <tr>\n",
       "      <th>108346</th>\n",
       "      <td>h1335zfb4e</td>\n",
       "      <td>2013-09-17</td>\n",
       "      <td>NaT</td>\n",
       "      <td>MALE</td>\n",
       "      <td>31.0</td>\n",
       "      <td>basic</td>\n",
       "      <td>en</td>\n",
       "      <td>direct</td>\n",
       "      <td>Web</td>\n",
       "      <td>Mac Desktop</td>\n",
       "      <td>Firefox</td>\n",
       "      <td>NDF</td>\n",
       "      <td>2013</td>\n",
       "      <td>1982.0</td>\n",
       "      <td>Millenial</td>\n",
       "      <td>NaN</td>\n",
       "      <td>NaN</td>\n",
       "    </tr>\n",
       "    <tr>\n",
       "      <th>201765</th>\n",
       "      <td>xo65kuc6qt</td>\n",
       "      <td>2014-06-09</td>\n",
       "      <td>NaT</td>\n",
       "      <td>NaN</td>\n",
       "      <td>NaN</td>\n",
       "      <td>basic</td>\n",
       "      <td>en</td>\n",
       "      <td>direct</td>\n",
       "      <td>Web</td>\n",
       "      <td>Windows Desktop</td>\n",
       "      <td>IE</td>\n",
       "      <td>NDF</td>\n",
       "      <td>2014</td>\n",
       "      <td>NaN</td>\n",
       "      <td>NaN</td>\n",
       "      <td>NaN</td>\n",
       "      <td>NaN</td>\n",
       "    </tr>\n",
       "    <tr>\n",
       "      <th>48054</th>\n",
       "      <td>5sf61qcgwv</td>\n",
       "      <td>2012-11-10</td>\n",
       "      <td>NaT</td>\n",
       "      <td>NaN</td>\n",
       "      <td>NaN</td>\n",
       "      <td>basic</td>\n",
       "      <td>en</td>\n",
       "      <td>google</td>\n",
       "      <td>Web</td>\n",
       "      <td>Mac Desktop</td>\n",
       "      <td>Safari</td>\n",
       "      <td>NDF</td>\n",
       "      <td>2012</td>\n",
       "      <td>NaN</td>\n",
       "      <td>NaN</td>\n",
       "      <td>NaN</td>\n",
       "      <td>NaN</td>\n",
       "    </tr>\n",
       "    <tr>\n",
       "      <th>114339</th>\n",
       "      <td>1zig20jyq6</td>\n",
       "      <td>2013-10-04</td>\n",
       "      <td>NaT</td>\n",
       "      <td>NaN</td>\n",
       "      <td>NaN</td>\n",
       "      <td>basic</td>\n",
       "      <td>en</td>\n",
       "      <td>bing</td>\n",
       "      <td>Web</td>\n",
       "      <td>Windows Desktop</td>\n",
       "      <td>IE</td>\n",
       "      <td>NDF</td>\n",
       "      <td>2013</td>\n",
       "      <td>NaN</td>\n",
       "      <td>NaN</td>\n",
       "      <td>NaN</td>\n",
       "      <td>NaN</td>\n",
       "    </tr>\n",
       "    <tr>\n",
       "      <th>159943</th>\n",
       "      <td>gm1n585kq9</td>\n",
       "      <td>2014-03-06</td>\n",
       "      <td>NaT</td>\n",
       "      <td>FEMALE</td>\n",
       "      <td>NaN</td>\n",
       "      <td>basic</td>\n",
       "      <td>en</td>\n",
       "      <td>google</td>\n",
       "      <td>Web</td>\n",
       "      <td>Windows Desktop</td>\n",
       "      <td>Chrome</td>\n",
       "      <td>NDF</td>\n",
       "      <td>2014</td>\n",
       "      <td>NaN</td>\n",
       "      <td>NaN</td>\n",
       "      <td>NaN</td>\n",
       "      <td>NaN</td>\n",
       "    </tr>\n",
       "    <tr>\n",
       "      <th>40873</th>\n",
       "      <td>rlka4dcbwe</td>\n",
       "      <td>2012-09-14</td>\n",
       "      <td>NaT</td>\n",
       "      <td>MALE</td>\n",
       "      <td>58.0</td>\n",
       "      <td>facebook</td>\n",
       "      <td>en</td>\n",
       "      <td>direct</td>\n",
       "      <td>Web</td>\n",
       "      <td>Mac Desktop</td>\n",
       "      <td>Safari</td>\n",
       "      <td>NDF</td>\n",
       "      <td>2012</td>\n",
       "      <td>1954.0</td>\n",
       "      <td>Baby Boomers</td>\n",
       "      <td>NaN</td>\n",
       "      <td>NaN</td>\n",
       "    </tr>\n",
       "  </tbody>\n",
       "</table>\n",
       "<p>24909 rows × 17 columns</p>\n",
       "</div>"
      ],
      "text/plain": [
       "                id date_account_created date_first_booking  gender   age  \\\n",
       "183995  0jx9i5iy93           2014-05-03                NaT  FEMALE  36.0   \n",
       "205802  7wsm41fb3c           2014-06-17                NaT     NaN   NaN   \n",
       "170794  5mybirugth           2014-04-02                NaT  FEMALE  59.0   \n",
       "105580  f1rzelj0hj           2013-09-06                NaT     NaN   NaN   \n",
       "147357  uowx1x1e5x           2014-01-29                NaT     NaN   NaN   \n",
       "105253  lj8j8xma6i           2013-09-05                NaT     NaN   NaN   \n",
       "59724   n0qhzs90uu           2013-02-09                NaT     NaN   NaN   \n",
       "33462   afdri3wr5i           2012-07-24                NaT  FEMALE   NaN   \n",
       "20839   oyx43wuu8q           2012-04-09                NaT    MALE  43.0   \n",
       "159116  z3vv0rjluu           2014-03-04                NaT     NaN   NaN   \n",
       "6056    suak6vysb5           2011-06-29                NaT  FEMALE  26.0   \n",
       "100392  jgozw5vjoh           2013-08-18                NaT     NaN   NaN   \n",
       "193513  5i32rske4m           2014-05-22                NaT    MALE  33.0   \n",
       "112702  w0k0oq6nbx           2013-09-30                NaT     NaN   NaN   \n",
       "171023  fyjd2kr62q           2014-04-02                NaT  FEMALE  22.0   \n",
       "11401   wfll915214           2011-10-20                NaT  FEMALE  32.0   \n",
       "87131   n4suxmdlwx           2013-06-28                NaT    MALE  38.0   \n",
       "84719   a5hwn3fkhq           2013-06-18                NaT    MALE  31.0   \n",
       "117132  45t96x7r93           2013-10-15                NaT     NaN   NaN   \n",
       "93937   k6gt2985ak           2013-07-25                NaT  FEMALE  41.0   \n",
       "75769   2eoavc0kya           2013-05-08                NaT  FEMALE  36.0   \n",
       "132630  prs8gfiq20           2013-12-15                NaT  FEMALE  24.0   \n",
       "62850   oi7i3wj8si           2013-03-01                NaT     NaN   NaN   \n",
       "152108  apd6rdpi1o           2014-02-12                NaT     NaN   NaN   \n",
       "21117   zwdpg7uzhy           2012-04-12                NaT    MALE  36.0   \n",
       "83621   h4fpuu008f           2013-06-13                NaT  FEMALE  50.0   \n",
       "180806  alcemumd9u           2014-04-26                NaT     NaN   NaN   \n",
       "185569  dljw2g4mnk           2014-05-07                NaT  FEMALE  31.0   \n",
       "186979  on2qo8r69h           2014-05-10                NaT    MALE  32.0   \n",
       "182443  n2z3hvdnb9           2014-04-30                NaT     NaN   NaN   \n",
       "...            ...                  ...                ...     ...   ...   \n",
       "71140   qmzev2zx44           2013-04-15                NaT     NaN   NaN   \n",
       "174999  8bdgfvrys8           2014-04-12                NaT     NaN   NaN   \n",
       "208654  047oldgs79           2014-06-22                NaT     NaN   NaN   \n",
       "10340   o2e9vxt5et           2011-09-29                NaT     NaN   NaN   \n",
       "72699   e048vn2f13           2013-04-23                NaT  FEMALE  56.0   \n",
       "121000  5pb3e2aeak           2013-11-01                NaT     NaN   NaN   \n",
       "152143  vxhap07ysa           2014-02-12                NaT    MALE  27.0   \n",
       "60508   f5xtvjeoxp           2013-02-14                NaT  FEMALE  40.0   \n",
       "185898  s5pknx1e9x           2014-05-07                NaT     NaN   NaN   \n",
       "92501   1wmaxm46ix           2013-07-19                NaT    MALE  63.0   \n",
       "105274  687lyp79iq           2013-09-05                NaT     NaN   NaN   \n",
       "145301  9xnrbfylyh           2014-01-23                NaT     NaN   NaN   \n",
       "8348    lnje5xn0iq           2011-08-27                NaT    MALE  21.0   \n",
       "138812  qoq8nh1n6t           2014-01-07                NaT     NaN   NaN   \n",
       "5931    ew7ppgxg0w           2011-06-24                NaT  FEMALE  53.0   \n",
       "205025  xnfwry0ff5           2014-06-15                NaT     NaN   NaN   \n",
       "185622  wc0kf1y5jd           2014-05-07                NaT    MALE  49.0   \n",
       "63616   7utfvjzrhq           2013-03-05                NaT    MALE  36.0   \n",
       "3119    bb69ohvlif           2011-02-01                NaT     NaN   NaN   \n",
       "202441  5sf5kwwg8l           2014-06-10                NaT     NaN   NaN   \n",
       "965     2cct6t3jhi           2010-07-03                NaT     NaN   NaN   \n",
       "74054   v154tij4in           2013-04-30                NaT     NaN   NaN   \n",
       "55062   bjlyv1xs3h           2013-01-08                NaT  FEMALE  53.0   \n",
       "210087  g85q31a8n6           2014-06-24                NaT     NaN   NaN   \n",
       "108346  h1335zfb4e           2013-09-17                NaT    MALE  31.0   \n",
       "201765  xo65kuc6qt           2014-06-09                NaT     NaN   NaN   \n",
       "48054   5sf61qcgwv           2012-11-10                NaT     NaN   NaN   \n",
       "114339  1zig20jyq6           2013-10-04                NaT     NaN   NaN   \n",
       "159943  gm1n585kq9           2014-03-06                NaT  FEMALE   NaN   \n",
       "40873   rlka4dcbwe           2012-09-14                NaT    MALE  58.0   \n",
       "\n",
       "       signup_method language affiliate_provider signup_app first_device_type  \\\n",
       "183995         basic       en             google        Web   Windows Desktop   \n",
       "205802         basic       en             google        Web   Windows Desktop   \n",
       "170794         basic       en             google        Web   Windows Desktop   \n",
       "105580         basic       en             direct        Web   Windows Desktop   \n",
       "147357         basic       en             direct        Web   Windows Desktop   \n",
       "105253         basic       en             google        Web       Mac Desktop   \n",
       "59724          basic       en             direct        Web   Windows Desktop   \n",
       "33462          basic       en             direct        Web   Windows Desktop   \n",
       "20839       facebook       en             google        Web     Other/Unknown   \n",
       "159116         basic       en             direct    Android     Other/Unknown   \n",
       "6056        facebook       en             direct        Web       Mac Desktop   \n",
       "100392         basic       en             direct        Web       Mac Desktop   \n",
       "193513      facebook       en             direct        iOS            iPhone   \n",
       "112702         basic       en             google        Web       Mac Desktop   \n",
       "171023      facebook       en             direct        Web       Mac Desktop   \n",
       "11401          basic       en              other        Web     Other/Unknown   \n",
       "87131       facebook       en             direct        Web   Windows Desktop   \n",
       "84719          basic       en             direct        Web   Windows Desktop   \n",
       "117132         basic       en             direct        Web       Mac Desktop   \n",
       "93937       facebook       en             direct        Web       Mac Desktop   \n",
       "75769       facebook       en             direct        Web   Windows Desktop   \n",
       "132630      facebook       en              other    Android     Other/Unknown   \n",
       "62850          basic       en             direct        Web       Mac Desktop   \n",
       "152108         basic       en             google        Web   Windows Desktop   \n",
       "21117       facebook       en             direct        Web       Mac Desktop   \n",
       "83621       facebook       en             direct        Web       Mac Desktop   \n",
       "180806         basic       en             google        Web              iPad   \n",
       "185569      facebook       en             direct        iOS            iPhone   \n",
       "186979      facebook       en             direct        Web       Mac Desktop   \n",
       "182443         basic       en             google        Web       Mac Desktop   \n",
       "...              ...      ...                ...        ...               ...   \n",
       "71140          basic       en             direct        Web    Android Tablet   \n",
       "174999         basic       en             direct        iOS            iPhone   \n",
       "208654         basic       en             direct      Moweb            iPhone   \n",
       "10340          basic       en             google        Web            iPhone   \n",
       "72699          basic       en             google        Web       Mac Desktop   \n",
       "121000         basic       en             direct        Web   Windows Desktop   \n",
       "152143      facebook       en              other        iOS   Windows Desktop   \n",
       "60508       facebook       en             google        Web   Windows Desktop   \n",
       "185898         basic       en             google        Web   Windows Desktop   \n",
       "92501          basic       en             direct        Web              iPad   \n",
       "105274         basic       en             direct        iOS            iPhone   \n",
       "145301         basic       en             direct        Web   Windows Desktop   \n",
       "8348           basic       es             google        Web   Windows Desktop   \n",
       "138812         basic       en             direct    Android     Other/Unknown   \n",
       "5931        facebook       en         craigslist        Web     Other/Unknown   \n",
       "205025        google       en             direct    Android     Android Phone   \n",
       "185622      facebook       en             direct    Android     Android Phone   \n",
       "63616       facebook       en             google        Web       Mac Desktop   \n",
       "3119           basic       en             direct        Web       Mac Desktop   \n",
       "202441         basic       en             direct        iOS            iPhone   \n",
       "965            basic       en             google        Web   Windows Desktop   \n",
       "74054          basic       en             google        Web              iPad   \n",
       "55062          basic       en             direct        Web              iPad   \n",
       "210087         basic       en             direct        iOS              iPad   \n",
       "108346         basic       en             direct        Web       Mac Desktop   \n",
       "201765         basic       en             direct        Web   Windows Desktop   \n",
       "48054          basic       en             google        Web       Mac Desktop   \n",
       "114339         basic       en               bing        Web   Windows Desktop   \n",
       "159943         basic       en             google        Web   Windows Desktop   \n",
       "40873       facebook       en             direct        Web       Mac Desktop   \n",
       "\n",
       "        first_browser country_destination  created_year  birthYear  \\\n",
       "183995        Firefox                 NDF          2014     1978.0   \n",
       "205802             IE                 NDF          2014        NaN   \n",
       "170794         Chrome                 NDF          2014     1955.0   \n",
       "105580             IE                 NDF          2013        NaN   \n",
       "147357        Firefox                 NDF          2014        NaN   \n",
       "105253        Firefox                 NDF          2013        NaN   \n",
       "59724          Chrome                 NDF          2013        NaN   \n",
       "33462         Firefox                 NDF          2012        NaN   \n",
       "20839       -unknown-                 NDF          2012     1969.0   \n",
       "159116      -unknown-                 NDF          2014        NaN   \n",
       "6056           Chrome                 NDF          2011     1985.0   \n",
       "100392         Safari                 NDF          2013        NaN   \n",
       "193513      -unknown-                 NDF          2014     1981.0   \n",
       "112702         Safari                 NDF          2013        NaN   \n",
       "171023         Chrome                 NDF          2014     1992.0   \n",
       "11401       -unknown-                 NDF          2011     1979.0   \n",
       "87131         Firefox                 NDF          2013     1975.0   \n",
       "84719          Chrome                 NDF          2013     1982.0   \n",
       "117132         Safari                 NDF          2013        NaN   \n",
       "93937          Safari                 NDF          2013     1972.0   \n",
       "75769          Chrome                 NDF          2013     1977.0   \n",
       "132630      -unknown-                 NDF          2013     1989.0   \n",
       "62850          Safari                 NDF          2013        NaN   \n",
       "152108         Chrome                 NDF          2014        NaN   \n",
       "21117          Safari                 NDF          2012     1976.0   \n",
       "83621         Firefox                 NDF          2013     1963.0   \n",
       "180806  Mobile Safari                 NDF          2014        NaN   \n",
       "185569      -unknown-                 NDF          2014     1983.0   \n",
       "186979         Chrome                 NDF          2014     1982.0   \n",
       "182443         Chrome                 NDF          2014        NaN   \n",
       "...               ...                 ...           ...        ...   \n",
       "71140              IE                 NDF          2013        NaN   \n",
       "174999      -unknown-                 NDF          2014        NaN   \n",
       "208654  Mobile Safari                 NDF          2014        NaN   \n",
       "10340   Mobile Safari                 NDF          2011        NaN   \n",
       "72699          Safari                 NDF          2013     1957.0   \n",
       "121000         Chrome                 NDF          2013        NaN   \n",
       "152143        Firefox                 NDF          2014     1987.0   \n",
       "60508         Firefox                 NDF          2013     1973.0   \n",
       "185898         Chrome                 NDF          2014        NaN   \n",
       "92501   Mobile Safari                 NDF          2013     1950.0   \n",
       "105274      -unknown-                 NDF          2013        NaN   \n",
       "145301             IE                 NDF          2014        NaN   \n",
       "8348           Chrome                 NDF          2011     1990.0   \n",
       "138812      -unknown-                 NDF          2014        NaN   \n",
       "5931        -unknown-                 NDF          2011     1958.0   \n",
       "205025      -unknown-                 NDF          2014        NaN   \n",
       "185622      -unknown-                 NDF          2014     1965.0   \n",
       "63616          Chrome                 NDF          2013     1977.0   \n",
       "3119          Firefox                 NDF          2011        NaN   \n",
       "202441  Mobile Safari                 NDF          2014        NaN   \n",
       "965            Chrome                 NDF          2010        NaN   \n",
       "74054   Mobile Safari                 NDF          2013        NaN   \n",
       "55062   Mobile Safari                 NDF          2013     1960.0   \n",
       "210087      -unknown-                 NDF          2014        NaN   \n",
       "108346        Firefox                 NDF          2013     1982.0   \n",
       "201765             IE                 NDF          2014        NaN   \n",
       "48054          Safari                 NDF          2012        NaN   \n",
       "114339             IE                 NDF          2013        NaN   \n",
       "159943         Chrome                 NDF          2014        NaN   \n",
       "40873          Safari                 NDF          2012     1954.0   \n",
       "\n",
       "            ageGroup destination_language   language_levenshtein_distance  \n",
       "183995  Generation X                   NaN                            NaN  \n",
       "205802           NaN                   NaN                            NaN  \n",
       "170794  Baby Boomers                   NaN                            NaN  \n",
       "105580           NaN                   NaN                            NaN  \n",
       "147357           NaN                   NaN                            NaN  \n",
       "105253           NaN                   NaN                            NaN  \n",
       "59724            NaN                   NaN                            NaN  \n",
       "33462            NaN                   NaN                            NaN  \n",
       "20839   Generation X                   NaN                            NaN  \n",
       "159116           NaN                   NaN                            NaN  \n",
       "6056       Millenial                   NaN                            NaN  \n",
       "100392           NaN                   NaN                            NaN  \n",
       "193513     Millenial                   NaN                            NaN  \n",
       "112702           NaN                   NaN                            NaN  \n",
       "171023     Millenial                   NaN                            NaN  \n",
       "11401   Generation X                   NaN                            NaN  \n",
       "87131   Generation X                   NaN                            NaN  \n",
       "84719      Millenial                   NaN                            NaN  \n",
       "117132           NaN                   NaN                            NaN  \n",
       "93937   Generation X                   NaN                            NaN  \n",
       "75769   Generation X                   NaN                            NaN  \n",
       "132630     Millenial                   NaN                            NaN  \n",
       "62850            NaN                   NaN                            NaN  \n",
       "152108           NaN                   NaN                            NaN  \n",
       "21117   Generation X                   NaN                            NaN  \n",
       "83621   Generation X                   NaN                            NaN  \n",
       "180806           NaN                   NaN                            NaN  \n",
       "185569     Millenial                   NaN                            NaN  \n",
       "186979     Millenial                   NaN                            NaN  \n",
       "182443           NaN                   NaN                            NaN  \n",
       "...              ...                   ...                            ...  \n",
       "71140            NaN                   NaN                            NaN  \n",
       "174999           NaN                   NaN                            NaN  \n",
       "208654           NaN                   NaN                            NaN  \n",
       "10340            NaN                   NaN                            NaN  \n",
       "72699   Baby Boomers                   NaN                            NaN  \n",
       "121000           NaN                   NaN                            NaN  \n",
       "152143     Millenial                   NaN                            NaN  \n",
       "60508   Generation X                   NaN                            NaN  \n",
       "185898           NaN                   NaN                            NaN  \n",
       "92501   Baby Boomers                   NaN                            NaN  \n",
       "105274           NaN                   NaN                            NaN  \n",
       "145301           NaN                   NaN                            NaN  \n",
       "8348       Millenial                   NaN                            NaN  \n",
       "138812           NaN                   NaN                            NaN  \n",
       "5931    Baby Boomers                   NaN                            NaN  \n",
       "205025           NaN                   NaN                            NaN  \n",
       "185622  Generation X                   NaN                            NaN  \n",
       "63616   Generation X                   NaN                            NaN  \n",
       "3119             NaN                   NaN                            NaN  \n",
       "202441           NaN                   NaN                            NaN  \n",
       "965              NaN                   NaN                            NaN  \n",
       "74054            NaN                   NaN                            NaN  \n",
       "55062   Baby Boomers                   NaN                            NaN  \n",
       "210087           NaN                   NaN                            NaN  \n",
       "108346     Millenial                   NaN                            NaN  \n",
       "201765           NaN                   NaN                            NaN  \n",
       "48054            NaN                   NaN                            NaN  \n",
       "114339           NaN                   NaN                            NaN  \n",
       "159943           NaN                   NaN                            NaN  \n",
       "40873   Baby Boomers                   NaN                            NaN  \n",
       "\n",
       "[24909 rows x 17 columns]"
      ]
     },
     "execution_count": 34,
     "metadata": {},
     "output_type": "execute_result"
    }
   ],
   "source": [
    "nonBookingSamp = nonbookings.sample(frac=0.2)\n",
    "nonBookingSamp"
   ]
  },
  {
   "cell_type": "code",
   "execution_count": 35,
   "metadata": {
    "collapsed": false
   },
   "outputs": [],
   "source": [
    "bookings= pd.concat([bookings, nonBookingSamp])"
   ]
  },
  {
   "cell_type": "code",
   "execution_count": 36,
   "metadata": {
    "collapsed": false
   },
   "outputs": [
    {
     "data": {
      "text/plain": [
       "74416"
      ]
     },
     "execution_count": 36,
     "metadata": {},
     "output_type": "execute_result"
    }
   ],
   "source": [
    "len(bookings)"
   ]
  },
  {
   "cell_type": "markdown",
   "metadata": {
    "collapsed": true
   },
   "source": [
    "## Summary statistics and Exploratory Data Analysis"
   ]
  },
  {
   "cell_type": "markdown",
   "metadata": {},
   "source": [
    "Now we have a clean data set of bookings of size 49507 to work with. Lets explore the data further."
   ]
  },
  {
   "cell_type": "markdown",
   "metadata": {},
   "source": [
    "### Age Distribution"
   ]
  },
  {
   "cell_type": "code",
   "execution_count": 37,
   "metadata": {
    "collapsed": false,
    "scrolled": true
   },
   "outputs": [
    {
     "data": {
      "image/png": "[encoded data removed]",
      "text/plain": [
       "<matplotlib.figure.Figure at 0x1842aac8>"
      ]
     },
     "metadata": {},
     "output_type": "display_data"
    }
   ],
   "source": [
    "bkage = bookings.age\n",
    "nbkage = nonbookings.age\n",
    "\n",
    "plt.subplot(1,2,1)\n",
    "bkage.hist(bins=30)\n",
    "xlabel('Age')\n",
    "plt.title('Bookings')\n",
    "\n",
    "plt.subplot(1, 2, 2)\n",
    "nbkage.hist(bins=30)\n",
    "xlabel('Age')\n",
    "plt.title('Nonbookings')\n",
    "\n",
    "plt.suptitle(\"Age Distribution\", fontsize=14)\n",
    "plt.tight_layout()\n",
    "plt.subplots_adjust(top=0.8)\n",
    "plt.show()"
   ]
  },
  {
   "cell_type": "markdown",
   "metadata": {},
   "source": [
    "### Gender Distribution"
   ]
  },
  {
   "cell_type": "code",
   "execution_count": 38,
   "metadata": {
    "collapsed": false
   },
   "outputs": [
    {
     "data": {
      "text/plain": [
       "FEMALE    32817\n",
       "MALE      28157\n",
       "OTHER       159\n",
       "Name: gender, dtype: int64"
      ]
     },
     "execution_count": 38,
     "metadata": {},
     "output_type": "execute_result"
    }
   ],
   "source": [
    "bkgender = bookings['gender']\n",
    "nbkgender = nonbookings['gender']\n",
    "\n",
    "bkgender.value_counts() "
   ]
  },
  {
   "cell_type": "code",
   "execution_count": 39,
   "metadata": {
    "collapsed": false
   },
   "outputs": [
    {
     "data": {
      "text/plain": [
       "FEMALE    31048\n",
       "MALE      26719\n",
       "OTHER       106\n",
       "Name: gender, dtype: int64"
      ]
     },
     "execution_count": 39,
     "metadata": {},
     "output_type": "execute_result"
    }
   ],
   "source": [
    "nbkgender.value_counts() "
   ]
  },
  {
   "cell_type": "code",
   "execution_count": 40,
   "metadata": {
    "collapsed": false
   },
   "outputs": [
    {
     "data": {
      "image/png": "[encoded data removed]",
      "text/plain": [
       "<matplotlib.figure.Figure at 0x10563080>"
      ]
     },
     "metadata": {},
     "output_type": "display_data"
    }
   ],
   "source": [
    "plt.subplot(1,2,1)\n",
    "bkgender.value_counts().plot(kind='bar')\n",
    "ylim(0, 35000)\n",
    "plt.title('Bookings')\n",
    "\n",
    "plt.subplot(1, 2, 2)\n",
    "nbkgender.value_counts().plot(kind='bar')\n",
    "plt.title('Nonbookings')\n",
    "\n",
    "plt.suptitle(\"Gender Distribution\", fontsize=14)\n",
    "plt.tight_layout()\n",
    "plt.subplots_adjust(top=.8)\n",
    "plt.show()"
   ]
  },
  {
   "cell_type": "markdown",
   "metadata": {},
   "source": [
    "### Country of destination"
   ]
  },
  {
   "cell_type": "code",
   "execution_count": 41,
   "metadata": {
    "collapsed": false
   },
   "outputs": [
    {
     "data": {
      "text/plain": [
       "NDF      58.347349\n",
       "US       29.222632\n",
       "other     4.728954\n",
       "FR        2.353233\n",
       "IT        1.328174\n",
       "GB        1.088774\n",
       "ES        1.053638\n",
       "CA        0.669006\n",
       "DE        0.497070\n",
       "NL        0.356991\n",
       "AU        0.252517\n",
       "PT        0.101663\n",
       "Name: country_destination, dtype: float64"
      ]
     },
     "execution_count": 41,
     "metadata": {},
     "output_type": "execute_result"
    }
   ],
   "source": [
    "dest = users['country_destination'].dropna(how='any')\n",
    "dest.value_counts('NDF')*100"
   ]
  },
  {
   "cell_type": "markdown",
   "metadata": {},
   "source": [
    "Over half of the user sign ups did not end up booking a destination, and about 41% do. Not surprisingly, most first bookings by Americans occur domestically. Next, lets look at the distribution of actual first bookings (no NDF values or US values) outside the US."
   ]
  },
  {
   "cell_type": "code",
   "execution_count": 42,
   "metadata": {
    "collapsed": false,
    "scrolled": true
   },
   "outputs": [
    {
     "data": {
      "text/plain": [
       "<matplotlib.text.Text at 0xef87a58>"
      ]
     },
     "execution_count": 42,
     "metadata": {},
     "output_type": "execute_result"
    },
    {
     "data": {
      "image/png": "[encoded data removed]",
      "text/plain": [
       "<matplotlib.figure.Figure at 0x127c6b00>"
      ]
     },
     "metadata": {},
     "output_type": "display_data"
    }
   ],
   "source": [
    "bookingsInt = bookings[bookings['country_destination'] != 'US']\n",
    "bookingsInt = bookingsInt[bookingsInt['country_destination'] != 'NDF']\n",
    "bookingsInt['country_destination'].value_counts().plot(kind='bar')\n",
    "plt.title('Booking distribution Outside US')"
   ]
  },
  {
   "cell_type": "markdown",
   "metadata": {},
   "source": [
    "### International Language Preference"
   ]
  },
  {
   "cell_type": "markdown",
   "metadata": {},
   "source": [
    "Lets contrast this with the distribution of the international language preferences."
   ]
  },
  {
   "cell_type": "code",
   "execution_count": 43,
   "metadata": {
    "collapsed": false
   },
   "outputs": [
    {
     "data": {
      "text/plain": [
       "<matplotlib.axes._subplots.AxesSubplot at 0x128024e0>"
      ]
     },
     "execution_count": 43,
     "metadata": {},
     "output_type": "execute_result"
    },
    {
     "data": {
      "image/png": "[encoded data removed]",
      "text/plain": [
       "<matplotlib.figure.Figure at 0xef805c0>"
      ]
     },
     "metadata": {},
     "output_type": "display_data"
    }
   ],
   "source": [
    "languages = users['language'].dropna(how='any')\n",
    "languages.value_counts()\n",
    "languages_foreign = languages[languages!='en']\n",
    "lang_pop = languages_foreign.value_counts()\n",
    "lang_pop = lang_pop[lang_pop>100]\n",
    "lang_pop.plot(kind='bar')"
   ]
  },
  {
   "cell_type": "markdown",
   "metadata": {},
   "source": [
    "Note: Zh is chinese, and Ko is Korean. It appears that the 'Other' bookings would contain several bookings in China or Hong Kong and Korea. French is the second most preferred international language, followed by Spanish. Italian is the sixth most preferred international language, but Italy is the second most booked destination country. "
   ]
  },
  {
   "cell_type": "markdown",
   "metadata": {},
   "source": [
    "### Distance Traveled"
   ]
  },
  {
   "cell_type": "markdown",
   "metadata": {},
   "source": [
    "Lets contrast the actual bookings and language preferences to the distance the user would need to travel - there doesn't appear to be any sort of relationship worth exploring."
   ]
  },
  {
   "cell_type": "code",
   "execution_count": 44,
   "metadata": {
    "collapsed": false
   },
   "outputs": [
    {
     "data": {
      "text/plain": [
       "<matplotlib.text.Text at 0x10496358>"
      ]
     },
     "execution_count": 44,
     "metadata": {},
     "output_type": "execute_result"
    },
    {
     "data": {
      "image/png": "[encoded data removed]",
      "text/plain": [
       "<matplotlib.figure.Figure at 0x184319e8>"
      ]
     },
     "metadata": {},
     "output_type": "display_data"
    }
   ],
   "source": [
    "ax = plt.axes()\n",
    "sns.barplot(x=country_summary['country_destination'], \n",
    "            y=country_summary['destination_dst']+country_summary['distance_km'],\n",
    "            color=\"lightblue\", ax=ax)\n",
    "ax.set_title('Total Distance Traveled - by Country')"
   ]
  },
  {
   "cell_type": "markdown",
   "metadata": {},
   "source": [
    "### Signup Method "
   ]
  },
  {
   "cell_type": "markdown",
   "metadata": {},
   "source": [
    "Lets take a look at the methods of first access. We see that most people accessed the booking website directly, via web browser on their Mac or PC. It might be interesting to investigate this further by categorizing our data by age groups. "
   ]
  },
  {
   "cell_type": "code",
   "execution_count": 45,
   "metadata": {
    "collapsed": false,
    "scrolled": true
   },
   "outputs": [
    {
     "data": {
      "image/png": "[encoded data removed]",
      "text/plain": [
       "<matplotlib.figure.Figure at 0x104e9b38>"
      ]
     },
     "metadata": {},
     "output_type": "display_data"
    }
   ],
   "source": [
    "plt.subplot(1,3,1)\n",
    "users['signup_method'].value_counts().plot(kind='bar')\n",
    "plt.title('Signup Method')\n",
    "\n",
    "plt.subplot(1, 3, 2)\n",
    "users['signup_app'].value_counts().plot(kind='bar')\n",
    "plt.title('Signup App')\n",
    "\n",
    "plt.subplot(1, 3, 3)\n",
    "users['first_device_type'].value_counts().plot(kind='bar')\n",
    "plt.title('First Device Type')\n",
    "\n",
    "plt.suptitle(\"Signups\", fontsize=14)\n",
    "plt.tight_layout()\n",
    "plt.subplots_adjust(top=.8)\n",
    "plt.show()"
   ]
  },
  {
   "cell_type": "code",
   "execution_count": 46,
   "metadata": {
    "collapsed": false
   },
   "outputs": [
    {
     "data": {
      "text/plain": [
       "<matplotlib.axes._subplots.AxesSubplot at 0x105b5c50>"
      ]
     },
     "execution_count": 46,
     "metadata": {},
     "output_type": "execute_result"
    },
    {
     "data": {
      "image/png": "[encoded data removed]",
      "text/plain": [
       "<matplotlib.figure.Figure at 0x104d2d30>"
      ]
     },
     "metadata": {},
     "output_type": "display_data"
    }
   ],
   "source": [
    "browser_counts = users['first_browser'].value_counts()\n",
    "browser_counts[browser_counts>600].plot(kind='bar')"
   ]
  },
  {
   "cell_type": "markdown",
   "metadata": {},
   "source": [
    "We see that most of our data is coming from users on popular web browsers - Chrome, Safari, Firefox and Internet Explorer. It is interesting that \"unknown\" ranks higher than Internet Explorer. However, given the large list of browsers including lest popular options like Opera, we are inclined to believe that the browser of those data points is simply just unknown and probably largely comprised of the popular browsers."
   ]
  },
  {
   "cell_type": "code",
   "execution_count": 47,
   "metadata": {
    "collapsed": false,
    "scrolled": false
   },
   "outputs": [
    {
     "data": {
      "text/plain": [
       "<matplotlib.axes._subplots.AxesSubplot at 0xf2e7c18>"
      ]
     },
     "execution_count": 47,
     "metadata": {},
     "output_type": "execute_result"
    },
    {
     "data": {
      "image/png": "[encoded data removed]",
      "text/plain": [
       "<matplotlib.figure.Figure at 0xf1b4860>"
      ]
     },
     "metadata": {},
     "output_type": "display_data"
    }
   ],
   "source": [
    "users['affiliate_provider'].value_counts().plot(kind='bar')"
   ]
  },
  {
   "cell_type": "markdown",
   "metadata": {},
   "source": [
    "The graph above shows affiliate marketing data. We can see that most users first accessed the website directly - meaning that they knew about the website already, rather than stumbling upon it through another source. The next highest group consists of users who found the website through google - possibly by searching for hotels or even just the website directly. The third largest group of users found site through \"other\" - possibly a link from a friend or a website whose data we don't have. This is interesting, but may not be indicative of where the user will be booking since the vast majority of users either directly accessed the website first or found it through a Google search. These attributes wouldn't seem to be exclusive to any specific group of people. "
   ]
  },
  {
   "cell_type": "code",
   "execution_count": null,
   "metadata": {
    "collapsed": true
   },
   "outputs": [],
   "source": []
  },
  {
   "cell_type": "markdown",
   "metadata": {},
   "source": [
    "### Bivariate / Multivariate Exploration"
   ]
  },
  {
   "cell_type": "markdown",
   "metadata": {
    "collapsed": true
   },
   "source": [
    "### Who is actually making bookings?"
   ]
  },
  {
   "cell_type": "code",
   "execution_count": 48,
   "metadata": {
    "collapsed": false
   },
   "outputs": [
    {
     "data": {
      "text/plain": [
       "gender  ageGroup           country_destination\n",
       "OTHER   Generation X       IT                         1\n",
       "        Baby Boomers       IT                         1\n",
       "        Millenial          PT                         1\n",
       "                           GB                         1\n",
       "                           ES                         1\n",
       "                           DE                         1\n",
       "MALE    Silent Generation  AU                         1\n",
       "OTHER   Generation X       DE                         1\n",
       "FEMALE  GI Generation      CA                         1\n",
       "                           IT                         1\n",
       "                           NL                         1\n",
       "OTHER   Baby Boomers       DE                         1\n",
       "        Millenial          AU                         1\n",
       "        Generation X       NL                         1\n",
       "FEMALE  Silent Generation  ES                         2\n",
       "OTHER   Generation X       GB                         2\n",
       "FEMALE  Silent Generation  AU                         2\n",
       "OTHER   Millenial          CA                         2\n",
       "FEMALE  Silent Generation  PT                         2\n",
       "OTHER   Millenial          NL                         2\n",
       "FEMALE  Silent Generation  CA                         2\n",
       "                           DE                         2\n",
       "                           NL                         3\n",
       "OTHER   Generation X       ES                         3\n",
       "                           CA                         3\n",
       "        Millenial          FR                         3\n",
       "                           IT                         3\n",
       "MALE    Silent Generation  CA                         4\n",
       "                           DE                         4\n",
       "FEMALE  GI Generation      US                         4\n",
       "                                                  ...  \n",
       "MALE    Millenial          DE                       160\n",
       "FEMALE  Millenial          DE                       162\n",
       "MALE    Millenial          CA                       175\n",
       "        Generation X       DE                       176\n",
       "FEMALE  Baby Boomers       FR                       177\n",
       "        Generation X       CA                       179\n",
       "        Millenial          CA                       192\n",
       "MALE    Generation X       CA                       217\n",
       "        Millenial          GB                       233\n",
       "                           IT                       244\n",
       "        Generation X       ES                       275\n",
       "        Millenial          ES                       281\n",
       "        Generation X       IT                       303\n",
       "FEMALE  Generation X       ES                       315\n",
       "MALE    Generation X       GB                       316\n",
       "FEMALE  Generation X       GB                       324\n",
       "        Millenial          GB                       360\n",
       "                           ES                       420\n",
       "        Generation X       IT                       422\n",
       "MALE    Millenial          FR                       448\n",
       "FEMALE  Millenial          IT                       468\n",
       "MALE    Generation X       FR                       620\n",
       "FEMALE  Generation X       FR                       784\n",
       "        Millenial          FR                       810\n",
       "MALE    Baby Boomers       US                      1431\n",
       "FEMALE  Baby Boomers       US                      1911\n",
       "MALE    Millenial          US                      8149\n",
       "FEMALE  Generation X       US                      8514\n",
       "MALE    Generation X       US                      8551\n",
       "FEMALE  Millenial          US                     10399\n",
       "Name: id, dtype: int64"
      ]
     },
     "execution_count": 48,
     "metadata": {},
     "output_type": "execute_result"
    }
   ],
   "source": [
    "booking_counts = bookings[bookings['country_destination']!='NDF'].groupby(['gender', 'ageGroup', 'country_destination']).count().sort_values('id')\n",
    "booking_counts['id']"
   ]
  },
  {
   "cell_type": "code",
   "execution_count": 49,
   "metadata": {
    "collapsed": false,
    "scrolled": true
   },
   "outputs": [
    {
     "data": {
      "text/plain": [
       "gender  ageGroup         \n",
       "OTHER   Silent Generation        3\n",
       "        Baby Boomers             4\n",
       "MALE    GI Generation            8\n",
       "FEMALE  GI Generation            9\n",
       "OTHER   Millenial               26\n",
       "        Generation X            32\n",
       "MALE    Silent Generation      289\n",
       "FEMALE  Silent Generation      312\n",
       "MALE    Baby Boomers          2283\n",
       "FEMALE  Baby Boomers          3054\n",
       "MALE    Millenial            10130\n",
       "        Generation X         11191\n",
       "FEMALE  Generation X         11487\n",
       "        Millenial            12224\n",
       "Name: id, dtype: int64"
      ]
     },
     "execution_count": 49,
     "metadata": {},
     "output_type": "execute_result"
    }
   ],
   "source": [
    "nonbooking_counts = nonbookings.groupby(['gender', 'ageGroup']).count().sort_values('id')\n",
    "nonbooking_counts['id']"
   ]
  },
  {
   "cell_type": "markdown",
   "metadata": {},
   "source": [
    "The tables above indicate that the highest number of website signups occur among Female millenials. The highest number of actual bookings from these account signups are also female millenials. And as we already knew, the large majority of first bookings occurred within the U.S. "
   ]
  },
  {
   "cell_type": "markdown",
   "metadata": {
    "collapsed": true
   },
   "source": [
    "### Time between account creation and first booking?"
   ]
  },
  {
   "cell_type": "code",
   "execution_count": 50,
   "metadata": {
    "collapsed": false
   },
   "outputs": [],
   "source": [
    "bookings['time_til_booking'] = bookings['date_first_booking'] - bookings['date_account_created']"
   ]
  },
  {
   "cell_type": "code",
   "execution_count": 51,
   "metadata": {
    "collapsed": false
   },
   "outputs": [
    {
     "data": {
      "text/plain": [
       "<matplotlib.text.Text at 0xf2e6588>"
      ]
     },
     "execution_count": 51,
     "metadata": {},
     "output_type": "execute_result"
    },
    {
     "data": {
      "image/png": "[encoded data removed]",
      "text/plain": [
       "<matplotlib.figure.Figure at 0x12351b38>"
      ]
     },
     "metadata": {},
     "output_type": "display_data"
    }
   ],
   "source": [
    "bookings[bookings['time_til_booking'] >= '0 days'].groupby('time_til_booking').count()['id'].sort_values(ascending=False)\n",
    "bookings[(bookings['time_til_booking'] >= '0 days') & (bookings['time_til_booking'] <= '20 days')].groupby('time_til_booking').count()['id'].plot(kind='bar')\n",
    "plt.title('Number of bookings Decrease When Users Wait to Book')\n",
    "plt.xlabel('Time Between Account Creation and First Booking')\n",
    "plt.ylabel('Number of Bookings')"
   ]
  },
  {
   "cell_type": "markdown",
   "metadata": {},
   "source": [
    "There is a clear pattern here. The most number of users made their first booking immediately after creating their account. The more time that passes after account creation, it appears to be less likely for the user to actually make their first booking."
   ]
  },
  {
   "cell_type": "markdown",
   "metadata": {
    "collapsed": true
   },
   "source": [
    "### Do Americans prefer to travel to to English speaking countries? Are there differences between the age groups? The genders?"
   ]
  },
  {
   "cell_type": "markdown",
   "metadata": {},
   "source": [
    "Compare proportion of english speaking destinations to non. Compare proportion of males who picked English to Females who picked english speaking countries. Similarly, do the same between age groups.  "
   ]
  },
  {
   "cell_type": "code",
   "execution_count": 52,
   "metadata": {
    "collapsed": false
   },
   "outputs": [
    {
     "data": {
      "text/plain": [
       "0.52906632982154378"
      ]
     },
     "execution_count": 52,
     "metadata": {},
     "output_type": "execute_result"
    }
   ],
   "source": [
    "sum(bookings['country_destination']=='US')/len(bookings['country_destination'])"
   ]
  },
  {
   "cell_type": "code",
   "execution_count": 53,
   "metadata": {
    "collapsed": false,
    "scrolled": true
   },
   "outputs": [
    {
     "data": {
      "text/plain": [
       "0.5652144700064502"
      ]
     },
     "execution_count": 53,
     "metadata": {},
     "output_type": "execute_result"
    }
   ],
   "source": [
    "sum(bookings['destination_language ']=='eng') / len(bookings['destination_language '])"
   ]
  },
  {
   "cell_type": "markdown",
   "metadata": {},
   "source": [
    "We can see that not only did most (70%) Americans who made a booking stayed within the states, 85% of of Americans who made a booking did so in an English speaking country. This is not surprising. Domestic travel is less costly and more comfortable due to familiarity. Additionally, this crowdsourcing website is an American company which started domestically and then expanded internationally, so it follows that more of our data would encompass domestic bookings. While this is not surprising, we should take this account when exploring our data. Lets create another data frame to explore international travel - we can explore this further by countries that speak english and countries that don't."
   ]
  },
  {
   "cell_type": "code",
   "execution_count": 54,
   "metadata": {
    "collapsed": false
   },
   "outputs": [
    {
     "data": {
      "text/plain": [
       "<matplotlib.text.Text at 0x18a36550>"
      ]
     },
     "execution_count": 54,
     "metadata": {},
     "output_type": "execute_result"
    },
    {
     "data": {
      "image/png": "[encoded data removed]",
      "text/plain": [
       "<matplotlib.figure.Figure at 0xf37bcf8>"
      ]
     },
     "metadata": {},
     "output_type": "display_data"
    }
   ],
   "source": [
    "ax = sns.boxplot(x=\"ageGroup\", y=\"language_levenshtein_distance\", data=bookingsInt)\n",
    "ax.set_title('Levenshtein Distance by Age Group')"
   ]
  },
  {
   "cell_type": "code",
   "execution_count": 55,
   "metadata": {
    "collapsed": false
   },
   "outputs": [
    {
     "data": {
      "text/plain": [
       "<matplotlib.text.Text at 0x18b42240>"
      ]
     },
     "execution_count": 55,
     "metadata": {},
     "output_type": "execute_result"
    },
    {
     "data": {
      "image/png": "[encoded data removed]",
      "text/plain": [
       "<matplotlib.figure.Figure at 0x18a5d908>"
      ]
     },
     "metadata": {},
     "output_type": "display_data"
    }
   ],
   "source": [
    "ax = sns.boxplot(x=\"gender\", y=\"language_levenshtein_distance\", data=bookingsInt[bookingsInt['ageGroup']=='Millenial'])\n",
    "ax.set_title('Levenshtein Distance - Millenials')"
   ]
  },
  {
   "cell_type": "code",
   "execution_count": 58,
   "metadata": {
    "collapsed": false
   },
   "outputs": [
    {
     "data": {
      "text/plain": [
       "<matplotlib.text.Text at 0x191b5978>"
      ]
     },
     "execution_count": 58,
     "metadata": {},
     "output_type": "execute_result"
    },
    {
     "data": {
      "image/png": "[encoded data removed]",
      "text/plain": [
       "<matplotlib.figure.Figure at 0x18c51860>"
      ]
     },
     "metadata": {},
     "output_type": "display_data"
    }
   ],
   "source": [
    "ax = sns.boxplot(x=\"gender\", y=\"language_levenshtein_distance\", data=bookingsInt[bookingsInt['ageGroup']=='Generation X'])\n",
    "ax.set_title('Levenshtein Distance - Generation X')"
   ]
  },
  {
   "cell_type": "markdown",
   "metadata": {},
   "source": [
    "Amongst all of the age, groups, members of the GI Generation (the generation who experienced World War II), tended to choose more familiar locations for their locations. We base this off the Levenshtein numbers on the y-axis of the Boxplots, which measures a country's language distance from English. We also take a closer look into our highest demographic of destination bookers - females of the Millenial and Generation X age groups. A larger percentile of females made bookings in more 'foreign' countries - countries where the languages deviated further from English compared to the countries that the males booked in. So not only did females (younger and middle aged) make more bookings compared to males in our sample, they also tended to make more adventurous bookings!"
   ]
  },
  {
   "cell_type": "markdown",
   "metadata": {
    "collapsed": true
   },
   "source": [
    "### What booking tendancies for travel destinations can you observe by group? Are there differences between the age groups? The genders? Signup Method?"
   ]
  },
  {
   "cell_type": "code",
   "execution_count": 59,
   "metadata": {
    "collapsed": false
   },
   "outputs": [
    {
     "data": {
      "text/plain": [
       "<matplotlib.text.Text at 0x19275128>"
      ]
     },
     "execution_count": 59,
     "metadata": {},
     "output_type": "execute_result"
    },
    {
     "data": {
      "image/png": "[encoded data removed]",
      "text/plain": [
       "<matplotlib.figure.Figure at 0x127b5ef0>"
      ]
     },
     "metadata": {},
     "output_type": "display_data"
    }
   ],
   "source": [
    "ax = sns.countplot(x='country_destination', data=bookingsInt, hue='gender')\n",
    "ax.set_title('Booking Destination by Gender')"
   ]
  },
  {
   "cell_type": "code",
   "execution_count": 60,
   "metadata": {
    "collapsed": false
   },
   "outputs": [
    {
     "data": {
      "text/plain": [
       "<matplotlib.text.Text at 0x193902e8>"
      ]
     },
     "execution_count": 60,
     "metadata": {},
     "output_type": "execute_result"
    },
    {
     "data": {
      "image/png": "[encoded data removed]",
      "text/plain": [
       "<matplotlib.figure.Figure at 0x12f3c128>"
      ]
     },
     "metadata": {},
     "output_type": "display_data"
    }
   ],
   "source": [
    "ax = sns.countplot(x='country_destination', data=bookingsInt, hue='ageGroup')\n",
    "ax.set_title('Booking Destinations by Age Group')"
   ]
  },
  {
   "cell_type": "code",
   "execution_count": 61,
   "metadata": {
    "collapsed": false
   },
   "outputs": [
    {
     "data": {
      "text/plain": [
       "<matplotlib.text.Text at 0x1a9b5978>"
      ]
     },
     "execution_count": 61,
     "metadata": {},
     "output_type": "execute_result"
    },
    {
     "data": {
      "image/png": "[encoded data removed]",
      "text/plain": [
       "<matplotlib.figure.Figure at 0x1a4f7cf8>"
      ]
     },
     "metadata": {},
     "output_type": "display_data"
    }
   ],
   "source": [
    "ax=sns.countplot(x='country_destination', data=bookingsInt , hue='signup_method')\n",
    "ax.set_title('Country Destination by Signup Method')"
   ]
  },
  {
   "cell_type": "markdown",
   "metadata": {},
   "source": [
    "In the three count plots above, we explore how the distributions of non US bookings vary among different groups in our data. In the first plot we explore the difference in bookings between gender. When we look at the named non-Us countries, we can see more specifically how millenials and Generation X consist of most bookings, and how these bookings are distributed. "
   ]
  },
  {
   "cell_type": "markdown",
   "metadata": {
    "collapsed": true
   },
   "source": [
    "### Is there a seasonal impact (does the time year affect the country booked)?"
   ]
  },
  {
   "cell_type": "markdown",
   "metadata": {},
   "source": [
    "Try scatter plot for number of bookings over time. Then try line graph, one line for each country, for number of bookings over time. Can you split over genders?"
   ]
  },
  {
   "cell_type": "code",
   "execution_count": 62,
   "metadata": {
    "collapsed": false
   },
   "outputs": [
    {
     "data": {
      "text/plain": [
       "<matplotlib.text.Text at 0x1aacf7f0>"
      ]
     },
     "execution_count": 62,
     "metadata": {},
     "output_type": "execute_result"
    },
    {
     "data": {
      "image/png": "[encoded data removed]",
      "text/plain": [
       "<matplotlib.figure.Figure at 0x1aa13cf8>"
      ]
     },
     "metadata": {},
     "output_type": "display_data"
    }
   ],
   "source": [
    "time_df = bookings.groupby('date_first_booking')['id'].count()\n",
    "time_df = time_df.reset_index()\n",
    "time_df['date_first_booking'] = pd.to_datetime(time_df['date_first_booking'])\n",
    "time_df = time_df[time_df['date_first_booking']<'7/1/2014']\n",
    "ax = time_df.plot(x=time_df['date_first_booking'])\n",
    "ax.set_title('Number of Bookings over Time')"
   ]
  },
  {
   "cell_type": "code",
   "execution_count": 65,
   "metadata": {
    "collapsed": false
   },
   "outputs": [
    {
     "data": {
      "text/plain": [
       "<matplotlib.text.Text at 0x1ac379b0>"
      ]
     },
     "execution_count": 65,
     "metadata": {},
     "output_type": "execute_result"
    },
    {
     "data": {
      "image/png": "[encoded data removed]",
      "text/plain": [
       "<matplotlib.figure.Figure at 0x1abe06a0>"
      ]
     },
     "metadata": {},
     "output_type": "display_data"
    }
   ],
   "source": [
    "time_df2 = bookingsInt.groupby(['date_first_booking', 'gender'])['id'].count()\n",
    "time_df2 = time_df2.unstack('gender').fillna(0)\n",
    "time_df2=time_df2.reset_index()\n",
    "time_df2 = time_df2[time_df2['date_first_booking']<'7/1/2014']\n",
    "ax = time_df2.plot(x=time_df2['date_first_booking'])\n",
    "ax.set_title('Number of bookings over Time - by Gender')"
   ]
  },
  {
   "cell_type": "markdown",
   "metadata": {},
   "source": [
    "We can see a cyclical trend here. Booking peaks little past the halfway point for each year (July-August). This would make sense - this alligns with Summer holidays for college students and families with children. Additionally the weather is consistently warm across the United States. However, there is an unexpected trend - bookings tend to dip around the winter holidays each year and then start to rise again with the each new year consistently until the early Fall months. This could possibly be explained by New Years marketing campaigns by the website, or the fact that people choose to spend the Winter holidays with their families (Thanksgiving, Christmas), and choose to travel when the weather warms. "
   ]
  },
  {
   "cell_type": "code",
   "execution_count": 66,
   "metadata": {
    "collapsed": false
   },
   "outputs": [
    {
     "data": {
      "text/plain": [
       "country_destination\n",
       "PT       134\n",
       "AU       367\n",
       "NL       492\n",
       "DE       716\n",
       "CA       872\n",
       "ES      1417\n",
       "GB      1451\n",
       "IT      1645\n",
       "FR      3042\n",
       "NDF    24909\n",
       "US     39371\n",
       "Name: id, dtype: int64"
      ]
     },
     "execution_count": 66,
     "metadata": {},
     "output_type": "execute_result"
    }
   ],
   "source": [
    "bookings.groupby('country_destination').count()['id'].sort_values()"
   ]
  },
  {
   "cell_type": "markdown",
   "metadata": {},
   "source": [
    "## Bookings by Month"
   ]
  },
  {
   "cell_type": "markdown",
   "metadata": {},
   "source": [
    "The following bar plots explore the number of bookings made in each of the 11 destination countries. The x axis values of 1-12 for \"booking month\" represent January - December. The graphs are presented in decsending order of number of bookings made at that country, with the United States appearing first and Portugal appearing last. We are attempting to identify any seasonality patterns in the data, and if bookings vary in different months between the different countries."
   ]
  },
  {
   "cell_type": "code",
   "execution_count": 67,
   "metadata": {
    "collapsed": false
   },
   "outputs": [
    {
     "data": {
      "text/plain": [
       "<matplotlib.text.Text at 0x1c216438>"
      ]
     },
     "execution_count": 67,
     "metadata": {},
     "output_type": "execute_result"
    },
    {
     "data": {
      "image/png": "[encoded data removed]",
      "text/plain": [
       "<matplotlib.figure.Figure at 0x1a520be0>"
      ]
     },
     "metadata": {},
     "output_type": "display_data"
    }
   ],
   "source": [
    "ct='US'\n",
    "bookings_ct = bookings[bookings['country_destination']==ct]\n",
    "ax = sns.countplot(x='booking_month', data=bookings_ct, color='lightblue')\n",
    "ax.set_title('Bookings by Month - United States')"
   ]
  },
  {
   "cell_type": "code",
   "execution_count": 68,
   "metadata": {
    "collapsed": false
   },
   "outputs": [
    {
     "data": {
      "text/plain": [
       "<matplotlib.text.Text at 0x1c45cac8>"
      ]
     },
     "execution_count": 68,
     "metadata": {},
     "output_type": "execute_result"
    },
    {
     "data": {
      "image/png": "[encoded data removed]",
      "text/plain": [
       "<matplotlib.figure.Figure at 0x12737978>"
      ]
     },
     "metadata": {},
     "output_type": "display_data"
    }
   ],
   "source": [
    "ct='FR'\n",
    "bookings_ct = bookings[bookings['country_destination']==ct]\n",
    "ax = sns.countplot(x='booking_month', data=bookings_ct, color='lightblue')\n",
    "ax.set_title('Bookings by Month - France')"
   ]
  },
  {
   "cell_type": "code",
   "execution_count": 69,
   "metadata": {
    "collapsed": false
   },
   "outputs": [
    {
     "data": {
      "text/plain": [
       "<matplotlib.text.Text at 0x1c2ca470>"
      ]
     },
     "execution_count": 69,
     "metadata": {},
     "output_type": "execute_result"
    },
    {
     "data": {
      "image/png": "[encoded data removed]",
      "text/plain": [
       "<matplotlib.figure.Figure at 0x1c273748>"
      ]
     },
     "metadata": {},
     "output_type": "display_data"
    }
   ],
   "source": [
    "ct='IT'\n",
    "bookings_ct = bookings[bookings['country_destination']==ct]\n",
    "ax = sns.countplot(x='booking_month', data=bookings_ct, color='lightblue')\n",
    "ax.set_title('Bookings by Month - Italy')"
   ]
  },
  {
   "cell_type": "code",
   "execution_count": 70,
   "metadata": {
    "collapsed": false
   },
   "outputs": [
    {
     "data": {
      "text/plain": [
       "<matplotlib.text.Text at 0x1c385630>"
      ]
     },
     "execution_count": 70,
     "metadata": {},
     "output_type": "execute_result"
    },
    {
     "data": {
      "image/png": "[encoded data removed]",
      "text/plain": [
       "<matplotlib.figure.Figure at 0x1c431908>"
      ]
     },
     "metadata": {},
     "output_type": "display_data"
    }
   ],
   "source": [
    "ct='GB'\n",
    "bookings_ct = bookings[bookings['country_destination']==ct]\n",
    "ax = sns.countplot(x='booking_month', data=bookings_ct, color='lightblue')\n",
    "ax.set_title('Bookings by Month - United Kingdom')"
   ]
  },
  {
   "cell_type": "code",
   "execution_count": 71,
   "metadata": {
    "collapsed": false
   },
   "outputs": [
    {
     "data": {
      "text/plain": [
       "<matplotlib.text.Text at 0x1d7abf60>"
      ]
     },
     "execution_count": 71,
     "metadata": {},
     "output_type": "execute_result"
    },
    {
     "data": {
      "image/png": "[encoded data removed]",
      "text/plain": [
       "<matplotlib.figure.Figure at 0x1c4b8470>"
      ]
     },
     "metadata": {},
     "output_type": "display_data"
    }
   ],
   "source": [
    "ct='ES'\n",
    "bookings_ct = bookings[bookings['country_destination']==ct]\n",
    "ax = sns.countplot(x='booking_month', data=bookings_ct, color='lightblue')\n",
    "ax.set_title('Bookings by Month - Spain')"
   ]
  },
  {
   "cell_type": "code",
   "execution_count": 72,
   "metadata": {
    "collapsed": false
   },
   "outputs": [
    {
     "data": {
      "text/plain": [
       "<matplotlib.text.Text at 0x1d868828>"
      ]
     },
     "execution_count": 72,
     "metadata": {},
     "output_type": "execute_result"
    },
    {
     "data": {
      "image/png": "[encoded data removed]",
      "text/plain": [
       "<matplotlib.figure.Figure at 0x1c4ea978>"
      ]
     },
     "metadata": {},
     "output_type": "display_data"
    }
   ],
   "source": [
    "ct='CA'\n",
    "bookings_ct = bookings[bookings['country_destination']==ct]\n",
    "ax = sns.countplot(x='booking_month', data=bookings_ct, color='lightblue')\n",
    "ax.set_title('Bookings by Month - Canada')"
   ]
  },
  {
   "cell_type": "code",
   "execution_count": 73,
   "metadata": {
    "collapsed": false
   },
   "outputs": [
    {
     "data": {
      "text/plain": [
       "<matplotlib.text.Text at 0x1d92cb38>"
      ]
     },
     "execution_count": 73,
     "metadata": {},
     "output_type": "execute_result"
    },
    {
     "data": {
      "image/png": "[encoded data removed]",
      "text/plain": [
       "<matplotlib.figure.Figure at 0x1ab6c438>"
      ]
     },
     "metadata": {},
     "output_type": "display_data"
    }
   ],
   "source": [
    "ct='DE'\n",
    "bookings_ct = bookings[bookings['country_destination']==ct]\n",
    "ax = sns.countplot(x='booking_month', data=bookings_ct, color='lightblue')\n",
    "ax.set_title('Bookings by Month - Germany')"
   ]
  },
  {
   "cell_type": "code",
   "execution_count": 74,
   "metadata": {
    "collapsed": false
   },
   "outputs": [
    {
     "data": {
      "text/plain": [
       "<matplotlib.text.Text at 0x1c4f9c50>"
      ]
     },
     "execution_count": 74,
     "metadata": {},
     "output_type": "execute_result"
    },
    {
     "data": {
      "image/png": "[encoded data removed]",
      "text/plain": [
       "<matplotlib.figure.Figure at 0x1d992b38>"
      ]
     },
     "metadata": {},
     "output_type": "display_data"
    }
   ],
   "source": [
    "ct='NL'\n",
    "bookings_ct = bookings[bookings['country_destination']==ct]\n",
    "ax = sns.countplot(x='booking_month', data=bookings_ct, color='lightblue')\n",
    "ax.set_title('Bookings by Month - Netherlands')"
   ]
  },
  {
   "cell_type": "code",
   "execution_count": 75,
   "metadata": {
    "collapsed": false
   },
   "outputs": [
    {
     "data": {
      "text/plain": [
       "<matplotlib.text.Text at 0x1daadda0>"
      ]
     },
     "execution_count": 75,
     "metadata": {},
     "output_type": "execute_result"
    },
    {
     "data": {
      "image/png": "[encoded data removed]",
      "text/plain": [
       "<matplotlib.figure.Figure at 0x1925cb38>"
      ]
     },
     "metadata": {},
     "output_type": "display_data"
    }
   ],
   "source": [
    "ct='AU'\n",
    "bookings_ct = bookings[bookings['country_destination']==ct]\n",
    "ax = sns.countplot(x='booking_month', data=bookings_ct, color='lightblue')\n",
    "ax.set_title('Bookings by Month - Australia')"
   ]
  },
  {
   "cell_type": "code",
   "execution_count": 76,
   "metadata": {
    "collapsed": false
   },
   "outputs": [
    {
     "data": {
      "text/plain": [
       "<matplotlib.text.Text at 0x1da9c630>"
      ]
     },
     "execution_count": 76,
     "metadata": {},
     "output_type": "execute_result"
    },
    {
     "data": {
      "image/png": "[encoded data removed]",
      "text/plain": [
       "<matplotlib.figure.Figure at 0x1c437198>"
      ]
     },
     "metadata": {},
     "output_type": "display_data"
    }
   ],
   "source": [
    "ct='PT'\n",
    "bookings_ct = bookings[bookings['country_destination']==ct]\n",
    "ax = sns.countplot(x='booking_month', data=bookings_ct, color='lightblue')\n",
    "ax.set_title('Bookings by Month - Portugal')"
   ]
  },
  {
   "cell_type": "code",
   "execution_count": 77,
   "metadata": {
    "collapsed": false,
    "scrolled": false
   },
   "outputs": [
    {
     "data": {
      "text/plain": [
       "<matplotlib.text.Text at 0x1dc92550>"
      ]
     },
     "execution_count": 77,
     "metadata": {},
     "output_type": "execute_result"
    },
    {
     "data": {
      "image/png": "[encoded data removed]",
      "text/plain": [
       "<matplotlib.figure.Figure at 0x1dc65b38>"
      ]
     },
     "metadata": {},
     "output_type": "display_data"
    }
   ],
   "source": [
    "# Remove GI Generation, almost 0 data points\n",
    "bookings = bookings[bookings.ageGroup != 'GI Generation']\n",
    "ax = sns.countplot(x='booking_month', data=bookings, hue='ageGroup')\n",
    "ax.set_title('Bookings by Month, by Age Group')"
   ]
  },
  {
   "cell_type": "markdown",
   "metadata": {},
   "source": [
    "In summary, we are exploring hotel bookings by Americans from 2010 to 2014. We've seen a trend of younger to middle age users making the most number bookings. Amongst these bookings, the users tend to book domestically. Among international bookings, approximately half of the bookings are still in English speaking countries. Females tend to book slightly more than males, and also tend to be slightly more adventurous in their country choices. The largest demographic of bookings are from female millenials. Lets test our findinging formally. "
   ]
  },
  {
   "cell_type": "markdown",
   "metadata": {},
   "source": [
    "## Significance Testing"
   ]
  },
  {
   "cell_type": "markdown",
   "metadata": {},
   "source": [
    "We want to test the following hypotheses in order to decide which variables are significant predictors of booking destinations: \n",
    "\n",
    "1. Gender\n",
    "2. Age Group\n",
    "3. Booking Year\n",
    "4. Booking Month\n",
    "5. International Language Preference\n",
    "6. Signup Method"
   ]
  },
  {
   "cell_type": "code",
   "execution_count": null,
   "metadata": {
    "collapsed": true
   },
   "outputs": [],
   "source": []
  },
  {
   "cell_type": "code",
   "execution_count": 78,
   "metadata": {
    "collapsed": true
   },
   "outputs": [],
   "source": [
    "from scipy import stats"
   ]
  },
  {
   "cell_type": "markdown",
   "metadata": {},
   "source": [
    "### 1. Is gender a significant predictor of booking destination? \n",
    "\n",
    "Null Hypothesis: There is no association between gender and booking destination\n",
    "\n",
    "Alternative Hypothesis: Gender is associated with booking destination.\n",
    "\n",
    "We will test this using the Chi Squared test of independence for gender and booking destination."
   ]
  },
  {
   "cell_type": "code",
   "execution_count": 79,
   "metadata": {
    "collapsed": false,
    "scrolled": true
   },
   "outputs": [
    {
     "data": {
      "text/html": [
       "<div>\n",
       "<table border=\"1\" class=\"dataframe\">\n",
       "  <thead>\n",
       "    <tr style=\"text-align: right;\">\n",
       "      <th>country_destination</th>\n",
       "      <th>AU</th>\n",
       "      <th>CA</th>\n",
       "      <th>DE</th>\n",
       "      <th>ES</th>\n",
       "      <th>FR</th>\n",
       "      <th>GB</th>\n",
       "      <th>IT</th>\n",
       "      <th>NDF</th>\n",
       "      <th>NL</th>\n",
       "      <th>PT</th>\n",
       "      <th>US</th>\n",
       "    </tr>\n",
       "    <tr>\n",
       "      <th>gender</th>\n",
       "      <th></th>\n",
       "      <th></th>\n",
       "      <th></th>\n",
       "      <th></th>\n",
       "      <th></th>\n",
       "      <th></th>\n",
       "      <th></th>\n",
       "      <th></th>\n",
       "      <th></th>\n",
       "      <th></th>\n",
       "      <th></th>\n",
       "    </tr>\n",
       "  </thead>\n",
       "  <tbody>\n",
       "    <tr>\n",
       "      <th>FEMALE</th>\n",
       "      <td>194</td>\n",
       "      <td>419</td>\n",
       "      <td>324</td>\n",
       "      <td>794</td>\n",
       "      <td>1791</td>\n",
       "      <td>810</td>\n",
       "      <td>999</td>\n",
       "      <td>6196</td>\n",
       "      <td>227</td>\n",
       "      <td>70</td>\n",
       "      <td>20984</td>\n",
       "    </tr>\n",
       "    <tr>\n",
       "      <th>MALE</th>\n",
       "      <td>172</td>\n",
       "      <td>447</td>\n",
       "      <td>389</td>\n",
       "      <td>619</td>\n",
       "      <td>1238</td>\n",
       "      <td>638</td>\n",
       "      <td>640</td>\n",
       "      <td>5406</td>\n",
       "      <td>261</td>\n",
       "      <td>63</td>\n",
       "      <td>18275</td>\n",
       "    </tr>\n",
       "    <tr>\n",
       "      <th>OTHER</th>\n",
       "      <td>1</td>\n",
       "      <td>5</td>\n",
       "      <td>3</td>\n",
       "      <td>4</td>\n",
       "      <td>13</td>\n",
       "      <td>3</td>\n",
       "      <td>5</td>\n",
       "      <td>19</td>\n",
       "      <td>3</td>\n",
       "      <td>1</td>\n",
       "      <td>102</td>\n",
       "    </tr>\n",
       "  </tbody>\n",
       "</table>\n",
       "</div>"
      ],
      "text/plain": [
       "country_destination   AU   CA   DE   ES    FR   GB   IT   NDF   NL  PT     US\n",
       "gender                                                                       \n",
       "FEMALE               194  419  324  794  1791  810  999  6196  227  70  20984\n",
       "MALE                 172  447  389  619  1238  638  640  5406  261  63  18275\n",
       "OTHER                  1    5    3    4    13    3    5    19    3   1    102"
      ]
     },
     "execution_count": 79,
     "metadata": {},
     "output_type": "execute_result"
    }
   ],
   "source": [
    "pd.crosstab(bookings.gender, bookings['country_destination'])"
   ]
  },
  {
   "cell_type": "code",
   "execution_count": 80,
   "metadata": {
    "collapsed": false
   },
   "outputs": [
    {
     "data": {
      "text/plain": [
       "1.1096537783128118e-18"
      ]
     },
     "execution_count": 80,
     "metadata": {},
     "output_type": "execute_result"
    }
   ],
   "source": [
    "bookingsByGender = pd.crosstab(bookings.gender, bookings['country_destination'])\n",
    "stats.chi2_contingency(bookingsByGender, correction=True)[1]"
   ]
  },
  {
   "cell_type": "markdown",
   "metadata": {},
   "source": [
    "Our test results in a p-value close to 0 (3.4e-18). We can reject the null hypothesis with significance $\\alpha = 0.0001$ . We have evidence to believe that gender is a predictor in destination. "
   ]
  },
  {
   "cell_type": "markdown",
   "metadata": {},
   "source": [
    "### 2. Is age a significant predictor of booking destination? \n",
    "\n",
    "Null Hypothesis: There is no association between age group and booking destination\n",
    "\n",
    "Alternative Hypothesis: Age Group is associated with booking destination.\n",
    "\n",
    "We will conduct a similar test, but using our defined age groups."
   ]
  },
  {
   "cell_type": "code",
   "execution_count": 81,
   "metadata": {
    "collapsed": false
   },
   "outputs": [
    {
     "data": {
      "text/html": [
       "<div>\n",
       "<table border=\"1\" class=\"dataframe\">\n",
       "  <thead>\n",
       "    <tr style=\"text-align: right;\">\n",
       "      <th>country_destination</th>\n",
       "      <th>AU</th>\n",
       "      <th>CA</th>\n",
       "      <th>DE</th>\n",
       "      <th>ES</th>\n",
       "      <th>FR</th>\n",
       "      <th>GB</th>\n",
       "      <th>IT</th>\n",
       "      <th>NDF</th>\n",
       "      <th>NL</th>\n",
       "      <th>PT</th>\n",
       "      <th>US</th>\n",
       "    </tr>\n",
       "    <tr>\n",
       "      <th>ageGroup</th>\n",
       "      <th></th>\n",
       "      <th></th>\n",
       "      <th></th>\n",
       "      <th></th>\n",
       "      <th></th>\n",
       "      <th></th>\n",
       "      <th></th>\n",
       "      <th></th>\n",
       "      <th></th>\n",
       "      <th></th>\n",
       "      <th></th>\n",
       "    </tr>\n",
       "  </thead>\n",
       "  <tbody>\n",
       "    <tr>\n",
       "      <th>Baby Boomers</th>\n",
       "      <td>39</td>\n",
       "      <td>97</td>\n",
       "      <td>81</td>\n",
       "      <td>112</td>\n",
       "      <td>326</td>\n",
       "      <td>193</td>\n",
       "      <td>174</td>\n",
       "      <td>1229</td>\n",
       "      <td>42</td>\n",
       "      <td>15</td>\n",
       "      <td>3350</td>\n",
       "    </tr>\n",
       "    <tr>\n",
       "      <th>Generation X</th>\n",
       "      <td>170</td>\n",
       "      <td>399</td>\n",
       "      <td>306</td>\n",
       "      <td>593</td>\n",
       "      <td>1414</td>\n",
       "      <td>642</td>\n",
       "      <td>726</td>\n",
       "      <td>4900</td>\n",
       "      <td>213</td>\n",
       "      <td>51</td>\n",
       "      <td>17123</td>\n",
       "    </tr>\n",
       "    <tr>\n",
       "      <th>Millenial</th>\n",
       "      <td>155</td>\n",
       "      <td>369</td>\n",
       "      <td>323</td>\n",
       "      <td>702</td>\n",
       "      <td>1261</td>\n",
       "      <td>594</td>\n",
       "      <td>715</td>\n",
       "      <td>4935</td>\n",
       "      <td>229</td>\n",
       "      <td>66</td>\n",
       "      <td>18584</td>\n",
       "    </tr>\n",
       "    <tr>\n",
       "      <th>Silent Generation</th>\n",
       "      <td>3</td>\n",
       "      <td>6</td>\n",
       "      <td>6</td>\n",
       "      <td>10</td>\n",
       "      <td>41</td>\n",
       "      <td>22</td>\n",
       "      <td>29</td>\n",
       "      <td>112</td>\n",
       "      <td>7</td>\n",
       "      <td>2</td>\n",
       "      <td>304</td>\n",
       "    </tr>\n",
       "  </tbody>\n",
       "</table>\n",
       "</div>"
      ],
      "text/plain": [
       "country_destination   AU   CA   DE   ES    FR   GB   IT   NDF   NL  PT     US\n",
       "ageGroup                                                                     \n",
       "Baby Boomers          39   97   81  112   326  193  174  1229   42  15   3350\n",
       "Generation X         170  399  306  593  1414  642  726  4900  213  51  17123\n",
       "Millenial            155  369  323  702  1261  594  715  4935  229  66  18584\n",
       "Silent Generation      3    6    6   10    41   22   29   112    7   2    304"
      ]
     },
     "execution_count": 81,
     "metadata": {},
     "output_type": "execute_result"
    }
   ],
   "source": [
    "pd.crosstab(bookings.ageGroup, bookings['country_destination'])"
   ]
  },
  {
   "cell_type": "code",
   "execution_count": 82,
   "metadata": {
    "collapsed": false,
    "scrolled": true
   },
   "outputs": [
    {
     "data": {
      "text/plain": [
       "2.8919229217740425e-28"
      ]
     },
     "execution_count": 82,
     "metadata": {},
     "output_type": "execute_result"
    }
   ],
   "source": [
    "bookingsByAge = pd.crosstab(bookings.ageGroup, bookings['country_destination'])\n",
    "stats.chi2_contingency(bookingsByAge, correction=True)[1]"
   ]
  },
  {
   "cell_type": "markdown",
   "metadata": {},
   "source": [
    "Again, our test results in a p-value close to 0 (1.5e-28). We can reject the null hypothesis with significance $\\alpha = 0.0001$ . We have evidence to believe that age group is a predictor in destination. "
   ]
  },
  {
   "cell_type": "markdown",
   "metadata": {},
   "source": [
    "### 3. Is booking year a significant predictor of booking destination? \n",
    "\n",
    "Null Hypothesis: There is no association between booking year and booking destination\n",
    "\n",
    "Alternative Hypothesis: Booking year is associated with booking destination.\n",
    "\n",
    "In other words, were the booking distributions different year to year due to the global political climate or current events? "
   ]
  },
  {
   "cell_type": "code",
   "execution_count": 83,
   "metadata": {
    "collapsed": false
   },
   "outputs": [
    {
     "data": {
      "text/html": [
       "<div>\n",
       "<table border=\"1\" class=\"dataframe\">\n",
       "  <thead>\n",
       "    <tr style=\"text-align: right;\">\n",
       "      <th>country_destination</th>\n",
       "      <th>AU</th>\n",
       "      <th>CA</th>\n",
       "      <th>DE</th>\n",
       "      <th>ES</th>\n",
       "      <th>FR</th>\n",
       "      <th>GB</th>\n",
       "      <th>IT</th>\n",
       "      <th>NL</th>\n",
       "      <th>PT</th>\n",
       "      <th>US</th>\n",
       "    </tr>\n",
       "    <tr>\n",
       "      <th>booking_year</th>\n",
       "      <th></th>\n",
       "      <th></th>\n",
       "      <th></th>\n",
       "      <th></th>\n",
       "      <th></th>\n",
       "      <th></th>\n",
       "      <th></th>\n",
       "      <th></th>\n",
       "      <th></th>\n",
       "      <th></th>\n",
       "    </tr>\n",
       "  </thead>\n",
       "  <tbody>\n",
       "    <tr>\n",
       "      <th>2010.0</th>\n",
       "      <td>3</td>\n",
       "      <td>13</td>\n",
       "      <td>9</td>\n",
       "      <td>19</td>\n",
       "      <td>58</td>\n",
       "      <td>8</td>\n",
       "      <td>13</td>\n",
       "      <td>5</td>\n",
       "      <td>0</td>\n",
       "      <td>489</td>\n",
       "    </tr>\n",
       "    <tr>\n",
       "      <th>2011.0</th>\n",
       "      <td>19</td>\n",
       "      <td>60</td>\n",
       "      <td>47</td>\n",
       "      <td>87</td>\n",
       "      <td>213</td>\n",
       "      <td>83</td>\n",
       "      <td>81</td>\n",
       "      <td>34</td>\n",
       "      <td>11</td>\n",
       "      <td>2146</td>\n",
       "    </tr>\n",
       "    <tr>\n",
       "      <th>2012.0</th>\n",
       "      <td>73</td>\n",
       "      <td>190</td>\n",
       "      <td>180</td>\n",
       "      <td>306</td>\n",
       "      <td>667</td>\n",
       "      <td>336</td>\n",
       "      <td>373</td>\n",
       "      <td>98</td>\n",
       "      <td>25</td>\n",
       "      <td>7518</td>\n",
       "    </tr>\n",
       "    <tr>\n",
       "      <th>2013.0</th>\n",
       "      <td>143</td>\n",
       "      <td>281</td>\n",
       "      <td>270</td>\n",
       "      <td>511</td>\n",
       "      <td>1123</td>\n",
       "      <td>515</td>\n",
       "      <td>570</td>\n",
       "      <td>175</td>\n",
       "      <td>46</td>\n",
       "      <td>13737</td>\n",
       "    </tr>\n",
       "    <tr>\n",
       "      <th>2014.0</th>\n",
       "      <td>120</td>\n",
       "      <td>315</td>\n",
       "      <td>203</td>\n",
       "      <td>481</td>\n",
       "      <td>933</td>\n",
       "      <td>477</td>\n",
       "      <td>587</td>\n",
       "      <td>169</td>\n",
       "      <td>48</td>\n",
       "      <td>14482</td>\n",
       "    </tr>\n",
       "    <tr>\n",
       "      <th>2015.0</th>\n",
       "      <td>9</td>\n",
       "      <td>12</td>\n",
       "      <td>7</td>\n",
       "      <td>13</td>\n",
       "      <td>48</td>\n",
       "      <td>32</td>\n",
       "      <td>20</td>\n",
       "      <td>10</td>\n",
       "      <td>4</td>\n",
       "      <td>989</td>\n",
       "    </tr>\n",
       "  </tbody>\n",
       "</table>\n",
       "</div>"
      ],
      "text/plain": [
       "country_destination   AU   CA   DE   ES    FR   GB   IT   NL  PT     US\n",
       "booking_year                                                           \n",
       "2010.0                 3   13    9   19    58    8   13    5   0    489\n",
       "2011.0                19   60   47   87   213   83   81   34  11   2146\n",
       "2012.0                73  190  180  306   667  336  373   98  25   7518\n",
       "2013.0               143  281  270  511  1123  515  570  175  46  13737\n",
       "2014.0               120  315  203  481   933  477  587  169  48  14482\n",
       "2015.0                 9   12    7   13    48   32   20   10   4    989"
      ]
     },
     "execution_count": 83,
     "metadata": {},
     "output_type": "execute_result"
    }
   ],
   "source": [
    "pd.crosstab(bookings['booking_year'], bookings['country_destination'])"
   ]
  },
  {
   "cell_type": "code",
   "execution_count": 84,
   "metadata": {
    "collapsed": false,
    "scrolled": true
   },
   "outputs": [
    {
     "data": {
      "text/plain": [
       "4.8792187752996621e-20"
      ]
     },
     "execution_count": 84,
     "metadata": {},
     "output_type": "execute_result"
    }
   ],
   "source": [
    "bookingsByYear = pd.crosstab(bookings['booking_year'], bookings['country_destination'])\n",
    "stats.chi2_contingency(bookingsByYear, correction=True)[1]"
   ]
  },
  {
   "cell_type": "markdown",
   "metadata": {},
   "source": [
    "Once again, our test results in a p-value close to 0 (4.7e-19). We can reject the null hypothesis with significance $\\alpha = 0.0001$ . We have evidence to believe that booking year is a predictor in destination. "
   ]
  },
  {
   "cell_type": "markdown",
   "metadata": {},
   "source": [
    "### 4. Is booking month a significant predictor of booking destination? \n",
    "\n",
    "\n",
    "Null Hypothesis: There is no association between booking month and booking destination\n",
    "\n",
    "Alternative Hypothesis: Booking month is associated with booking destination.\n"
   ]
  },
  {
   "cell_type": "code",
   "execution_count": 85,
   "metadata": {
    "collapsed": false
   },
   "outputs": [
    {
     "data": {
      "text/html": [
       "<div>\n",
       "<table border=\"1\" class=\"dataframe\">\n",
       "  <thead>\n",
       "    <tr style=\"text-align: right;\">\n",
       "      <th>country_destination</th>\n",
       "      <th>AU</th>\n",
       "      <th>CA</th>\n",
       "      <th>DE</th>\n",
       "      <th>ES</th>\n",
       "      <th>FR</th>\n",
       "      <th>GB</th>\n",
       "      <th>IT</th>\n",
       "      <th>NL</th>\n",
       "      <th>PT</th>\n",
       "      <th>US</th>\n",
       "    </tr>\n",
       "    <tr>\n",
       "      <th>booking_month</th>\n",
       "      <th></th>\n",
       "      <th></th>\n",
       "      <th></th>\n",
       "      <th></th>\n",
       "      <th></th>\n",
       "      <th></th>\n",
       "      <th></th>\n",
       "      <th></th>\n",
       "      <th></th>\n",
       "      <th></th>\n",
       "    </tr>\n",
       "  </thead>\n",
       "  <tbody>\n",
       "    <tr>\n",
       "      <th>1.0</th>\n",
       "      <td>37</td>\n",
       "      <td>29</td>\n",
       "      <td>39</td>\n",
       "      <td>64</td>\n",
       "      <td>186</td>\n",
       "      <td>102</td>\n",
       "      <td>102</td>\n",
       "      <td>20</td>\n",
       "      <td>6</td>\n",
       "      <td>3042</td>\n",
       "    </tr>\n",
       "    <tr>\n",
       "      <th>2.0</th>\n",
       "      <td>36</td>\n",
       "      <td>49</td>\n",
       "      <td>44</td>\n",
       "      <td>101</td>\n",
       "      <td>230</td>\n",
       "      <td>109</td>\n",
       "      <td>117</td>\n",
       "      <td>30</td>\n",
       "      <td>12</td>\n",
       "      <td>2969</td>\n",
       "    </tr>\n",
       "    <tr>\n",
       "      <th>3.0</th>\n",
       "      <td>42</td>\n",
       "      <td>57</td>\n",
       "      <td>54</td>\n",
       "      <td>131</td>\n",
       "      <td>311</td>\n",
       "      <td>131</td>\n",
       "      <td>164</td>\n",
       "      <td>43</td>\n",
       "      <td>11</td>\n",
       "      <td>3627</td>\n",
       "    </tr>\n",
       "    <tr>\n",
       "      <th>4.0</th>\n",
       "      <td>24</td>\n",
       "      <td>98</td>\n",
       "      <td>71</td>\n",
       "      <td>169</td>\n",
       "      <td>337</td>\n",
       "      <td>138</td>\n",
       "      <td>197</td>\n",
       "      <td>40</td>\n",
       "      <td>16</td>\n",
       "      <td>3747</td>\n",
       "    </tr>\n",
       "    <tr>\n",
       "      <th>5.0</th>\n",
       "      <td>31</td>\n",
       "      <td>115</td>\n",
       "      <td>98</td>\n",
       "      <td>215</td>\n",
       "      <td>439</td>\n",
       "      <td>201</td>\n",
       "      <td>240</td>\n",
       "      <td>67</td>\n",
       "      <td>10</td>\n",
       "      <td>4317</td>\n",
       "    </tr>\n",
       "    <tr>\n",
       "      <th>6.0</th>\n",
       "      <td>18</td>\n",
       "      <td>137</td>\n",
       "      <td>86</td>\n",
       "      <td>222</td>\n",
       "      <td>378</td>\n",
       "      <td>195</td>\n",
       "      <td>206</td>\n",
       "      <td>75</td>\n",
       "      <td>28</td>\n",
       "      <td>4383</td>\n",
       "    </tr>\n",
       "    <tr>\n",
       "      <th>7.0</th>\n",
       "      <td>25</td>\n",
       "      <td>94</td>\n",
       "      <td>69</td>\n",
       "      <td>150</td>\n",
       "      <td>207</td>\n",
       "      <td>128</td>\n",
       "      <td>162</td>\n",
       "      <td>53</td>\n",
       "      <td>7</td>\n",
       "      <td>3314</td>\n",
       "    </tr>\n",
       "    <tr>\n",
       "      <th>8.0</th>\n",
       "      <td>18</td>\n",
       "      <td>83</td>\n",
       "      <td>80</td>\n",
       "      <td>116</td>\n",
       "      <td>261</td>\n",
       "      <td>107</td>\n",
       "      <td>127</td>\n",
       "      <td>53</td>\n",
       "      <td>12</td>\n",
       "      <td>3175</td>\n",
       "    </tr>\n",
       "    <tr>\n",
       "      <th>9.0</th>\n",
       "      <td>29</td>\n",
       "      <td>66</td>\n",
       "      <td>76</td>\n",
       "      <td>98</td>\n",
       "      <td>216</td>\n",
       "      <td>106</td>\n",
       "      <td>127</td>\n",
       "      <td>35</td>\n",
       "      <td>11</td>\n",
       "      <td>2958</td>\n",
       "    </tr>\n",
       "    <tr>\n",
       "      <th>10.0</th>\n",
       "      <td>32</td>\n",
       "      <td>48</td>\n",
       "      <td>33</td>\n",
       "      <td>80</td>\n",
       "      <td>185</td>\n",
       "      <td>87</td>\n",
       "      <td>85</td>\n",
       "      <td>35</td>\n",
       "      <td>10</td>\n",
       "      <td>2887</td>\n",
       "    </tr>\n",
       "    <tr>\n",
       "      <th>11.0</th>\n",
       "      <td>41</td>\n",
       "      <td>52</td>\n",
       "      <td>35</td>\n",
       "      <td>38</td>\n",
       "      <td>145</td>\n",
       "      <td>86</td>\n",
       "      <td>67</td>\n",
       "      <td>20</td>\n",
       "      <td>6</td>\n",
       "      <td>2436</td>\n",
       "    </tr>\n",
       "    <tr>\n",
       "      <th>12.0</th>\n",
       "      <td>34</td>\n",
       "      <td>43</td>\n",
       "      <td>31</td>\n",
       "      <td>33</td>\n",
       "      <td>147</td>\n",
       "      <td>61</td>\n",
       "      <td>50</td>\n",
       "      <td>20</td>\n",
       "      <td>5</td>\n",
       "      <td>2506</td>\n",
       "    </tr>\n",
       "  </tbody>\n",
       "</table>\n",
       "</div>"
      ],
      "text/plain": [
       "country_destination  AU   CA  DE   ES   FR   GB   IT  NL  PT    US\n",
       "booking_month                                                     \n",
       "1.0                  37   29  39   64  186  102  102  20   6  3042\n",
       "2.0                  36   49  44  101  230  109  117  30  12  2969\n",
       "3.0                  42   57  54  131  311  131  164  43  11  3627\n",
       "4.0                  24   98  71  169  337  138  197  40  16  3747\n",
       "5.0                  31  115  98  215  439  201  240  67  10  4317\n",
       "6.0                  18  137  86  222  378  195  206  75  28  4383\n",
       "7.0                  25   94  69  150  207  128  162  53   7  3314\n",
       "8.0                  18   83  80  116  261  107  127  53  12  3175\n",
       "9.0                  29   66  76   98  216  106  127  35  11  2958\n",
       "10.0                 32   48  33   80  185   87   85  35  10  2887\n",
       "11.0                 41   52  35   38  145   86   67  20   6  2436\n",
       "12.0                 34   43  31   33  147   61   50  20   5  2506"
      ]
     },
     "execution_count": 85,
     "metadata": {},
     "output_type": "execute_result"
    }
   ],
   "source": [
    "pd.crosstab(bookings['booking_month'], bookings['country_destination'])"
   ]
  },
  {
   "cell_type": "code",
   "execution_count": 86,
   "metadata": {
    "collapsed": false,
    "scrolled": false
   },
   "outputs": [
    {
     "data": {
      "text/plain": [
       "3.0487612557466978e-63"
      ]
     },
     "execution_count": 86,
     "metadata": {},
     "output_type": "execute_result"
    }
   ],
   "source": [
    "bookingsByMonth = pd.crosstab(bookings['booking_month'], bookings['country_destination'])\n",
    "stats.chi2_contingency(bookingsByMonth, correction=True)[1]"
   ]
  },
  {
   "cell_type": "markdown",
   "metadata": {},
   "source": [
    "Again, our test results in a p-value close to 0 (3.8e-63, our most significant test so far). We can reject the null hypothesis with significance $\\alpha = 0.0001$ . We have evidence to believe that booking month is a predictor in destination. "
   ]
  },
  {
   "cell_type": "markdown",
   "metadata": {},
   "source": [
    "### 5. Is international language preference a significant predictor of booking destination? \n",
    "\n",
    "\n",
    "Null Hypothesis: There is no association between international language preference and booking destination\n",
    "\n",
    "Alternative Hypothesis: International language preference is associated with booking destination."
   ]
  },
  {
   "cell_type": "code",
   "execution_count": 87,
   "metadata": {
    "collapsed": false
   },
   "outputs": [
    {
     "data": {
      "text/html": [
       "<div>\n",
       "<table border=\"1\" class=\"dataframe\">\n",
       "  <thead>\n",
       "    <tr style=\"text-align: right;\">\n",
       "      <th>country_destination</th>\n",
       "      <th>AU</th>\n",
       "      <th>CA</th>\n",
       "      <th>DE</th>\n",
       "      <th>ES</th>\n",
       "      <th>FR</th>\n",
       "      <th>GB</th>\n",
       "      <th>IT</th>\n",
       "      <th>NDF</th>\n",
       "      <th>NL</th>\n",
       "      <th>PT</th>\n",
       "      <th>US</th>\n",
       "    </tr>\n",
       "    <tr>\n",
       "      <th>language</th>\n",
       "      <th></th>\n",
       "      <th></th>\n",
       "      <th></th>\n",
       "      <th></th>\n",
       "      <th></th>\n",
       "      <th></th>\n",
       "      <th></th>\n",
       "      <th></th>\n",
       "      <th></th>\n",
       "      <th></th>\n",
       "      <th></th>\n",
       "    </tr>\n",
       "  </thead>\n",
       "  <tbody>\n",
       "    <tr>\n",
       "      <th>ca</th>\n",
       "      <td>0</td>\n",
       "      <td>0</td>\n",
       "      <td>0</td>\n",
       "      <td>0</td>\n",
       "      <td>0</td>\n",
       "      <td>0</td>\n",
       "      <td>0</td>\n",
       "      <td>0</td>\n",
       "      <td>0</td>\n",
       "      <td>0</td>\n",
       "      <td>2</td>\n",
       "    </tr>\n",
       "    <tr>\n",
       "      <th>cs</th>\n",
       "      <td>0</td>\n",
       "      <td>0</td>\n",
       "      <td>0</td>\n",
       "      <td>1</td>\n",
       "      <td>0</td>\n",
       "      <td>0</td>\n",
       "      <td>0</td>\n",
       "      <td>7</td>\n",
       "      <td>0</td>\n",
       "      <td>0</td>\n",
       "      <td>3</td>\n",
       "    </tr>\n",
       "    <tr>\n",
       "      <th>da</th>\n",
       "      <td>0</td>\n",
       "      <td>0</td>\n",
       "      <td>0</td>\n",
       "      <td>2</td>\n",
       "      <td>0</td>\n",
       "      <td>0</td>\n",
       "      <td>1</td>\n",
       "      <td>14</td>\n",
       "      <td>0</td>\n",
       "      <td>0</td>\n",
       "      <td>11</td>\n",
       "    </tr>\n",
       "    <tr>\n",
       "      <th>de</th>\n",
       "      <td>2</td>\n",
       "      <td>0</td>\n",
       "      <td>17</td>\n",
       "      <td>6</td>\n",
       "      <td>6</td>\n",
       "      <td>2</td>\n",
       "      <td>5</td>\n",
       "      <td>93</td>\n",
       "      <td>2</td>\n",
       "      <td>1</td>\n",
       "      <td>114</td>\n",
       "    </tr>\n",
       "    <tr>\n",
       "      <th>el</th>\n",
       "      <td>0</td>\n",
       "      <td>0</td>\n",
       "      <td>0</td>\n",
       "      <td>2</td>\n",
       "      <td>1</td>\n",
       "      <td>0</td>\n",
       "      <td>0</td>\n",
       "      <td>2</td>\n",
       "      <td>0</td>\n",
       "      <td>0</td>\n",
       "      <td>2</td>\n",
       "    </tr>\n",
       "    <tr>\n",
       "      <th>en</th>\n",
       "      <td>363</td>\n",
       "      <td>861</td>\n",
       "      <td>684</td>\n",
       "      <td>1363</td>\n",
       "      <td>2957</td>\n",
       "      <td>1425</td>\n",
       "      <td>1601</td>\n",
       "      <td>23874</td>\n",
       "      <td>479</td>\n",
       "      <td>130</td>\n",
       "      <td>38317</td>\n",
       "    </tr>\n",
       "    <tr>\n",
       "      <th>es</th>\n",
       "      <td>0</td>\n",
       "      <td>0</td>\n",
       "      <td>4</td>\n",
       "      <td>13</td>\n",
       "      <td>8</td>\n",
       "      <td>4</td>\n",
       "      <td>6</td>\n",
       "      <td>124</td>\n",
       "      <td>1</td>\n",
       "      <td>1</td>\n",
       "      <td>129</td>\n",
       "    </tr>\n",
       "    <tr>\n",
       "      <th>fi</th>\n",
       "      <td>0</td>\n",
       "      <td>0</td>\n",
       "      <td>0</td>\n",
       "      <td>0</td>\n",
       "      <td>1</td>\n",
       "      <td>0</td>\n",
       "      <td>0</td>\n",
       "      <td>2</td>\n",
       "      <td>0</td>\n",
       "      <td>0</td>\n",
       "      <td>4</td>\n",
       "    </tr>\n",
       "    <tr>\n",
       "      <th>fr</th>\n",
       "      <td>2</td>\n",
       "      <td>5</td>\n",
       "      <td>5</td>\n",
       "      <td>10</td>\n",
       "      <td>42</td>\n",
       "      <td>7</td>\n",
       "      <td>8</td>\n",
       "      <td>150</td>\n",
       "      <td>3</td>\n",
       "      <td>2</td>\n",
       "      <td>169</td>\n",
       "    </tr>\n",
       "    <tr>\n",
       "      <th>hu</th>\n",
       "      <td>0</td>\n",
       "      <td>0</td>\n",
       "      <td>0</td>\n",
       "      <td>0</td>\n",
       "      <td>0</td>\n",
       "      <td>0</td>\n",
       "      <td>0</td>\n",
       "      <td>2</td>\n",
       "      <td>0</td>\n",
       "      <td>0</td>\n",
       "      <td>2</td>\n",
       "    </tr>\n",
       "    <tr>\n",
       "      <th>id</th>\n",
       "      <td>0</td>\n",
       "      <td>0</td>\n",
       "      <td>0</td>\n",
       "      <td>0</td>\n",
       "      <td>0</td>\n",
       "      <td>0</td>\n",
       "      <td>0</td>\n",
       "      <td>6</td>\n",
       "      <td>0</td>\n",
       "      <td>0</td>\n",
       "      <td>0</td>\n",
       "    </tr>\n",
       "    <tr>\n",
       "      <th>is</th>\n",
       "      <td>0</td>\n",
       "      <td>0</td>\n",
       "      <td>0</td>\n",
       "      <td>0</td>\n",
       "      <td>0</td>\n",
       "      <td>0</td>\n",
       "      <td>0</td>\n",
       "      <td>2</td>\n",
       "      <td>0</td>\n",
       "      <td>0</td>\n",
       "      <td>1</td>\n",
       "    </tr>\n",
       "    <tr>\n",
       "      <th>it</th>\n",
       "      <td>0</td>\n",
       "      <td>1</td>\n",
       "      <td>2</td>\n",
       "      <td>4</td>\n",
       "      <td>3</td>\n",
       "      <td>3</td>\n",
       "      <td>11</td>\n",
       "      <td>91</td>\n",
       "      <td>1</td>\n",
       "      <td>0</td>\n",
       "      <td>46</td>\n",
       "    </tr>\n",
       "    <tr>\n",
       "      <th>ja</th>\n",
       "      <td>0</td>\n",
       "      <td>1</td>\n",
       "      <td>0</td>\n",
       "      <td>1</td>\n",
       "      <td>3</td>\n",
       "      <td>2</td>\n",
       "      <td>1</td>\n",
       "      <td>31</td>\n",
       "      <td>0</td>\n",
       "      <td>0</td>\n",
       "      <td>40</td>\n",
       "    </tr>\n",
       "    <tr>\n",
       "      <th>ko</th>\n",
       "      <td>0</td>\n",
       "      <td>1</td>\n",
       "      <td>0</td>\n",
       "      <td>2</td>\n",
       "      <td>6</td>\n",
       "      <td>2</td>\n",
       "      <td>3</td>\n",
       "      <td>116</td>\n",
       "      <td>1</td>\n",
       "      <td>0</td>\n",
       "      <td>97</td>\n",
       "    </tr>\n",
       "    <tr>\n",
       "      <th>nl</th>\n",
       "      <td>0</td>\n",
       "      <td>0</td>\n",
       "      <td>1</td>\n",
       "      <td>0</td>\n",
       "      <td>2</td>\n",
       "      <td>0</td>\n",
       "      <td>0</td>\n",
       "      <td>9</td>\n",
       "      <td>1</td>\n",
       "      <td>0</td>\n",
       "      <td>11</td>\n",
       "    </tr>\n",
       "    <tr>\n",
       "      <th>no</th>\n",
       "      <td>0</td>\n",
       "      <td>0</td>\n",
       "      <td>0</td>\n",
       "      <td>0</td>\n",
       "      <td>0</td>\n",
       "      <td>2</td>\n",
       "      <td>0</td>\n",
       "      <td>2</td>\n",
       "      <td>0</td>\n",
       "      <td>0</td>\n",
       "      <td>8</td>\n",
       "    </tr>\n",
       "    <tr>\n",
       "      <th>pl</th>\n",
       "      <td>0</td>\n",
       "      <td>0</td>\n",
       "      <td>0</td>\n",
       "      <td>2</td>\n",
       "      <td>1</td>\n",
       "      <td>0</td>\n",
       "      <td>1</td>\n",
       "      <td>8</td>\n",
       "      <td>0</td>\n",
       "      <td>0</td>\n",
       "      <td>5</td>\n",
       "    </tr>\n",
       "    <tr>\n",
       "      <th>pt</th>\n",
       "      <td>0</td>\n",
       "      <td>0</td>\n",
       "      <td>0</td>\n",
       "      <td>1</td>\n",
       "      <td>0</td>\n",
       "      <td>0</td>\n",
       "      <td>0</td>\n",
       "      <td>28</td>\n",
       "      <td>1</td>\n",
       "      <td>0</td>\n",
       "      <td>35</td>\n",
       "    </tr>\n",
       "    <tr>\n",
       "      <th>ru</th>\n",
       "      <td>0</td>\n",
       "      <td>1</td>\n",
       "      <td>1</td>\n",
       "      <td>6</td>\n",
       "      <td>4</td>\n",
       "      <td>1</td>\n",
       "      <td>4</td>\n",
       "      <td>60</td>\n",
       "      <td>0</td>\n",
       "      <td>0</td>\n",
       "      <td>55</td>\n",
       "    </tr>\n",
       "    <tr>\n",
       "      <th>sv</th>\n",
       "      <td>0</td>\n",
       "      <td>0</td>\n",
       "      <td>0</td>\n",
       "      <td>2</td>\n",
       "      <td>0</td>\n",
       "      <td>0</td>\n",
       "      <td>0</td>\n",
       "      <td>20</td>\n",
       "      <td>2</td>\n",
       "      <td>0</td>\n",
       "      <td>23</td>\n",
       "    </tr>\n",
       "    <tr>\n",
       "      <th>th</th>\n",
       "      <td>0</td>\n",
       "      <td>0</td>\n",
       "      <td>0</td>\n",
       "      <td>0</td>\n",
       "      <td>0</td>\n",
       "      <td>0</td>\n",
       "      <td>0</td>\n",
       "      <td>5</td>\n",
       "      <td>0</td>\n",
       "      <td>0</td>\n",
       "      <td>2</td>\n",
       "    </tr>\n",
       "    <tr>\n",
       "      <th>tr</th>\n",
       "      <td>0</td>\n",
       "      <td>0</td>\n",
       "      <td>0</td>\n",
       "      <td>0</td>\n",
       "      <td>1</td>\n",
       "      <td>0</td>\n",
       "      <td>1</td>\n",
       "      <td>11</td>\n",
       "      <td>0</td>\n",
       "      <td>0</td>\n",
       "      <td>10</td>\n",
       "    </tr>\n",
       "    <tr>\n",
       "      <th>zh</th>\n",
       "      <td>0</td>\n",
       "      <td>1</td>\n",
       "      <td>2</td>\n",
       "      <td>2</td>\n",
       "      <td>7</td>\n",
       "      <td>3</td>\n",
       "      <td>2</td>\n",
       "      <td>247</td>\n",
       "      <td>0</td>\n",
       "      <td>0</td>\n",
       "      <td>275</td>\n",
       "    </tr>\n",
       "  </tbody>\n",
       "</table>\n",
       "</div>"
      ],
      "text/plain": [
       "country_destination   AU   CA   DE    ES    FR    GB    IT    NDF   NL   PT  \\\n",
       "language                                                                      \n",
       "ca                     0    0    0     0     0     0     0      0    0    0   \n",
       "cs                     0    0    0     1     0     0     0      7    0    0   \n",
       "da                     0    0    0     2     0     0     1     14    0    0   \n",
       "de                     2    0   17     6     6     2     5     93    2    1   \n",
       "el                     0    0    0     2     1     0     0      2    0    0   \n",
       "en                   363  861  684  1363  2957  1425  1601  23874  479  130   \n",
       "es                     0    0    4    13     8     4     6    124    1    1   \n",
       "fi                     0    0    0     0     1     0     0      2    0    0   \n",
       "fr                     2    5    5    10    42     7     8    150    3    2   \n",
       "hu                     0    0    0     0     0     0     0      2    0    0   \n",
       "id                     0    0    0     0     0     0     0      6    0    0   \n",
       "is                     0    0    0     0     0     0     0      2    0    0   \n",
       "it                     0    1    2     4     3     3    11     91    1    0   \n",
       "ja                     0    1    0     1     3     2     1     31    0    0   \n",
       "ko                     0    1    0     2     6     2     3    116    1    0   \n",
       "nl                     0    0    1     0     2     0     0      9    1    0   \n",
       "no                     0    0    0     0     0     2     0      2    0    0   \n",
       "pl                     0    0    0     2     1     0     1      8    0    0   \n",
       "pt                     0    0    0     1     0     0     0     28    1    0   \n",
       "ru                     0    1    1     6     4     1     4     60    0    0   \n",
       "sv                     0    0    0     2     0     0     0     20    2    0   \n",
       "th                     0    0    0     0     0     0     0      5    0    0   \n",
       "tr                     0    0    0     0     1     0     1     11    0    0   \n",
       "zh                     0    1    2     2     7     3     2    247    0    0   \n",
       "\n",
       "country_destination     US  \n",
       "language                    \n",
       "ca                       2  \n",
       "cs                       3  \n",
       "da                      11  \n",
       "de                     114  \n",
       "el                       2  \n",
       "en                   38317  \n",
       "es                     129  \n",
       "fi                       4  \n",
       "fr                     169  \n",
       "hu                       2  \n",
       "id                       0  \n",
       "is                       1  \n",
       "it                      46  \n",
       "ja                      40  \n",
       "ko                      97  \n",
       "nl                      11  \n",
       "no                       8  \n",
       "pl                       5  \n",
       "pt                      35  \n",
       "ru                      55  \n",
       "sv                      23  \n",
       "th                       2  \n",
       "tr                      10  \n",
       "zh                     275  "
      ]
     },
     "execution_count": 87,
     "metadata": {},
     "output_type": "execute_result"
    }
   ],
   "source": [
    "pd.crosstab(bookings.language, bookings['country_destination'])\n"
   ]
  },
  {
   "cell_type": "code",
   "execution_count": 88,
   "metadata": {
    "collapsed": false
   },
   "outputs": [
    {
     "data": {
      "text/plain": [
       "2.1346780918341436e-26"
      ]
     },
     "execution_count": 88,
     "metadata": {},
     "output_type": "execute_result"
    }
   ],
   "source": [
    "bookingsByLanguage = pd.crosstab(bookings.language=='en', bookings['country_destination'])\n",
    "stats.chi2_contingency(bookingsByLanguage, correction=True)[1]"
   ]
  },
  {
   "cell_type": "markdown",
   "metadata": {},
   "source": [
    "We can reject the null hypothesis with significance $\\alpha = 0.001$. Note, when actually conducting the independence test, we test for language preference of English or Not English due to the limited number of data points with non English international language preference."
   ]
  },
  {
   "cell_type": "markdown",
   "metadata": {},
   "source": [
    "### 6. Is signup method a significant predictor of booking destination? \n",
    "\n",
    "Did the fact that the user signed up through the website, google, or facebook have an association with the destination country?\n",
    "\n",
    "\n",
    "Null Hypothesis: There is no association between signup method and booking destination\n",
    "\n",
    "Alternative Hypothesis: Signup method is associated with booking destination."
   ]
  },
  {
   "cell_type": "code",
   "execution_count": 89,
   "metadata": {
    "collapsed": false
   },
   "outputs": [
    {
     "data": {
      "text/html": [
       "<div>\n",
       "<table border=\"1\" class=\"dataframe\">\n",
       "  <thead>\n",
       "    <tr style=\"text-align: right;\">\n",
       "      <th>country_destination</th>\n",
       "      <th>AU</th>\n",
       "      <th>CA</th>\n",
       "      <th>DE</th>\n",
       "      <th>ES</th>\n",
       "      <th>FR</th>\n",
       "      <th>GB</th>\n",
       "      <th>IT</th>\n",
       "      <th>NDF</th>\n",
       "      <th>NL</th>\n",
       "      <th>PT</th>\n",
       "      <th>US</th>\n",
       "    </tr>\n",
       "    <tr>\n",
       "      <th>signup_method</th>\n",
       "      <th></th>\n",
       "      <th></th>\n",
       "      <th></th>\n",
       "      <th></th>\n",
       "      <th></th>\n",
       "      <th></th>\n",
       "      <th></th>\n",
       "      <th></th>\n",
       "      <th></th>\n",
       "      <th></th>\n",
       "      <th></th>\n",
       "    </tr>\n",
       "  </thead>\n",
       "  <tbody>\n",
       "    <tr>\n",
       "      <th>basic</th>\n",
       "      <td>228</td>\n",
       "      <td>561</td>\n",
       "      <td>404</td>\n",
       "      <td>801</td>\n",
       "      <td>1843</td>\n",
       "      <td>878</td>\n",
       "      <td>996</td>\n",
       "      <td>17516</td>\n",
       "      <td>300</td>\n",
       "      <td>71</td>\n",
       "      <td>23230</td>\n",
       "    </tr>\n",
       "    <tr>\n",
       "      <th>facebook</th>\n",
       "      <td>139</td>\n",
       "      <td>309</td>\n",
       "      <td>311</td>\n",
       "      <td>615</td>\n",
       "      <td>1198</td>\n",
       "      <td>573</td>\n",
       "      <td>647</td>\n",
       "      <td>7288</td>\n",
       "      <td>191</td>\n",
       "      <td>62</td>\n",
       "      <td>16092</td>\n",
       "    </tr>\n",
       "    <tr>\n",
       "      <th>google</th>\n",
       "      <td>0</td>\n",
       "      <td>1</td>\n",
       "      <td>1</td>\n",
       "      <td>1</td>\n",
       "      <td>1</td>\n",
       "      <td>0</td>\n",
       "      <td>1</td>\n",
       "      <td>100</td>\n",
       "      <td>0</td>\n",
       "      <td>1</td>\n",
       "      <td>39</td>\n",
       "    </tr>\n",
       "  </tbody>\n",
       "</table>\n",
       "</div>"
      ],
      "text/plain": [
       "country_destination   AU   CA   DE   ES    FR   GB   IT    NDF   NL  PT     US\n",
       "signup_method                                                                 \n",
       "basic                228  561  404  801  1843  878  996  17516  300  71  23230\n",
       "facebook             139  309  311  615  1198  573  647   7288  191  62  16092\n",
       "google                 0    1    1    1     1    0    1    100    0   1     39"
      ]
     },
     "execution_count": 89,
     "metadata": {},
     "output_type": "execute_result"
    }
   ],
   "source": [
    "pd.crosstab(bookings['signup_method'], bookings['country_destination'])"
   ]
  },
  {
   "cell_type": "code",
   "execution_count": 90,
   "metadata": {
    "collapsed": false,
    "scrolled": false
   },
   "outputs": [
    {
     "data": {
      "text/plain": [
       "3.9700790921015745e-195"
      ]
     },
     "execution_count": 90,
     "metadata": {},
     "output_type": "execute_result"
    }
   ],
   "source": [
    "bookingsBySignup = pd.crosstab(bookings['signup_method'], bookings['country_destination'])\n",
    "bookingsBySignup = bookingsBySignup.transpose()[['basic', 'facebook']]\n",
    "stats.chi2_contingency(bookingsBySignup, correction=True)[1]"
   ]
  },
  {
   "cell_type": "markdown",
   "metadata": {},
   "source": [
    "We exclude Google due to the limited data points. We can reject the null hypothesis with significance $\\alpha = 0.01$, but not $\\alpha = 0.001$. We have evidence to believe that signup is a predictor in destination, but our evidence is not as strong as the previous tests. "
   ]
  },
  {
   "cell_type": "markdown",
   "metadata": {},
   "source": []
  },
  {
   "cell_type": "markdown",
   "metadata": {},
   "source": [
    "# Modeling\n",
    "\n",
    "We will now attempt to build a predictive model using the six variables we deemed predictors of country destintation with statistical significance. Summary of the variables:\n",
    "\n",
    "\n",
    "1. Gender (Male, Female, Other)\n",
    "2. Age Group (Baby Boomers, Gen X, Millenial, Silent Generation) \n",
    "3. Booking Year (2010-2015)\n",
    "4. Booking Month (1-12)\n",
    "5. International Language Preference (binary, English or not English)\n",
    "6. Signup Method (Basic or Facebook)\n"
   ]
  },
  {
   "cell_type": "markdown",
   "metadata": {},
   "source": [
    "## Multinomial Logistic Regression"
   ]
  },
  {
   "cell_type": "markdown",
   "metadata": {},
   "source": [
    "http://scikit-learn.org/stable/modules/generated/sklearn.linear_model.LogisticRegression.html"
   ]
  },
  {
   "cell_type": "code",
   "execution_count": 198,
   "metadata": {
    "collapsed": false
   },
   "outputs": [],
   "source": [
    "from patsy import dmatrices\n",
    "from patsy import dmatrices\n",
    "from sklearn.linear_model import LogisticRegression\n",
    "from sklearn.cross_validation import train_test_split\n",
    "from sklearn import metrics\n",
    "from sklearn.metrics import accuracy_score\n",
    "from sklearn.cross_validation import cross_val_score\n"
   ]
  },
  {
   "cell_type": "code",
   "execution_count": 199,
   "metadata": {
    "collapsed": true
   },
   "outputs": [],
   "source": [
    "pred_bookings = bookings.dropna()\n",
    "y = np.array(pred_bookings.country_destination)\n",
    "yfull, X = dmatrices('country_destination ~ booking_month + booking_year',\n",
    "                  pred_bookings, return_type=\"dataframe\")"
   ]
  },
  {
   "cell_type": "code",
   "execution_count": 200,
   "metadata": {
    "collapsed": false
   },
   "outputs": [],
   "source": [
    "lr = LogisticRegression().fit(X, y)"
   ]
  },
  {
   "cell_type": "code",
   "execution_count": 201,
   "metadata": {
    "collapsed": false,
    "scrolled": false
   },
   "outputs": [
    {
     "data": {
      "text/plain": [
       "0.79526811330666347"
      ]
     },
     "execution_count": 201,
     "metadata": {},
     "output_type": "execute_result"
    }
   ],
   "source": [
    "yhat = lr.predict(X)\n",
    "accuracy_score(ytrain, yhat)"
   ]
  },
  {
   "cell_type": "code",
   "execution_count": 202,
   "metadata": {
    "collapsed": false
   },
   "outputs": [],
   "source": [
    "yfull, X = dmatrices('country_destination ~ gender+ageGroup+booking_month + booking_year+language',\n",
    "                  pred_bookings, return_type=\"dataframe\")"
   ]
  },
  {
   "cell_type": "code",
   "execution_count": 203,
   "metadata": {
    "collapsed": false
   },
   "outputs": [
    {
     "data": {
      "text/plain": [
       "0.79526811330666347"
      ]
     },
     "execution_count": 203,
     "metadata": {},
     "output_type": "execute_result"
    }
   ],
   "source": [
    "lr = LogisticRegression().fit(X, y)\n",
    "yhat = lr.predict(X)\n",
    "accuracy_score(ytrain, yhat)"
   ]
  },
  {
   "cell_type": "code",
   "execution_count": 207,
   "metadata": {
    "collapsed": false
   },
   "outputs": [
    {
     "ename": "ValueError",
     "evalue": "could not convert string to float: 'US'",
     "output_type": "error",
     "traceback": [
      "\u001b[0;31m---------------------------------------------------------------------------\u001b[0m",
      "\u001b[0;31mValueError\u001b[0m                                Traceback (most recent call last)",
      "\u001b[0;32m<ipython-input-207-f2432c1c2834>\u001b[0m in \u001b[0;36m<module>\u001b[0;34m()\u001b[0m\n\u001b[0;32m----> 1\u001b[0;31m \u001b[0mmetrics\u001b[0m\u001b[1;33m.\u001b[0m\u001b[0mr2_score\u001b[0m\u001b[1;33m(\u001b[0m\u001b[0my\u001b[0m\u001b[1;33m,\u001b[0m \u001b[0myhat\u001b[0m\u001b[1;33m)\u001b[0m\u001b[1;33m\u001b[0m\u001b[0m\n\u001b[0m",
      "\u001b[0;32mC:\\Users\\amungale\\AppData\\Local\\Continuum\\Anaconda3\\lib\\site-packages\\sklearn\\metrics\\regression.py\u001b[0m in \u001b[0;36mr2_score\u001b[0;34m(y_true, y_pred, sample_weight, multioutput)\u001b[0m\n\u001b[1;32m    453\u001b[0m     \"\"\"\n\u001b[1;32m    454\u001b[0m     y_type, y_true, y_pred, multioutput = _check_reg_targets(\n\u001b[0;32m--> 455\u001b[0;31m         y_true, y_pred, multioutput)\n\u001b[0m\u001b[1;32m    456\u001b[0m \u001b[1;33m\u001b[0m\u001b[0m\n\u001b[1;32m    457\u001b[0m     \u001b[1;32mif\u001b[0m \u001b[0msample_weight\u001b[0m \u001b[1;32mis\u001b[0m \u001b[1;32mnot\u001b[0m \u001b[1;32mNone\u001b[0m\u001b[1;33m:\u001b[0m\u001b[1;33m\u001b[0m\u001b[0m\n",
      "\u001b[0;32mC:\\Users\\amungale\\AppData\\Local\\Continuum\\Anaconda3\\lib\\site-packages\\sklearn\\metrics\\regression.py\u001b[0m in \u001b[0;36m_check_reg_targets\u001b[0;34m(y_true, y_pred, multioutput)\u001b[0m\n\u001b[1;32m     73\u001b[0m     \"\"\"\n\u001b[1;32m     74\u001b[0m     \u001b[0mcheck_consistent_length\u001b[0m\u001b[1;33m(\u001b[0m\u001b[0my_true\u001b[0m\u001b[1;33m,\u001b[0m \u001b[0my_pred\u001b[0m\u001b[1;33m)\u001b[0m\u001b[1;33m\u001b[0m\u001b[0m\n\u001b[0;32m---> 75\u001b[0;31m     \u001b[0my_true\u001b[0m \u001b[1;33m=\u001b[0m \u001b[0mcheck_array\u001b[0m\u001b[1;33m(\u001b[0m\u001b[0my_true\u001b[0m\u001b[1;33m,\u001b[0m \u001b[0mensure_2d\u001b[0m\u001b[1;33m=\u001b[0m\u001b[1;32mFalse\u001b[0m\u001b[1;33m)\u001b[0m\u001b[1;33m\u001b[0m\u001b[0m\n\u001b[0m\u001b[1;32m     76\u001b[0m     \u001b[0my_pred\u001b[0m \u001b[1;33m=\u001b[0m \u001b[0mcheck_array\u001b[0m\u001b[1;33m(\u001b[0m\u001b[0my_pred\u001b[0m\u001b[1;33m,\u001b[0m \u001b[0mensure_2d\u001b[0m\u001b[1;33m=\u001b[0m\u001b[1;32mFalse\u001b[0m\u001b[1;33m)\u001b[0m\u001b[1;33m\u001b[0m\u001b[0m\n\u001b[1;32m     77\u001b[0m \u001b[1;33m\u001b[0m\u001b[0m\n",
      "\u001b[0;32mC:\\Users\\amungale\\AppData\\Local\\Continuum\\Anaconda3\\lib\\site-packages\\sklearn\\utils\\validation.py\u001b[0m in \u001b[0;36mcheck_array\u001b[0;34m(array, accept_sparse, dtype, order, copy, force_all_finite, ensure_2d, allow_nd, ensure_min_samples, ensure_min_features, warn_on_dtype, estimator)\u001b[0m\n\u001b[1;32m    380\u001b[0m                                       force_all_finite)\n\u001b[1;32m    381\u001b[0m     \u001b[1;32melse\u001b[0m\u001b[1;33m:\u001b[0m\u001b[1;33m\u001b[0m\u001b[0m\n\u001b[0;32m--> 382\u001b[0;31m         \u001b[0marray\u001b[0m \u001b[1;33m=\u001b[0m \u001b[0mnp\u001b[0m\u001b[1;33m.\u001b[0m\u001b[0marray\u001b[0m\u001b[1;33m(\u001b[0m\u001b[0marray\u001b[0m\u001b[1;33m,\u001b[0m \u001b[0mdtype\u001b[0m\u001b[1;33m=\u001b[0m\u001b[0mdtype\u001b[0m\u001b[1;33m,\u001b[0m \u001b[0morder\u001b[0m\u001b[1;33m=\u001b[0m\u001b[0morder\u001b[0m\u001b[1;33m,\u001b[0m \u001b[0mcopy\u001b[0m\u001b[1;33m=\u001b[0m\u001b[0mcopy\u001b[0m\u001b[1;33m)\u001b[0m\u001b[1;33m\u001b[0m\u001b[0m\n\u001b[0m\u001b[1;32m    383\u001b[0m \u001b[1;33m\u001b[0m\u001b[0m\n\u001b[1;32m    384\u001b[0m         \u001b[1;32mif\u001b[0m \u001b[0mensure_2d\u001b[0m\u001b[1;33m:\u001b[0m\u001b[1;33m\u001b[0m\u001b[0m\n",
      "\u001b[0;31mValueError\u001b[0m: could not convert string to float: 'US'"
     ]
    }
   ],
   "source": [
    "metrics.r2_score(y, yhat)"
   ]
  },
  {
   "cell_type": "markdown",
   "metadata": {},
   "source": [
    "### Cross Validation"
   ]
  },
  {
   "cell_type": "code",
   "execution_count": 191,
   "metadata": {
    "collapsed": true
   },
   "outputs": [],
   "source": [
    "X_train, X_test, y_train, y_test = train_test_split(X, y, test_size=0.4, random_state=0)"
   ]
  },
  {
   "cell_type": "code",
   "execution_count": 192,
   "metadata": {
    "collapsed": false
   },
   "outputs": [
    {
     "data": {
      "text/plain": [
       "0.79412061824426705"
      ]
     },
     "execution_count": 192,
     "metadata": {},
     "output_type": "execute_result"
    }
   ],
   "source": [
    "lr = LogisticRegression().fit(X_train, y_train)\n",
    "yhat = lr.predict(X_test)\n",
    "accuracy_score(y_test, yhat)"
   ]
  },
  {
   "cell_type": "code",
   "execution_count": 195,
   "metadata": {
    "collapsed": false
   },
   "outputs": [
    {
     "data": {
      "text/plain": [
       "array([ 0.79485109,  0.79515152,  0.79539254,  0.79539254,  0.79555331])"
      ]
     },
     "execution_count": 195,
     "metadata": {},
     "output_type": "execute_result"
    }
   ],
   "source": [
    "#K fold cross validation scores\n",
    "scores = cross_val_score(lr, X, y, cv=5)\n",
    "scores"
   ]
  },
  {
   "cell_type": "code",
   "execution_count": 197,
   "metadata": {
    "collapsed": false
   },
   "outputs": [
    {
     "ename": "ValueError",
     "evalue": "Found input variables with inconsistent numbers of samples: [49494, 19798]",
     "output_type": "error",
     "traceback": [
      "\u001b[0;31m---------------------------------------------------------------------------\u001b[0m",
      "\u001b[0;31mValueError\u001b[0m                                Traceback (most recent call last)",
      "\u001b[0;32m<ipython-input-197-f2432c1c2834>\u001b[0m in \u001b[0;36m<module>\u001b[0;34m()\u001b[0m\n\u001b[0;32m----> 1\u001b[0;31m \u001b[0mmetrics\u001b[0m\u001b[1;33m.\u001b[0m\u001b[0mr2_score\u001b[0m\u001b[1;33m(\u001b[0m\u001b[0my\u001b[0m\u001b[1;33m,\u001b[0m \u001b[0myhat\u001b[0m\u001b[1;33m)\u001b[0m\u001b[1;33m\u001b[0m\u001b[0m\n\u001b[0m",
      "\u001b[0;32mC:\\Users\\amungale\\AppData\\Local\\Continuum\\Anaconda3\\lib\\site-packages\\sklearn\\metrics\\regression.py\u001b[0m in \u001b[0;36mr2_score\u001b[0;34m(y_true, y_pred, sample_weight, multioutput)\u001b[0m\n\u001b[1;32m    453\u001b[0m     \"\"\"\n\u001b[1;32m    454\u001b[0m     y_type, y_true, y_pred, multioutput = _check_reg_targets(\n\u001b[0;32m--> 455\u001b[0;31m         y_true, y_pred, multioutput)\n\u001b[0m\u001b[1;32m    456\u001b[0m \u001b[1;33m\u001b[0m\u001b[0m\n\u001b[1;32m    457\u001b[0m     \u001b[1;32mif\u001b[0m \u001b[0msample_weight\u001b[0m \u001b[1;32mis\u001b[0m \u001b[1;32mnot\u001b[0m \u001b[1;32mNone\u001b[0m\u001b[1;33m:\u001b[0m\u001b[1;33m\u001b[0m\u001b[0m\n",
      "\u001b[0;32mC:\\Users\\amungale\\AppData\\Local\\Continuum\\Anaconda3\\lib\\site-packages\\sklearn\\metrics\\regression.py\u001b[0m in \u001b[0;36m_check_reg_targets\u001b[0;34m(y_true, y_pred, multioutput)\u001b[0m\n\u001b[1;32m     72\u001b[0m \u001b[1;33m\u001b[0m\u001b[0m\n\u001b[1;32m     73\u001b[0m     \"\"\"\n\u001b[0;32m---> 74\u001b[0;31m     \u001b[0mcheck_consistent_length\u001b[0m\u001b[1;33m(\u001b[0m\u001b[0my_true\u001b[0m\u001b[1;33m,\u001b[0m \u001b[0my_pred\u001b[0m\u001b[1;33m)\u001b[0m\u001b[1;33m\u001b[0m\u001b[0m\n\u001b[0m\u001b[1;32m     75\u001b[0m     \u001b[0my_true\u001b[0m \u001b[1;33m=\u001b[0m \u001b[0mcheck_array\u001b[0m\u001b[1;33m(\u001b[0m\u001b[0my_true\u001b[0m\u001b[1;33m,\u001b[0m \u001b[0mensure_2d\u001b[0m\u001b[1;33m=\u001b[0m\u001b[1;32mFalse\u001b[0m\u001b[1;33m)\u001b[0m\u001b[1;33m\u001b[0m\u001b[0m\n\u001b[1;32m     76\u001b[0m     \u001b[0my_pred\u001b[0m \u001b[1;33m=\u001b[0m \u001b[0mcheck_array\u001b[0m\u001b[1;33m(\u001b[0m\u001b[0my_pred\u001b[0m\u001b[1;33m,\u001b[0m \u001b[0mensure_2d\u001b[0m\u001b[1;33m=\u001b[0m\u001b[1;32mFalse\u001b[0m\u001b[1;33m)\u001b[0m\u001b[1;33m\u001b[0m\u001b[0m\n",
      "\u001b[0;32mC:\\Users\\amungale\\AppData\\Local\\Continuum\\Anaconda3\\lib\\site-packages\\sklearn\\utils\\validation.py\u001b[0m in \u001b[0;36mcheck_consistent_length\u001b[0;34m(*arrays)\u001b[0m\n\u001b[1;32m    179\u001b[0m     \u001b[1;32mif\u001b[0m \u001b[0mlen\u001b[0m\u001b[1;33m(\u001b[0m\u001b[0muniques\u001b[0m\u001b[1;33m)\u001b[0m \u001b[1;33m>\u001b[0m \u001b[1;36m1\u001b[0m\u001b[1;33m:\u001b[0m\u001b[1;33m\u001b[0m\u001b[0m\n\u001b[1;32m    180\u001b[0m         raise ValueError(\"Found input variables with inconsistent numbers of\"\n\u001b[0;32m--> 181\u001b[0;31m                          \" samples: %r\" % [int(l) for l in lengths])\n\u001b[0m\u001b[1;32m    182\u001b[0m \u001b[1;33m\u001b[0m\u001b[0m\n\u001b[1;32m    183\u001b[0m \u001b[1;33m\u001b[0m\u001b[0m\n",
      "\u001b[0;31mValueError\u001b[0m: Found input variables with inconsistent numbers of samples: [49494, 19798]"
     ]
    }
   ],
   "source": []
  },
  {
   "cell_type": "code",
   "execution_count": null,
   "metadata": {
    "collapsed": true
   },
   "outputs": [],
   "source": []
  },
  {
   "cell_type": "markdown",
   "metadata": {},
   "source": [
    "# To Do / Questions\n",
    "\n",
    "\n",
    "- Modeling - doesn't work with NAs so I have to drop the NDF Columns\n",
    "- Model doesn't really improve with more variables\n",
    "- What to do with cross validation\n",
    "- updated resume with 1-2 lines about this project\n",
    "\n",
    "\n",
    "- Add another column for the activation month (why would this be an important predictor?)\n",
    "\n",
    "\n",
    "- Adjusted R^2\n",
    "- Make confusion matrix and coefficients of model  and send to Mehdi\n",
    "- Random Forest\n",
    "- GBM\n",
    "- XGBoost\n",
    "\n"
   ]
  },
  {
   "cell_type": "code",
   "execution_count": null,
   "metadata": {
    "collapsed": true
   },
   "outputs": [],
   "source": []
  }
 ],
 "metadata": {
  "anaconda-cloud": {},
  "kernelspec": {
   "display_name": "Python [default]",
   "language": "python",
   "name": "python3"
  },
  "language_info": {
   "codemirror_mode": {
    "name": "ipython",
    "version": 3
   },
   "file_extension": ".py",
   "mimetype": "text/x-python",
   "name": "python",
   "nbconvert_exporter": "python",
   "pygments_lexer": "ipython3",
   "version": "3.5.2"
  }
 },
 "nbformat": 4,
 "nbformat_minor": 1
}
